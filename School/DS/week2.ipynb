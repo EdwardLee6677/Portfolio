{
 "cells": [
  {
   "cell_type": "code",
   "execution_count": 7,
   "metadata": {},
   "outputs": [],
   "source": [
    "import this"
   ]
  },
  {
   "cell_type": "code",
   "execution_count": 8,
   "metadata": {},
   "outputs": [
    {
     "name": "stdout",
     "output_type": "stream",
     "text": [
      "Hello Edward?\n"
     ]
    }
   ],
   "source": [
    "# Hello Program (This is a comment)\n",
    "name = input(\"Your name? \")\n",
    "print(\"Hello %s?\" % name) # C-like format string: %s is for a string"
   ]
  },
  {
   "cell_type": "code",
   "execution_count": 9,
   "metadata": {},
   "outputs": [],
   "source": [
    "a = 10 + 2"
   ]
  },
  {
   "cell_type": "code",
   "execution_count": 10,
   "metadata": {},
   "outputs": [],
   "source": [
    "def addition1(first, second):\n",
    "    return first + second"
   ]
  },
  {
   "cell_type": "code",
   "execution_count": 15,
   "metadata": {},
   "outputs": [],
   "source": [
    "def addition2(first, second):\n",
    "    a = first + second\n",
    "    return a"
   ]
  },
  {
   "cell_type": "code",
   "execution_count": 16,
   "metadata": {},
   "outputs": [
    {
     "name": "stdout",
     "output_type": "stream",
     "text": [
      "12\n",
      "12\n",
      "12\n"
     ]
    }
   ],
   "source": [
    "print(a)\n",
    "print(addition1(10, 2))\n",
    "print(addition2(10, 2))"
   ]
  },
  {
   "cell_type": "code",
   "execution_count": 13,
   "metadata": {},
   "outputs": [
    {
     "name": "stdout",
     "output_type": "stream",
     "text": [
      "1024 1048576\n"
     ]
    }
   ],
   "source": [
    "k = 1024\n",
    "m = k * k\n",
    "print(k, m)"
   ]
  },
  {
   "cell_type": "code",
   "execution_count": 17,
   "metadata": {},
   "outputs": [
    {
     "name": "stdout",
     "output_type": "stream",
     "text": [
      "Hello\n"
     ]
    }
   ],
   "source": [
    "# Define a function name\n",
    "def print_hello():\n",
    "    print(\"Hello\")\n",
    "    \n",
    "# Use function name\n",
    "print_hello()"
   ]
  },
  {
   "cell_type": "code",
   "execution_count": 23,
   "metadata": {},
   "outputs": [
    {
     "name": "stdout",
     "output_type": "stream",
     "text": [
      "True\n"
     ]
    }
   ],
   "source": [
    "x= 3\n",
    "# print(x = 3)\n",
    "'''\n",
    "TypeError                                 Traceback (most recent call last)\n",
    "Cell In[21], line 2\n",
    "      1 x= 3\n",
    "----> 2 print(x = 3)\n",
    "      3 print(x == 3)\n",
    "\n",
    "TypeError: 'x' is an invalid keyword argument for print()\n",
    "'''\n",
    "print(x == 3)"
   ]
  },
  {
   "cell_type": "markdown",
   "metadata": {},
   "source": [
    "|형식|내용|\n",
    "|---|-----|\n",
    "|int|소수점X|\n",
    "|float|소수점O|\n",
    "|str|문자열|"
   ]
  },
  {
   "cell_type": "code",
   "execution_count": 26,
   "metadata": {},
   "outputs": [
    {
     "name": "stdout",
     "output_type": "stream",
     "text": [
      "Hello\n",
      "12\n",
      "0.25\n"
     ]
    }
   ],
   "source": [
    "print('Hello')\n",
    "print(12)\n",
    "print(1/4)"
   ]
  },
  {
   "cell_type": "code",
   "execution_count": 27,
   "metadata": {},
   "outputs": [
    {
     "name": "stdout",
     "output_type": "stream",
     "text": [
      "27\n"
     ]
    }
   ],
   "source": [
    "n = input('당신의 나이는?')\n",
    "print(n)"
   ]
  },
  {
   "cell_type": "code",
   "execution_count": 28,
   "metadata": {},
   "outputs": [
    {
     "name": "stdout",
     "output_type": "stream",
     "text": [
      "Edward\n"
     ]
    }
   ],
   "source": [
    "n = input('당신의 이름은?')\n",
    "print(n)"
   ]
  },
  {
   "cell_type": "code",
   "execution_count": 32,
   "metadata": {},
   "outputs": [
    {
     "name": "stdout",
     "output_type": "stream",
     "text": [
      "1+2\n",
      "3\n"
     ]
    }
   ],
   "source": [
    "n = input('입력?')\n",
    "print(n)\n",
    "print(eval(n))"
   ]
  },
  {
   "cell_type": "code",
   "execution_count": null,
   "metadata": {},
   "outputs": [],
   "source": [
    "# 들여쓰기 /n, /t"
   ]
  },
  {
   "cell_type": "code",
   "execution_count": 46,
   "metadata": {},
   "outputs": [
    {
     "name": "stdout",
     "output_type": "stream",
     "text": [
      "3.141592653589793\n",
      "n의 변수는 3.142\n",
      "n의 변수는 3.141592653589793\n",
      "\n",
      "n의 변수는 3.141592653589793\n",
      "n의 변수는 3.142\n",
      "n의 변수는 3.141592653589793\n",
      "n의 변수는 3.142\n"
     ]
    }
   ],
   "source": [
    "n = 3.141592653589793\n",
    "print(n)\n",
    "print('n의 변수는 %.3f' % n) # C-style format string: %f is for a float\n",
    "print('n의 변수는 %s' %n) # 요건 문자열\n",
    "\n",
    "print('\\nn의 변수는 {}'.format(n))\n",
    "print('n의 변수는 {:.3f}'.format(n))\n",
    "print(f'n의 변수는 {n}')\n",
    "print(f'n의 변수는 {n:.3f}')"
   ]
  },
  {
   "cell_type": "code",
   "execution_count": 49,
   "metadata": {},
   "outputs": [],
   "source": [
    "# n = int(input('입력?'))"
   ]
  },
  {
   "cell_type": "code",
   "execution_count": 66,
   "metadata": {},
   "outputs": [
    {
     "name": "stdout",
     "output_type": "stream",
     "text": [
      "aaaaa\n",
      "bbbbb\n",
      "ccccc\n",
      "ddddd\n",
      "eeeee\n"
     ]
    }
   ],
   "source": [
    "filename = 'abcd.txt'\n",
    "in_file = open(filename, 'r')\n",
    "ttt = in_file.read()\n",
    "\n",
    "print(ttt)"
   ]
  },
  {
   "cell_type": "code",
   "execution_count": 72,
   "metadata": {},
   "outputs": [
    {
     "name": "stdout",
     "output_type": "stream",
     "text": [
      "6\n"
     ]
    }
   ],
   "source": [
    "filename = 'ab.txt'\n",
    "in_file = open(filename, 'w', encoding='utf-8')\n",
    "ttt = in_file.write('하하호호히히')\n",
    "print(ttt)"
   ]
  },
  {
   "cell_type": "code",
   "execution_count": 75,
   "metadata": {},
   "outputs": [
    {
     "name": "stdout",
     "output_type": "stream",
     "text": [
      "9\n"
     ]
    }
   ],
   "source": [
    "filename = 'ab.txt'\n",
    "in_file = open(filename, 'a', encoding='utf-8')\n",
    "ttt = in_file.write('... 즐거운시간')\n",
    "print(ttt)"
   ]
  },
  {
   "cell_type": "code",
   "execution_count": 77,
   "metadata": {},
   "outputs": [
    {
     "name": "stdout",
     "output_type": "stream",
     "text": [
      "하하하\n",
      "호호호\n",
      "후후후\n",
      "히히히\n"
     ]
    }
   ],
   "source": [
    "filename = 'adc.txt'\n",
    "in_file = open(filename, 'r', encoding='utf-8')\n",
    "ttt = in_file.read()\n",
    "\n",
    "print(ttt)"
   ]
  },
  {
   "cell_type": "code",
   "execution_count": 78,
   "metadata": {},
   "outputs": [],
   "source": [
    "a = 10"
   ]
  },
  {
   "cell_type": "code",
   "execution_count": 79,
   "metadata": {},
   "outputs": [
    {
     "name": "stdout",
     "output_type": "stream",
     "text": [
      "Positive\n"
     ]
    }
   ],
   "source": [
    "if a > 0:\n",
    "    print('Positive')\n",
    "else:\n",
    "    if a == 0:\n",
    "        print('Zero')\n",
    "    else:\n",
    "        print('Negative')"
   ]
  },
  {
   "cell_type": "code",
   "execution_count": 80,
   "metadata": {},
   "outputs": [
    {
     "name": "stdout",
     "output_type": "stream",
     "text": [
      "Positive\n"
     ]
    }
   ],
   "source": [
    "if a > 0:\n",
    "    print('Positive')\n",
    "elif a == 0:\n",
    "    print('Zero')\n",
    "else:\n",
    "    print('Negative')"
   ]
  },
  {
   "cell_type": "code",
   "execution_count": 84,
   "metadata": {},
   "outputs": [
    {
     "name": "stdout",
     "output_type": "stream",
     "text": [
      "3628800\n"
     ]
    }
   ],
   "source": [
    "prod = 1\n",
    "for i in range(1, 11):\n",
    "    prod = prod*i\n",
    "print(prod)"
   ]
  },
  {
   "cell_type": "code",
   "execution_count": 85,
   "metadata": {},
   "outputs": [
    {
     "name": "stdout",
     "output_type": "stream",
     "text": [
      "3628800\n",
      "7257600\n",
      "21772800\n",
      "87091200\n",
      "435456000\n",
      "2612736000\n",
      "18289152000\n",
      "146313216000\n",
      "1316818944000\n",
      "13168189440000\n"
     ]
    }
   ],
   "source": [
    "for i in range(1, 11):\n",
    "    prod = prod*i\n",
    "    print(prod)"
   ]
  },
  {
   "cell_type": "code",
   "execution_count": 89,
   "metadata": {},
   "outputs": [
    {
     "name": "stdout",
     "output_type": "stream",
     "text": [
      "* * * * * * * * * * \n"
     ]
    }
   ],
   "source": [
    "def star10():\n",
    "    n = 10\n",
    "    while n > 0:\n",
    "        print('*', end=' ')\n",
    "        n = n - 1\n",
    "    print()\n",
    "    \n",
    "star10()"
   ]
  },
  {
   "cell_type": "code",
   "execution_count": 92,
   "metadata": {},
   "outputs": [
    {
     "name": "stdout",
     "output_type": "stream",
     "text": [
      "* * \n",
      "* * * * * \n"
     ]
    }
   ],
   "source": [
    "def starn(n):\n",
    "    while n > 0:\n",
    "        print('*', end=' ')\n",
    "        n = n - 1\n",
    "    print()\n",
    "    \n",
    "starn(2)\n",
    "starn(5)"
   ]
  },
  {
   "cell_type": "markdown",
   "metadata": {},
   "source": [
    "| |Immutable|Mutable\n",
    "|---|---|---|\n",
    "Scalar"
   ]
  },
  {
   "cell_type": "code",
   "execution_count": null,
   "metadata": {},
   "outputs": [],
   "source": [
    "#conjugate 뜻 "
   ]
  },
  {
   "cell_type": "code",
   "execution_count": 97,
   "metadata": {},
   "outputs": [
    {
     "data": {
      "text/plain": [
       "'Hudi'"
      ]
     },
     "execution_count": 97,
     "metadata": {},
     "output_type": "execute_result"
    }
   ],
   "source": [
    "s = 'Hyundai'\n",
    "s[0:-1]\n",
    "s[0:7:2]"
   ]
  },
  {
   "cell_type": "code",
   "execution_count": 104,
   "metadata": {},
   "outputs": [
    {
     "name": "stdout",
     "output_type": "stream",
     "text": [
      "['I', 'am', 'just', 'a', 'poor', 'boy']\n",
      "['I ', 'm just ', ' poor boy']\n"
     ]
    }
   ],
   "source": [
    "song = \"I am just a poor boy\"\n",
    "words = song.split()\n",
    "print(words)\n",
    "print(song.split('a'))"
   ]
  },
  {
   "cell_type": "code",
   "execution_count": 99,
   "metadata": {},
   "outputs": [
    {
     "name": "stdout",
     "output_type": "stream",
     "text": [
      "I am just a poor boy\n",
      "I_am_just_a_poor_boy\n"
     ]
    }
   ],
   "source": [
    "print(' '.join(words))\n",
    "print('_'.join(words))"
   ]
  },
  {
   "cell_type": "code",
   "execution_count": null,
   "metadata": {},
   "outputs": [],
   "source": []
  }
 ],
 "metadata": {
  "kernelspec": {
   "display_name": "Python 3",
   "language": "python",
   "name": "python3"
  },
  "language_info": {
   "codemirror_mode": {
    "name": "ipython",
    "version": 3
   },
   "file_extension": ".py",
   "mimetype": "text/x-python",
   "name": "python",
   "nbconvert_exporter": "python",
   "pygments_lexer": "ipython3",
   "version": "3.12.9"
  }
 },
 "nbformat": 4,
 "nbformat_minor": 2
}
