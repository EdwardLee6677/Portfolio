{
 "cells": [
  {
   "cell_type": "code",
   "execution_count": null,
   "id": "5650b2e8",
   "metadata": {},
   "outputs": [
    {
     "ename": "",
     "evalue": "",
     "output_type": "error",
     "traceback": [
      "\u001b[1;31m'ds (Python 3.10.12)'(으)로 셀을 실행하려면 ipykernel 패키지가 필요합니다.\n",
      "\u001b[1;31m필요한 패키지를 사용하여 <a href='command:jupyter.createPythonEnvAndSelectController'>Python 환경 만들기</a>"
     ]
    }
   ],
   "source": [
    "import matplotlib\n",
    "matplotlib.__version__"
   ]
  },
  {
   "cell_type": "code",
   "execution_count": null,
   "id": "07cee12d",
   "metadata": {},
   "outputs": [],
   "source": [
    "import matplotlib.pyplot as plt\n",
    "\n",
    "plt.plot([1, 2, 3, 4, 5])\n",
    "plt.show()"
   ]
  },
  {
   "cell_type": "code",
   "execution_count": null,
   "id": "51c3dd45",
   "metadata": {},
   "outputs": [],
   "source": [
    "plt.plot([1, 2, 3, 4, 5], [1, 4, 9, 16, 20])\n",
    "plt.show()"
   ]
  },
  {
   "cell_type": "code",
   "execution_count": null,
   "id": "f07c39a9",
   "metadata": {},
   "outputs": [],
   "source": [
    "plt.plot([1, 2, 3, 4, 5], [1, 4, 9, 16, 20], 'ro')\n",
    "plt.axis([0, 6, 0, 24])\n",
    "plt.show()"
   ]
  },
  {
   "cell_type": "code",
   "execution_count": null,
   "id": "d4d26e80",
   "metadata": {},
   "outputs": [],
   "source": [
    "import numpy as np\n",
    "t = np.arange(0., 5., 0.2)\n",
    "plt.plot(t, t, 'bd', t, t**2, 'rs', t, t**3, 'k^')\n",
    "plt.show()"
   ]
  },
  {
   "cell_type": "markdown",
   "id": "d14e8d20",
   "metadata": {},
   "source": [
    "### 색깔 포맷"
   ]
  },
  {
   "cell_type": "markdown",
   "id": "218f8426",
   "metadata": {},
   "source": [
    "| 포맷 | 예시 |\n",
    "|:----|:----|\n",
    "| RGB 또는 RGBA (빨강, 초록, 파랑, 알파) 튜플. 값 범위는 [0, 1] | (0.2, 0.3, 0.4) <br> (0.2, 0.3, 0.4, 0.3) |\n",
    "| 대소문자 구분 없는 hex RGB 또는 RGBA 문자열 | '#0f0f0f' <br> '#0f0f0f80' |\n",
    "| 중복된 문자로 구성된 대소문자 구분 없는 hex RGB 또는 RGBA 축약형 문자열 | '#abc' -> '#aabbcc' <br> '#fb1' -> '#ffbb11' |\n",
    "| [0, 1] 범위의 float 값을 문자열로 표현 (그레이스케일 값) | '0' -> 검정 <br> '1' -> 흰색 <br> '0.8' -> 밝은 회색 |\n",
    "| 기본 색상에 대한 한 글자 축약 표기 | 'b' -> 파랑, 'g' -> 초록, 'r' -> 빨강 <br> 'c' -> 청록, 'm' -> 자홍, 'y' -> 노랑 <br> 'k' -> 검정, 'w' -> 흰색 |\n",
    "| 'T10' 범주형 팔레트에서 대소문자 구분 없는 Tableau 색상 | 'tab:blue', 'tab:orange', 'tab:green' <br> 'tab:red', 'tab:purple', 'tab:brown' <br> 'tab:pink', 'tab:gray', 'tab:olive', 'tab:cyan' |"
   ]
  },
  {
   "cell_type": "markdown",
   "id": "3032b727",
   "metadata": {},
   "source": [
    "### 선 스타일"
   ]
  },
  {
   "cell_type": "markdown",
   "id": "e603c4ce",
   "metadata": {},
   "source": [
    "| 스타일 이름 | 문자 | 설명 | 예시 |\n",
    "|:----|:----|:----|:----|\n",
    "| solid | - | 실선 스타일 | ─────── |\n",
    "| dashed | -- | 점선 스타일 | ─ ─ ─ ─ ─ ─ ─ |\n",
    "| dashdot | -. | 점-선 혼합 스타일 | ─ · ─ · ─ · ─ · ─ |\n",
    "| dotted | : | 점선 스타일 | ··················· |"
   ]
  },
  {
   "cell_type": "markdown",
   "id": "77cbb9ef",
   "metadata": {},
   "source": [
    "### 마커 타입"
   ]
  },
  {
   "cell_type": "markdown",
   "id": "f5be255e",
   "metadata": {},
   "source": [
    "#### Unfilled markers - 색 변환 불가\n",
    "| 마커 | 심볼 | 설명 |\n",
    "|:----|:----|:----|\n",
    "| ',' | · | 픽셀 (pixel) |\n",
    "| '1' | ┴ | 아래 삼각형 (tri_down) |\n",
    "| '2' | ┬ | 위 삼각형 (tri_up) |\n",
    "| '3' | ├ | 왼쪽 삼각형 (tri_left) |\n",
    "| '4' | ┤ | 오른쪽 삼각형 (tri_right) |\n",
    "| '+' | + | 플러스 (plus) |\n",
    "| 'x' | × | 엑스 (x) |\n",
    "| '│' | │ | 수직선 (vline) |\n",
    "| '_' | ─ | 수평선 (hline) |\n",
    "| 0 | ─ | 왼쪽 눈금 (tick left) |\n",
    "| 1 | ─ | 오른쪽 눈금 (tick right) |\n",
    "| 2 | │ | 위쪽 눈금 (tick up) |\n",
    "| 3 | │ | 아래쪽 눈금 (tick down) |\n",
    "| 4 | ◀ | 왼쪽 꺾쇠 (caret left) |\n",
    "| 5 | ▶ | 오른쪽 꺾쇠 (caret right) |\n",
    "| 6 | ▲ | 위쪽 꺾쇠 (caret up) |\n",
    "| 7 | ▼ | 아래쪽 꺾쇠 (caret down) |\n",
    "| 8 | ◁ | 왼쪽 중심 꺾쇠 (caret left) |\n",
    "| 9 | ▷ | 오른쪽 중심 꺾쇠 (caret right) |\n",
    "| 10 | △ | 위쪽 중심 꺾쇠 (caret up) |\n",
    "| 11 | ▽ | 아래쪽 중심 꺾쇠 (기준선 중심) (caret down centered at base) |\n"
   ]
  },
  {
   "cell_type": "markdown",
   "id": "27294e6e",
   "metadata": {},
   "source": [
    "#### Filled markers\n",
    "| 마커 | 심볼 | 설명 |\n",
    "|:----|:----|:----|\n",
    "| '.' | ● | 점 (point) |\n",
    "| 'o' | ● | 원 (circle) |\n",
    "| 'v' | ▼ | 아래 삼각형 (triangle_down) |\n",
    "| '^' | ▲ | 위 삼각형 (triangle_up) |\n",
    "| '<' | ◀ | 왼쪽 삼각형 (triangle_left) |\n",
    "| '>' | ▶ | 오른쪽 삼각형 (triangle_right) |\n",
    "| '8' | ◉ | 팔각형 (octagon) |\n",
    "| 's' | ■ | 정사각형 (square) |\n",
    "| 'p' | ⬟ | 오각형 (pentagon) |\n",
    "| '*' | ★ | 별 (star) |\n",
    "| 'h' | ⬢ | 육각형1 (hexagon1) |\n",
    "| 'H' | ⬣ | 육각형2 (hexagon2) |\n",
    "| 'D' | ◆ | 마름모 (diamond) |\n",
    "| 'd' | ◇ | 얇은 마름모 (thin_diamond) |\n",
    "| 'P' | ➕ | 플러스 (채워진) (plus(filled)) |\n",
    "| 'X' | ✖ | 엑스 (채워진) (x(filled)) |\n"
   ]
  },
  {
   "cell_type": "code",
   "execution_count": null,
   "id": "5f7125b9",
   "metadata": {},
   "outputs": [],
   "source": [
    "plt.plot([1, 2, 3, 4, 5], [1, 4, 9, 16, 20])\n",
    "plt.xlabel('X-Label')\n",
    "plt.ylabel('Y-Label')\n",
    "plt.show()"
   ]
  },
  {
   "cell_type": "code",
   "execution_count": null,
   "id": "05932005",
   "metadata": {},
   "outputs": [],
   "source": [
    "plt.plot([1, 2, 3, 4, 5], [1, 4, 9, 16, 20])\n",
    "plt.xlabel('X-Label', labelpad=15)\n",
    "plt.ylabel('Y-Label', labelpad=15)\n",
    "plt.show()"
   ]
  },
  {
   "cell_type": "code",
   "execution_count": null,
   "id": "0c1d6500",
   "metadata": {},
   "outputs": [],
   "source": [
    "# Setting Labels Fonts\n",
    "plt.plot([1, 2, 3, 4, 5], [1, 4, 9, 16, 20])\n",
    "xlabel_font = {'fontname': 'fantasy', 'color': 'b', 'fontweight': 'heavy', 'fontsize': 14}\n",
    "ylabel_font = {'fontname': 'Arial', 'color': 'r', 'fontweight': 'bold', 'fontsize': 10}\n",
    "plt.xlabel('X-Label', labelpad=15, fontdict = xlabel_font)\n",
    "plt.ylabel('Y-Label', labelpad=15, fontdict = ylabel_font)\n",
    "plt.show()"
   ]
  },
  {
   "cell_type": "code",
   "execution_count": null,
   "id": "71bf4bb1",
   "metadata": {},
   "outputs": [],
   "source": [
    "plt.plot([1, 2, 3, 4, 5], [1, 4, 9, 16, 20])\n",
    "xlabel_font = {'name': 'fantasy', 'color': 'b', 'weight': 'heavy', 'size': 14}\n",
    "ylabel_font = {'name': 'Arial', 'color': 'r', 'weight': 'bold', 'size': 10}\n",
    "plt.xlabel('X-Label', labelpad=15, **xlabel_font)\n",
    "plt.ylabel('Y-Label', labelpad=15, **ylabel_font)\n",
    "plt.show()"
   ]
  },
  {
   "cell_type": "code",
   "execution_count": null,
   "id": "544c8609",
   "metadata": {},
   "outputs": [],
   "source": [
    "plt.plot([1, 2, 3, 4, 5], [1, 4, 9, 16, 20])\n",
    "plt.xlabel('X-Label', loc = 'right')\n",
    "plt.ylabel('Y-Label', loc = 'top')\n",
    "plt.show()"
   ]
  },
  {
   "cell_type": "code",
   "execution_count": null,
   "id": "b12243fb",
   "metadata": {},
   "outputs": [],
   "source": [
    "plt.plot([1, 2, 3, 4, 5], [1, 4, 9, 16, 20], label='Rate(%)')\n",
    "plt.xlabel('X-Label')\n",
    "plt.ylabel('Y-Label')\n",
    "plt.legend()\n",
    "plt.show()"
   ]
  },
  {
   "cell_type": "code",
   "execution_count": null,
   "id": "e7ba649a",
   "metadata": {},
   "outputs": [],
   "source": [
    "plt.plot([1, 2, 3, 4, 5], [1, 4, 9, 16, 20], label='Rate(%)')\n",
    "plt.xlabel('X-Label')\n",
    "plt.ylabel('Y-Label')\n",
    "# plt.legend(loc =(0.0, 0.0))\n",
    "# plt.legend(loc =(0.5, 0.5))\n",
    "plt.legend(loc =(1.0, 1.0))\n",
    "plt.show()"
   ]
  },
  {
   "cell_type": "code",
   "execution_count": null,
   "id": "8fcc9a77",
   "metadata": {},
   "outputs": [],
   "source": [
    "plt.plot([1, 2, 3, 4, 5], [1, 4, 9, 16, 20], label='Rate(%)')\n",
    "plt.xlabel('X-Label')\n",
    "plt.ylabel('Y-Label')\n",
    "plt.legend(loc = 'lower right')\n",
    "plt.show()"
   ]
  },
  {
   "cell_type": "code",
   "execution_count": null,
   "id": "49e8d0e4",
   "metadata": {},
   "outputs": [],
   "source": [
    "plt.plot([1, 2, 3, 4, 5], [1, 4, 9, 16, 20], label='Rate(%)')\n",
    "plt.plot([1, 2, 3, 4, 5], [2, 8, 11, 8, 15], label='Price($)')\n",
    "plt.xlabel('X-Label')\n",
    "plt.ylabel('Y-Label')\n",
    "plt.legend(ncol = 2)\n",
    "plt.show()"
   ]
  },
  {
   "cell_type": "code",
   "execution_count": null,
   "id": "ad16dbbf",
   "metadata": {},
   "outputs": [],
   "source": [
    "plt.plot([1, 2, 3, 4, 5], [1, 4, 9, 16, 20])\n",
    "plt.xlabel('X-label')\n",
    "plt.ylabel('Y-label')\n",
    "plt.xlim([0, 7]) # X축의 범위 : [x_min, x_max]\n",
    "plt.ylim([0, 25]) # Y축의 범위 : [y_min, y_max]\n",
    "plt.show()"
   ]
  },
  {
   "cell_type": "code",
   "execution_count": null,
   "id": "aeacf2b4",
   "metadata": {},
   "outputs": [],
   "source": [
    "plt.plot([1, 2, 3, 4, 5], [1, 4, 9, 16, 20])\n",
    "plt.xlabel('X-Label')\n",
    "plt.ylabel('Y-Label')\n",
    "plt.axis([0, 7, 0, 25]) # [x_min, x_max, y_min, y_max]\n",
    "plt.show()"
   ]
  },
  {
   "cell_type": "code",
   "execution_count": null,
   "id": "5d42d9a2",
   "metadata": {},
   "outputs": [],
   "source": [
    "plt.plot([1, 3], [4, 4], '-', color='b', label='Solid')\n",
    "plt.plot([1, 3], [3, 3], '--', color='r', label='Dashed')\n",
    "plt.plot([1, 3], [2, 2], ':', color='g', label='Dotted')\n",
    "plt.plot([1, 3], [1, 1], '-.', color='k', label='Dash-dot')\n",
    "plt.xlabel('X-Axis')\n",
    "plt.ylabel('Y-Axis')\n",
    "plt.axis([0.8, 3.2, 0.5, 5.0])\n",
    "plt.legend(loc='upper left', ncol=4)\n",
    "plt.show()"
   ]
  },
  {
   "cell_type": "code",
   "execution_count": null,
   "id": "525e1a17",
   "metadata": {},
   "outputs": [],
   "source": [
    "plt.plot([1, 3], [4, 4], linestyle='solid', color='b', label='Solid')\n",
    "plt.plot([1, 3], [3, 3], linestyle='dashed', color='r', label='Dashed')\n",
    "plt.plot([1, 3], [2, 2], linestyle='dotted', color='g', label='Dotted')\n",
    "plt.plot([1, 3], [1, 1], linestyle='dashdot', color='k', label='Dash-dot')\n",
    "plt.xlabel('X-Axis')\n",
    "plt.ylabel('Y-Axis')\n",
    "plt.axis([0.8, 3.2, 0.5, 5.0])\n",
    "plt.legend(loc='upper left', ncol=4)\n",
    "plt.show()"
   ]
  },
  {
   "cell_type": "code",
   "execution_count": null,
   "id": "4d524c75",
   "metadata": {},
   "outputs": [],
   "source": [
    "plt.plot([1, 2, 3, 4, 5], [1, 4, 9, 16, 20], 'bo')\n",
    "plt.xlabel('X-Label')\n",
    "plt.ylabel('Y-Label')\n",
    "plt.show()"
   ]
  },
  {
   "cell_type": "code",
   "execution_count": null,
   "id": "d0c6e9fb",
   "metadata": {},
   "outputs": [],
   "source": [
    "plt.plot([1, 2, 3, 4, 5], [1, 4, 9, 16, 20], 'bo-')\n",
    "plt.plot([1, 2, 3, 4, 5], [2, 8, 11, 8, 15], 'bo--')\n",
    "plt.xlabel('X-Label')\n",
    "plt.ylabel('Y-Label')\n",
    "plt.show()"
   ]
  },
  {
   "cell_type": "code",
   "execution_count": null,
   "id": "61b8fb61",
   "metadata": {},
   "outputs": [],
   "source": [
    "plt.plot([3.0, 3.0, 3.0], marker=\"h\")\n",
    "plt.plot([2.5, 2.5, 2.5], marker=\"+\")\n",
    "plt.plot([2.0, 2.0, 2.0], marker=\"x\")\n",
    "plt.plot([1.5, 1.5, 1.5], marker=11)\n",
    "plt.plot([1.0, 1.0, 1.0], marker='$Y$')\n",
    "plt.show()"
   ]
  },
  {
   "cell_type": "code",
   "execution_count": null,
   "id": "0e55be45",
   "metadata": {},
   "outputs": [],
   "source": [
    "import numpy as np\n",
    "x = np.arange(0, 2, 0.2)\n",
    "plt.plot(x, x, 'b--', x, x**2, 'ro', x, x**3, 'k-.')\n",
    "plt.show()"
   ]
  },
  {
   "cell_type": "code",
   "execution_count": null,
   "id": "5d320e32",
   "metadata": {},
   "outputs": [],
   "source": [
    "plt.plot([1, 2, 3, 4, 5], [1, 4, 9, 16, 20], 'bo-')\n",
    "plt.plot([1, 2, 3, 4, 5], [2, 8, 11, 8, 15], 'bo--')\n",
    "plt.xticks([0, 2, 4, 6])\n",
    "plt.yticks([0,10,20])\n",
    "plt.show()"
   ]
  },
  {
   "cell_type": "code",
   "execution_count": null,
   "id": "f3e1b183",
   "metadata": {},
   "outputs": [],
   "source": [
    "plt.plot([1, 2, 3, 4, 5], [1, 4, 9, 16, 20], 'bo-')\n",
    "plt.plot([1, 2, 3, 4, 5], [2, 8, 11, 8, 15], 'bo--')\n",
    "plt.xticks([1, 2, 3, 4, 5], labels=['Sun', 'Mon', 'Tue', 'Wed', 'Fri'])\n",
    "plt.yticks([0,10,20])\n",
    "plt.show()"
   ]
  },
  {
   "cell_type": "code",
   "execution_count": null,
   "id": "d1477bc7",
   "metadata": {},
   "outputs": [],
   "source": [
    "plt.plot([1, 2, 3, 4, 5], [1, 4, 9, 16, 20], 'bo-')\n",
    "plt.plot([1, 2, 3, 4, 5], [2, 8, 11, 8, 15], 'bo--')\n",
    "plt.title('Sales')\n",
    "plt.show()"
   ]
  },
  {
   "cell_type": "code",
   "execution_count": null,
   "id": "18411f6c",
   "metadata": {},
   "outputs": [],
   "source": [
    "x =[1, 2, 3]\n",
    "values = [200, 300, 600]\n",
    "years = ['2021', '2022', '2023']\n",
    "plt.bar(x, values)\n",
    "plt.xticks(x, years)\n",
    "plt.show()"
   ]
  },
  {
   "cell_type": "code",
   "execution_count": null,
   "id": "cc5a90c2",
   "metadata": {},
   "outputs": [],
   "source": [
    "x = [1, 2, 3]\n",
    "values = [200, 300, 600]\n",
    "years = ['2021', '2022', '2023']\n",
    "plt.bar(x, values, color='r')\n",
    "plt.xticks(x, years)\n",
    "plt.show()"
   ]
  },
  {
   "cell_type": "code",
   "execution_count": null,
   "id": "1b7b8435",
   "metadata": {},
   "outputs": [],
   "source": [
    "x = [1, 2, 3]\n",
    "values = [200, 300, 600]\n",
    "years = ['2021', '2022', '2023']\n",
    "plt.bar(x, values, color = ['r', 'g', 'b'])\n",
    "plt.xticks(x, years)\n",
    "plt.show()"
   ]
  },
  {
   "cell_type": "code",
   "execution_count": null,
   "id": "cd597435",
   "metadata": {},
   "outputs": [],
   "source": [
    "x = [1, 2, 3]\n",
    "values = [200, 300, 600]\n",
    "years = ['2021', '2022', '2023']\n",
    "plt.bar(x, values, color = ['r', 'g', 'b'], width = .4)\n",
    "plt.xticks(x, years)\n",
    "plt.show()"
   ]
  },
  {
   "cell_type": "code",
   "execution_count": null,
   "id": "d67552cb",
   "metadata": {},
   "outputs": [],
   "source": [
    "x = [1, 2, 3]\n",
    "values = [200, 300, 600]\n",
    "years = ['2021', '2022', '2023']\n",
    "plt.barh(x, values, height=.4)\n",
    "plt.xticks(x, years)\n",
    "plt.show()"
   ]
  },
  {
   "cell_type": "code",
   "execution_count": null,
   "id": "723d00b5",
   "metadata": {},
   "outputs": [],
   "source": [
    "np.random.seed(0)\n",
    "n = 20\n",
    "x = np.random.rand(n)\n",
    "y = np.random.rand(n)\n",
    "plt.scatter(x, y)\n",
    "plt.show()"
   ]
  },
  {
   "cell_type": "code",
   "execution_count": null,
   "id": "68dc339b",
   "metadata": {},
   "outputs": [],
   "source": [
    "np.random.seed(0)\n",
    "n = 20\n",
    "x = np.random.rand(n)\n",
    "y = np.random.rand(n)\n",
    "area = (30 * np.random.rand(n))**2\n",
    "colors = np.random.rand(n)\n",
    "plt.scatter(x, y, s=area, c=colors)\n",
    "plt.show()"
   ]
  },
  {
   "cell_type": "code",
   "execution_count": null,
   "id": "5613c3cb",
   "metadata": {},
   "outputs": [],
   "source": [
    "weight =  [65, 80, 61, 59, 77, 74, 61, 75, 67, 66, 59, 69, 81, 57, 64, 78, 71, 71, 71, 75, 69, 67]\n",
    "plt.hist(weight)\n",
    "plt.show()"
   ]
  },
  {
   "cell_type": "code",
   "execution_count": null,
   "id": "9f01acf6",
   "metadata": {},
   "outputs": [],
   "source": [
    "weight =  [65, 80, 61, 59, 77, 74, 61, 75, 67, 66, 59, 69, 81, 57, 64, 78, 71, 71, 71, 75, 69, 67]\n",
    "plt.hist(weight)\n",
    "plt.hist(weight, bins=30, label='bins=30')\n",
    "plt.legend()\n",
    "plt.show()"
   ]
  },
  {
   "cell_type": "code",
   "execution_count": null,
   "id": "03813588",
   "metadata": {},
   "outputs": [],
   "source": [
    "weight = [65, 80, 61, 59, 77, 74, 61, 75, 67, 66, 59, 69, 81, 57,\n",
    "64, 78, 71, 71, 71, 75, 69, 67]\n",
    "plt.hist(weight, cumulative=True, label='cumulative=True')\n",
    "plt.hist(weight, cumulative=False, label='cumulative=False')\n",
    "plt.legend(loc='upper left')\n",
    "plt.show()"
   ]
  },
  {
   "cell_type": "code",
   "execution_count": null,
   "id": "70c3270e",
   "metadata": {},
   "outputs": [],
   "source": [
    "x = [1, 2, 3, 4, 5]\n",
    "y = [1, 4, 9, 16, 20]\n",
    "yerr = [2.1, 3.5, 1.2, 3.5, 2.2]\n",
    "plt.errorbar(x, y, yerr=yerr)\n",
    "plt.show()"
   ]
  },
  {
   "cell_type": "code",
   "execution_count": null,
   "id": "ff91b085",
   "metadata": {},
   "outputs": [],
   "source": [
    "ratio = [44, 22, 9, 12]\n",
    "labels = ['Pear', 'Orange', 'Watermelon', 'Strawberries']\n",
    "plt.pie(ratio, labels=labels, autopct='%.1f%%')\n",
    "plt.show()"
   ]
  },
  {
   "cell_type": "code",
   "execution_count": null,
   "id": "db86bf76",
   "metadata": {},
   "outputs": [],
   "source": [
    "arr = np.random.standard_normal((20, 20))\n",
    "plt.matshow(arr)\n",
    "plt.show()"
   ]
  },
  {
   "cell_type": "code",
   "execution_count": null,
   "id": "dd359f69",
   "metadata": {},
   "outputs": [],
   "source": [
    "arr = np.random.standard_normal((20, 20))\n",
    "plt.matshow(arr)\n",
    "plt.colorbar()\n",
    "plt.show()"
   ]
  },
  {
   "cell_type": "code",
   "execution_count": null,
   "id": "3632ca18",
   "metadata": {},
   "outputs": [],
   "source": [
    "arr = np.random.standard_normal((20, 20))\n",
    "plt.matshow(arr)\n",
    "plt.colorbar(shrink=0.8, aspect=8)\n",
    "plt.show()"
   ]
  },
  {
   "cell_type": "code",
   "execution_count": null,
   "id": "32718727",
   "metadata": {},
   "outputs": [],
   "source": [
    "x1 = np.linspace(0.0, 2.0)\n",
    "x2 = np.linspace(0.0, 1.0)\n",
    "y1 = np.cos(2 * np.pi * x1) * np.exp(-x1)\n",
    "y2 = np.cos(2 * np.pi * x2)\n",
    "plt.subplot(2, 1, 1) # nrows=2, ncols=1, index=1\n",
    "plt.plot(x1, y1, 'o-')\n",
    "plt.title('1st Graph')\n",
    "plt.ylabel('y-axis')\n",
    "plt.subplot(2, 1, 2) # nrows=2, ncols=1, index=2\n",
    "plt.plot(x2, y2, '.-')\n",
    "plt.title('2nd Graph')\n",
    "plt.xlabel('time (s)')\n",
    "plt.ylabel('y-axis')\n",
    "plt.tight_layout()\n",
    "plt.show()"
   ]
  },
  {
   "cell_type": "code",
   "execution_count": null,
   "id": "4d006a70",
   "metadata": {},
   "outputs": [],
   "source": [
    "import seaborn as sns"
   ]
  },
  {
   "cell_type": "code",
   "execution_count": null,
   "id": "fc05162a",
   "metadata": {},
   "outputs": [],
   "source": [
    "sns.set(style=\"whitegrid\")"
   ]
  },
  {
   "cell_type": "code",
   "execution_count": null,
   "id": "82a8d267",
   "metadata": {},
   "outputs": [],
   "source": [
    "df = sns.load_dataset(\"tips\")\n",
    "sns.boxplot(x=\"day\", y=\"total_bill\", data=df)"
   ]
  },
  {
   "cell_type": "code",
   "execution_count": null,
   "id": "690b46a7",
   "metadata": {},
   "outputs": [],
   "source": [
    "sns.set(style=\"dark\")\n",
    "sns.boxplot(x=\"day\", y=\"total_bill\", data=df)"
   ]
  },
  {
   "cell_type": "code",
   "execution_count": null,
   "id": "32b7d87d",
   "metadata": {},
   "outputs": [],
   "source": [
    "flights = sns.load_dataset(\"flights\")\n",
    "flights"
   ]
  },
  {
   "cell_type": "code",
   "execution_count": null,
   "id": "99ce1687",
   "metadata": {},
   "outputs": [],
   "source": [
    "import warnings\n",
    "warnings.filterwarnings(\"ignore\")\n",
    "sns.barplot(data=flights, x=\"year\", y=\"passengers\", palette=\"rainbow\", errwidth=0)"
   ]
  },
  {
   "cell_type": "code",
   "execution_count": null,
   "id": "c28101e2",
   "metadata": {},
   "outputs": [],
   "source": [
    "#그리드 표시\n",
    "sns.set_theme(style=\"whitegrid\")\n",
    "sns.lineplot(data=flights, x=\"year\", y=\"passengers\")"
   ]
  },
  {
   "cell_type": "code",
   "execution_count": null,
   "id": "1c84dfcc",
   "metadata": {},
   "outputs": [],
   "source": [
    "sns.histplot(flights[\"passengers\"])"
   ]
  },
  {
   "cell_type": "code",
   "execution_count": null,
   "id": "7f041b33",
   "metadata": {},
   "outputs": [],
   "source": [
    "df = flights.pivot(index='month', columns='year', values='passengers')\n",
    "df"
   ]
  },
  {
   "cell_type": "code",
   "execution_count": null,
   "id": "a35ce35f",
   "metadata": {},
   "outputs": [],
   "source": [
    "sns.heatmap(df)"
   ]
  },
  {
   "cell_type": "code",
   "execution_count": null,
   "id": "bb215eef",
   "metadata": {},
   "outputs": [],
   "source": [
    "plt.show()"
   ]
  }
 ],
 "metadata": {
  "kernelspec": {
   "display_name": "ds",
   "language": "python",
   "name": "python3"
  },
  "language_info": {
   "codemirror_mode": {
    "name": "ipython",
    "version": 3
   },
   "file_extension": ".py",
   "mimetype": "text/x-python",
   "name": "python",
   "nbconvert_exporter": "python",
   "pygments_lexer": "ipython3",
   "version": "-1.-1.-1"
  }
 },
 "nbformat": 4,
 "nbformat_minor": 5
}
