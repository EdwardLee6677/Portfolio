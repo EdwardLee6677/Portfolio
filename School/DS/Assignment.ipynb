{
 "cells": [
  {
   "cell_type": "markdown",
   "metadata": {},
   "source": [
    "### p.13"
   ]
  },
  {
   "cell_type": "code",
   "execution_count": 4,
   "metadata": {},
   "outputs": [
    {
     "name": "stdout",
     "output_type": "stream",
     "text": [
      "1212\n",
      "121212\n",
      "24\n",
      "48\n",
      "12\n",
      "24\n"
     ]
    }
   ],
   "source": [
    "n = input()\n",
    "print(n * 2) \n",
    "print(n * 3)\n",
    "\n",
    "x = input()\n",
    "n = eval(x)\n",
    "print(n * 2)\n",
    "print(n * 4)\n",
    "\n",
    "n = eval(input())\n",
    "print(n)\n",
    "print(n * 2)"
   ]
  },
  {
   "cell_type": "markdown",
   "metadata": {},
   "source": [
    "### p.15"
   ]
  },
  {
   "cell_type": "code",
   "execution_count": 5,
   "metadata": {},
   "outputs": [
    {
     "name": "stdout",
     "output_type": "stream",
     "text": [
      "Using read():\n",
      "첫 번째 줄\n",
      "두 번째 줄\n",
      "세 번째 줄\n",
      "\n",
      "Using readlines():\n",
      "['첫 번째 줄\\n', '두 번째 줄\\n', '세 번째 줄\\n']\n"
     ]
    }
   ],
   "source": [
    "# 샘플 텍스트 파일 생성\n",
    "filename = \"sample.txt\"\n",
    "\n",
    "with open(filename, \"w\") as f:\n",
    "    f.write(\"첫 번째 줄\\n\")\n",
    "    f.write(\"두 번째 줄\\n\")\n",
    "    f.write(\"세 번째 줄\\n\")\n",
    "\n",
    "# read() 사용 예제\n",
    "with open(filename, \"r\") as f:\n",
    "    content_read = f.read()\n",
    "    print(\"Using read():\")\n",
    "    print(content_read)  # 파일 전체를 문자열로 출력\n",
    "\n",
    "# readlines() 사용 예제\n",
    "with open(filename, \"r\") as f:\n",
    "    content_readlines = f.readlines()\n",
    "    print(\"Using readlines():\")\n",
    "    print(content_readlines)  # 파일 내용을 줄 단위로 리스트로 출력\n"
   ]
  },
  {
   "cell_type": "markdown",
   "metadata": {},
   "source": [
    "### p.32"
   ]
  },
  {
   "cell_type": "markdown",
   "metadata": {},
   "source": [
    "#### 실행결과\n",
    "imported  \n",
    "3"
   ]
  },
  {
   "cell_type": "markdown",
   "metadata": {},
   "source": [
    "importing.py가 실행되면서 from imported import a를 실행.  \n",
    "imported.py의 코드가 실행되는데, 이때 __name__ 값이 \"imported\"로 설정됨.  \n",
    "if __name__ == \"__main__\": 조건이 False가 되어 else: 부분이 실행됨.  \n",
    "따라서 print(__name__)이 실행되며 \"imported\"가 출력됨.  "
   ]
  }
 ],
 "metadata": {
  "kernelspec": {
   "display_name": "Python 3",
   "language": "python",
   "name": "python3"
  },
  "language_info": {
   "codemirror_mode": {
    "name": "ipython",
    "version": 3
   },
   "file_extension": ".py",
   "mimetype": "text/x-python",
   "name": "python",
   "nbconvert_exporter": "python",
   "pygments_lexer": "ipython3",
   "version": "3.12.9"
  }
 },
 "nbformat": 4,
 "nbformat_minor": 2
}
