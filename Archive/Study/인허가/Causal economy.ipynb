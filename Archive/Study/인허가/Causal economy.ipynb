{
 "cells": [
  {
   "cell_type": "code",
   "execution_count": null,
   "metadata": {},
   "outputs": [],
   "source": [
    "import pandas as pd\n",
    "import numpy as np\n",
    "from causalimpact import CausalImpact\n",
    "import sys\n",
    "import warnings\n",
    "warnings.filterwarnings('ignore')"
   ]
  },
  {
   "cell_type": "code",
   "execution_count": null,
   "metadata": {},
   "outputs": [],
   "source": [
    "df_o=pd.read_csv('C:/Users/Edward/Desktop/PythonWorkspace/인허가/df_o_M.csv', encoding='cp949')\n",
    "df_c=pd.read_csv('C:/Users/Edward/Desktop/PythonWorkspace/인허가/df_c_M.csv', encoding='cp949')"
   ]
  },
  {
   "cell_type": "code",
   "execution_count": null,
   "metadata": {},
   "outputs": [],
   "source": [
    "df_o"
   ]
  },
  {
   "cell_type": "code",
   "execution_count": null,
   "metadata": {},
   "outputs": [],
   "source": [
    "pd.set_option('display.max_row', 1000)"
   ]
  },
  {
   "cell_type": "code",
   "execution_count": null,
   "metadata": {},
   "outputs": [],
   "source": [
    "df_c['폐업시기'] = df_c['폐업시기'].apply(lambda x: pd.to_datetime(str(x), format='%Y-%m-%d'))\n",
    "df_o['개업시기'] = df_o['개업시기'].apply(lambda x: pd.to_datetime(str(x), format='%Y-%m-%d'))"
   ]
  },
  {
   "cell_type": "code",
   "execution_count": null,
   "metadata": {},
   "outputs": [],
   "source": [
    "df_c = df_c.set_index('폐업시기')\n",
    "df_o = df_o.set_index('개업시기')"
   ]
  },
  {
   "cell_type": "code",
   "execution_count": null,
   "metadata": {},
   "outputs": [],
   "source": [
    "df_c"
   ]
  },
  {
   "cell_type": "code",
   "execution_count": null,
   "metadata": {},
   "outputs": [],
   "source": [
    "df_o"
   ]
  },
  {
   "cell_type": "code",
   "execution_count": null,
   "metadata": {},
   "outputs": [],
   "source": [
    "y = df_o['경제심리지수']\n",
    "df_o = df_o.drop('경제심리지수', axis=1)\n",
    "df_c = df_c.drop('경제심리지수', axis=1)"
   ]
  },
  {
   "cell_type": "code",
   "execution_count": null,
   "metadata": {},
   "outputs": [],
   "source": [
    "df_o"
   ]
  },
  {
   "cell_type": "code",
   "execution_count": null,
   "metadata": {},
   "outputs": [],
   "source": [
    "df_c"
   ]
  },
  {
   "cell_type": "code",
   "execution_count": null,
   "metadata": {},
   "outputs": [],
   "source": [
    "y"
   ]
  },
  {
   "cell_type": "code",
   "execution_count": null,
   "metadata": {},
   "outputs": [],
   "source": [
    "pre_period = ['2020-01-31', '2022-04-30']\n",
    "post_period = ['2022-05-31', '2022-12-31']"
   ]
  },
  {
   "attachments": {},
   "cell_type": "markdown",
   "metadata": {},
   "source": [
    "## 분석결과"
   ]
  },
  {
   "cell_type": "code",
   "execution_count": null,
   "metadata": {},
   "outputs": [],
   "source": [
    "for index, row in df_o.iteritems():\n",
    "    try:\n",
    "        print(y)\n",
    "        print(row)\n",
    "        print(pre_period)\n",
    "        print(post_period)\n",
    "        ci_o = CausalImpact(y, row, pre_period, post_period)\n",
    "        print(index)\n",
    "        print(ci_o.summary())\n",
    "        ci_o.plot()\n",
    "        print('____________________________________________________________________________________________________')\n",
    "    except ValueError as e:\n",
    "        print(e)"
   ]
  },
  {
   "attachments": {},
   "cell_type": "markdown",
   "metadata": {},
   "source": [
    "### 개업"
   ]
  },
  {
   "cell_type": "code",
   "execution_count": null,
   "metadata": {},
   "outputs": [],
   "source": [
    "for index, row in df_o.iteritems():\n",
    "    try:\n",
    "        ci_o = CausalImpact(y, row, pre_period, post_period, model_args=)\n",
    "        print(index)\n",
    "        print(ci_o.summary())\n",
    "        ci_o.plot()\n",
    "        print('____________________________________________________________________________________________________')\n",
    "    except ValueError as e:\n",
    "        print(e)"
   ]
  },
  {
   "cell_type": "code",
   "execution_count": null,
   "metadata": {},
   "outputs": [],
   "source": [
    "for index, row in df_o.iteritems():\n",
    "    try:\n",
    "        ci_o = CausalImpact(y, row, pre_period, post_period, model_args={'fit_method': 'hmc'})\n",
    "        print(index)\n",
    "        print(ci_o.summary_data)\n",
    "        print(ci_o.p_value)\n",
    "        print('____________________________________________________________________________________________________')\n",
    "    except ValueError as e:\n",
    "        print(e)"
   ]
  },
  {
   "attachments": {},
   "cell_type": "markdown",
   "metadata": {},
   "source": [
    "#### Summary 데이터화"
   ]
  },
  {
   "cell_type": "code",
   "execution_count": null,
   "metadata": {},
   "outputs": [],
   "source": [
    "for index, row in df_o.iteritems():\n",
    "    try:\n",
    "        ci_o = CausalImpact(y, row, pre_period, model_args={'fit_method': 'hmc'})\n",
    "        print(index)\n",
    "        print(ci_o.summary_data)\n",
    "        print(ci_o.p_value)\n",
    "        print('____________________________________________________________________________________________________')\n",
    "    except ValueError as e:\n",
    "        print(e)"
   ]
  },
  {
   "attachments": {},
   "cell_type": "markdown",
   "metadata": {},
   "source": [
    "### 폐업"
   ]
  },
  {
   "cell_type": "code",
   "execution_count": null,
   "metadata": {},
   "outputs": [],
   "source": [
    "for index, row in df_c.iteritems():\n",
    "    ci_c = CausalImpact(y, row, pre_period, post_period, model_args={'fit_method': 'hmc'})\n",
    "    print(index)\n",
    "    print(ci_c.summary())\n",
    "    ci_c.plot()\n",
    "    print('____________________________________________________________________________________________________')"
   ]
  },
  {
   "cell_type": "code",
   "execution_count": null,
   "metadata": {},
   "outputs": [],
   "source": [
    "for index, row in df_c.iteritems():\n",
    "    try:\n",
    "        ci_c = CausalImpact(y, row, pre_period, post_period, model_args={'fit_method': 'hmc'})\n",
    "        print(index)\n",
    "        print(ci_c.summary_data)\n",
    "        print(ci_c.p_value)\n",
    "        print('____________________________________________________________________________________________________')\n",
    "    except ValueError as e:\n",
    "        print(e)"
   ]
  },
  {
   "attachments": {},
   "cell_type": "markdown",
   "metadata": {},
   "source": [
    "## 분석결과 타당성"
   ]
  },
  {
   "cell_type": "code",
   "execution_count": null,
   "metadata": {},
   "outputs": [],
   "source": [
    "pre_period = ['2020-01-31', '2021-10-31']\n",
    "post_period = ['2021-11-30', '2022-04-30']"
   ]
  },
  {
   "attachments": {},
   "cell_type": "markdown",
   "metadata": {},
   "source": [
    "### 개업"
   ]
  },
  {
   "cell_type": "code",
   "execution_count": null,
   "metadata": {},
   "outputs": [],
   "source": [
    "for index, row in df_o.iteritems():\n",
    "    try:\n",
    "        ci_o = CausalImpact(y, row, pre_period, post_period, model_args={'fit_method': 'hmc'})\n",
    "        print(index)\n",
    "        print(ci_o.summary())\n",
    "        ci_o.plot()\n",
    "        print('____________________________________________________________________________________________________')\n",
    "    except ValueError as e:\n",
    "        print(e)"
   ]
  },
  {
   "attachments": {},
   "cell_type": "markdown",
   "metadata": {},
   "source": [
    "### 폐업"
   ]
  },
  {
   "cell_type": "code",
   "execution_count": null,
   "metadata": {},
   "outputs": [],
   "source": [
    "for index, row in df_c.iteritems():\n",
    "    try:\n",
    "        ci_c = CausalImpact(y, row, pre_period, post_period, model_args={'fit_method': 'hmc'})\n",
    "        print(index)\n",
    "        print(ci_c.summary())\n",
    "        ci_c.plot()\n",
    "        print('____________________________________________________________________________________________________')\n",
    "    except ValueError as e:\n",
    "        print(e)"
   ]
  }
 ],
 "metadata": {
  "kernelspec": {
   "display_name": "py",
   "language": "python",
   "name": "python3"
  },
  "language_info": {
   "codemirror_mode": {
    "name": "ipython",
    "version": 3
   },
   "file_extension": ".py",
   "mimetype": "text/x-python",
   "name": "python",
   "nbconvert_exporter": "python",
   "pygments_lexer": "ipython3",
   "version": "3.9.7"
  },
  "orig_nbformat": 4,
  "vscode": {
   "interpreter": {
    "hash": "1abbe5dd4abc851705e4f62e315af109ac99b493c63f3ec0dcb577a1d971e293"
   }
  }
 },
 "nbformat": 4,
 "nbformat_minor": 2
}
