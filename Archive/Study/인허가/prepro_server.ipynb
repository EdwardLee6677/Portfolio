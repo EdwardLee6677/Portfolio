{
 "cells": [
  {
   "cell_type": "markdown",
   "metadata": {},
   "source": [
    "## 라이브러리 불러오기"
   ]
  },
  {
   "cell_type": "code",
   "execution_count": 1,
   "metadata": {},
   "outputs": [],
   "source": [
    "import pandas as pd\n",
    "import numpy as np\n",
    "from sklearn.model_selection import train_test_split\n",
    "from sklearn.metrics import confusion_matrix\n"
   ]
  },
  {
   "cell_type": "code",
   "execution_count": 2,
   "metadata": {},
   "outputs": [],
   "source": [
    "import matplotlib.pyplot as plt\n",
    "import missingno as msno"
   ]
  },
  {
   "cell_type": "markdown",
   "metadata": {},
   "source": [
    "## 병합된 파일 불러오기"
   ]
  },
  {
   "cell_type": "code",
   "execution_count": 3,
   "metadata": {},
   "outputs": [
    {
     "name": "stderr",
     "output_type": "stream",
     "text": [
      "/tmp/ipykernel_30934/3411715468.py:1: DtypeWarning: Columns (2,3,6,7,8,13) have mixed types. Specify dtype option on import or set low_memory=False.\n",
      "  licensing_csv = pd.read_csv('/home/kmu/license/licensing.csv')\n"
     ]
    }
   ],
   "source": [
    "licensing_csv = pd.read_csv('/home/kmu/license/licensing.csv')\n",
    "\n"
   ]
  },
  {
   "cell_type": "code",
   "execution_count": 4,
   "metadata": {},
   "outputs": [
    {
     "data": {
      "text/plain": [
       "Index(['개방서비스명', '개방자치단체코드', '관리번호', '인허가일자', '영업상태구분코드', '영업상태명', '폐업일자',\n",
       "       '휴업시작일자', '휴업종료일자', '재개업일자', '소재지전체주소', '도로명전체주소', '사업장명', '업태구분명',\n",
       "       '좌표정보(X)', '좌표정보(Y)'],\n",
       "      dtype='object')"
      ]
     },
     "execution_count": 4,
     "metadata": {},
     "output_type": "execute_result"
    }
   ],
   "source": [
    "licensing_csv.head()\n",
    "licensing_csv.shape\n",
    "licensing_csv.columns\n",
    "\n",
    "\n",
    "\n",
    "#\n",
    "#licensing_csv['개방자치단체코드'].isnull().sum()\n",
    "\n",
    "#codes = licensing_csv['개방자치단체코드'].unique()\n",
    "#codes.shape\n",
    "#print(codes)\n"
   ]
  },
  {
   "cell_type": "code",
   "execution_count": 5,
   "metadata": {},
   "outputs": [
    {
     "data": {
      "text/plain": [
       "array(['폐업', '영업/정상', '휴업', '취소/말소/만료/정지/중지'], dtype=object)"
      ]
     },
     "execution_count": 5,
     "metadata": {},
     "output_type": "execute_result"
    }
   ],
   "source": [
    "licensing_csv['영업상태구분코드'].unique()\n",
    "licensing_csv['영업상태명'].unique()"
   ]
  },
  {
   "cell_type": "code",
   "execution_count": 6,
   "metadata": {},
   "outputs": [],
   "source": [
    "filtered_df = licensing_csv.loc[licensing_csv['영업상태구분코드'].isin([1, 3]) ]"
   ]
  },
  {
   "cell_type": "code",
   "execution_count": 7,
   "metadata": {},
   "outputs": [
    {
     "data": {
      "text/plain": [
       "(8920209, 16)"
      ]
     },
     "execution_count": 7,
     "metadata": {},
     "output_type": "execute_result"
    }
   ],
   "source": [
    "filtered_df.shape"
   ]
  },
  {
   "cell_type": "code",
   "execution_count": 8,
   "metadata": {},
   "outputs": [
    {
     "data": {
      "text/html": [
       "<div>\n",
       "<style scoped>\n",
       "    .dataframe tbody tr th:only-of-type {\n",
       "        vertical-align: middle;\n",
       "    }\n",
       "\n",
       "    .dataframe tbody tr th {\n",
       "        vertical-align: top;\n",
       "    }\n",
       "\n",
       "    .dataframe thead th {\n",
       "        text-align: right;\n",
       "    }\n",
       "</style>\n",
       "<table border=\"1\" class=\"dataframe\">\n",
       "  <thead>\n",
       "    <tr style=\"text-align: right;\">\n",
       "      <th></th>\n",
       "      <th>개방자치단체코드</th>\n",
       "      <th>인허가일자</th>\n",
       "      <th>폐업일자</th>\n",
       "      <th>영업상태명</th>\n",
       "      <th>업태구분명</th>\n",
       "    </tr>\n",
       "  </thead>\n",
       "  <tbody>\n",
       "    <tr>\n",
       "      <th>0</th>\n",
       "      <td>3000000</td>\n",
       "      <td>20060803</td>\n",
       "      <td>20120217.0</td>\n",
       "      <td>폐업</td>\n",
       "      <td>치과병원</td>\n",
       "    </tr>\n",
       "    <tr>\n",
       "      <th>1</th>\n",
       "      <td>3000000</td>\n",
       "      <td>19820924</td>\n",
       "      <td>20130108.0</td>\n",
       "      <td>폐업</td>\n",
       "      <td>병원</td>\n",
       "    </tr>\n",
       "    <tr>\n",
       "      <th>2</th>\n",
       "      <td>3000000</td>\n",
       "      <td>20210624</td>\n",
       "      <td>NaN</td>\n",
       "      <td>영업/정상</td>\n",
       "      <td>한방병원</td>\n",
       "    </tr>\n",
       "    <tr>\n",
       "      <th>3</th>\n",
       "      <td>3000000</td>\n",
       "      <td>19770401</td>\n",
       "      <td>NaN</td>\n",
       "      <td>영업/정상</td>\n",
       "      <td>종합병원</td>\n",
       "    </tr>\n",
       "    <tr>\n",
       "      <th>4</th>\n",
       "      <td>3000000</td>\n",
       "      <td>19790324</td>\n",
       "      <td>NaN</td>\n",
       "      <td>영업/정상</td>\n",
       "      <td>종합병원</td>\n",
       "    </tr>\n",
       "  </tbody>\n",
       "</table>\n",
       "</div>"
      ],
      "text/plain": [
       "   개방자치단체코드     인허가일자        폐업일자  영업상태명 업태구분명\n",
       "0   3000000  20060803  20120217.0     폐업  치과병원\n",
       "1   3000000  19820924  20130108.0     폐업    병원\n",
       "2   3000000  20210624         NaN  영업/정상  한방병원\n",
       "3   3000000  19770401         NaN  영업/정상  종합병원\n",
       "4   3000000  19790324         NaN  영업/정상  종합병원"
      ]
     },
     "execution_count": 8,
     "metadata": {},
     "output_type": "execute_result"
    }
   ],
   "source": [
    "filtered_df = filtered_df[['개방자치단체코드', '인허가일자', '폐업일자', '영업상태명', '업태구분명']]\n",
    "filtered_df.head(5)"
   ]
  },
  {
   "cell_type": "code",
   "execution_count": 9,
   "metadata": {},
   "outputs": [
    {
     "data": {
      "text/plain": [
       "array(['치과병원', '병원', '한방병원', ..., '공동탕업', '공동탕업+찜질시설서비스영업', '찜질시설서비스영업'],\n",
       "      dtype=object)"
      ]
     },
     "execution_count": 9,
     "metadata": {},
     "output_type": "execute_result"
    }
   ],
   "source": [
    "filtered_df['업태구분명'].unique()"
   ]
  },
  {
   "cell_type": "code",
   "execution_count": 10,
   "metadata": {},
   "outputs": [
    {
     "data": {
      "text/plain": [
       "한식                                                                                 931825\n",
       "즉석판매제조가공업                                                                          571305\n",
       "기타                                                                                 496481\n",
       "의류/패션/잡화/뷰티                                                                        381306\n",
       "종합몰                                                                                278717\n",
       "                                                                                    ...  \n",
       "종합몰 교육/도서/완구/오락 가전 레져/여행/공연 건강/식품 컴퓨터/사무용품 기타 가구/수납용품 의류/패션/잡화/뷰티 자동차/자동차용품 상품권         1\n",
       "의류/패션/잡화/뷰티 건강/식품 교육/도서/완구/오락 레져/여행/공연                                                  1\n",
       "교육/도서/완구/오락 의류/패션/잡화/뷰티 가전 컴퓨터/사무용품 가구/수납용품 건강/식품 레져/여행/공연 자동차/자동차용품                    1\n",
       "교육/도서/완구/오락 가전 컴퓨터/사무용품 의류/패션/잡화/뷰티 종합몰 가구/수납용품                                         1\n",
       "종합몰 교육/도서/완구/오락 컴퓨터/사무용품 가구/수납용품 의류/패션/잡화/뷰티 건강/식품 레져/여행/공연 자동차/자동차용품 상품권 기타            1\n",
       "Name: 업태구분명, Length: 11599, dtype: int64"
      ]
     },
     "execution_count": 10,
     "metadata": {},
     "output_type": "execute_result"
    }
   ],
   "source": [
    "filtered_df['업태구분명'].value_counts()"
   ]
  },
  {
   "cell_type": "code",
   "execution_count": 11,
   "metadata": {},
   "outputs": [
    {
     "data": {
      "text/html": [
       "<div>\n",
       "<style scoped>\n",
       "    .dataframe tbody tr th:only-of-type {\n",
       "        vertical-align: middle;\n",
       "    }\n",
       "\n",
       "    .dataframe tbody tr th {\n",
       "        vertical-align: top;\n",
       "    }\n",
       "\n",
       "    .dataframe thead th {\n",
       "        text-align: right;\n",
       "    }\n",
       "</style>\n",
       "<table border=\"1\" class=\"dataframe\">\n",
       "  <thead>\n",
       "    <tr style=\"text-align: right;\">\n",
       "      <th></th>\n",
       "      <th>개방자치단체코드</th>\n",
       "      <th>인허가일자</th>\n",
       "      <th>폐업일자</th>\n",
       "      <th>영업상태명</th>\n",
       "      <th>업태구분명</th>\n",
       "    </tr>\n",
       "  </thead>\n",
       "  <tbody>\n",
       "    <tr>\n",
       "      <th>0</th>\n",
       "      <td>3000000</td>\n",
       "      <td>20060803</td>\n",
       "      <td>20120217.0</td>\n",
       "      <td>폐업</td>\n",
       "      <td>치과병원</td>\n",
       "    </tr>\n",
       "    <tr>\n",
       "      <th>1</th>\n",
       "      <td>3000000</td>\n",
       "      <td>19820924</td>\n",
       "      <td>20130108.0</td>\n",
       "      <td>폐업</td>\n",
       "      <td>병원</td>\n",
       "    </tr>\n",
       "    <tr>\n",
       "      <th>2</th>\n",
       "      <td>3000000</td>\n",
       "      <td>20210624</td>\n",
       "      <td>0</td>\n",
       "      <td>영업/정상</td>\n",
       "      <td>한방병원</td>\n",
       "    </tr>\n",
       "    <tr>\n",
       "      <th>3</th>\n",
       "      <td>3000000</td>\n",
       "      <td>19770401</td>\n",
       "      <td>0</td>\n",
       "      <td>영업/정상</td>\n",
       "      <td>종합병원</td>\n",
       "    </tr>\n",
       "    <tr>\n",
       "      <th>4</th>\n",
       "      <td>3000000</td>\n",
       "      <td>19790324</td>\n",
       "      <td>0</td>\n",
       "      <td>영업/정상</td>\n",
       "      <td>종합병원</td>\n",
       "    </tr>\n",
       "  </tbody>\n",
       "</table>\n",
       "</div>"
      ],
      "text/plain": [
       "   개방자치단체코드     인허가일자        폐업일자  영업상태명 업태구분명\n",
       "0   3000000  20060803  20120217.0     폐업  치과병원\n",
       "1   3000000  19820924  20130108.0     폐업    병원\n",
       "2   3000000  20210624           0  영업/정상  한방병원\n",
       "3   3000000  19770401           0  영업/정상  종합병원\n",
       "4   3000000  19790324           0  영업/정상  종합병원"
      ]
     },
     "execution_count": 11,
     "metadata": {},
     "output_type": "execute_result"
    }
   ],
   "source": [
    "filtered_df['폐업일자'] = filtered_df['폐업일자'].fillna(0)\n",
    "filtered_df['인허가일자'] = filtered_df['인허가일자'].fillna(0)\n",
    "filtered_df.head(5)"
   ]
  },
  {
   "cell_type": "code",
   "execution_count": 12,
   "metadata": {},
   "outputs": [
    {
     "data": {
      "text/html": [
       "<div>\n",
       "<style scoped>\n",
       "    .dataframe tbody tr th:only-of-type {\n",
       "        vertical-align: middle;\n",
       "    }\n",
       "\n",
       "    .dataframe tbody tr th {\n",
       "        vertical-align: top;\n",
       "    }\n",
       "\n",
       "    .dataframe thead th {\n",
       "        text-align: right;\n",
       "    }\n",
       "</style>\n",
       "<table border=\"1\" class=\"dataframe\">\n",
       "  <thead>\n",
       "    <tr style=\"text-align: right;\">\n",
       "      <th></th>\n",
       "      <th>개방자치단체코드</th>\n",
       "      <th>인허가일자</th>\n",
       "      <th>폐업일자</th>\n",
       "      <th>영업상태명</th>\n",
       "      <th>업태구분명</th>\n",
       "    </tr>\n",
       "  </thead>\n",
       "  <tbody>\n",
       "    <tr>\n",
       "      <th>0</th>\n",
       "      <td>3000000</td>\n",
       "      <td>20060803</td>\n",
       "      <td>20120217.0</td>\n",
       "      <td>폐업</td>\n",
       "      <td>치과병원</td>\n",
       "    </tr>\n",
       "    <tr>\n",
       "      <th>1</th>\n",
       "      <td>3000000</td>\n",
       "      <td>19820924</td>\n",
       "      <td>20130108.0</td>\n",
       "      <td>폐업</td>\n",
       "      <td>병원</td>\n",
       "    </tr>\n",
       "    <tr>\n",
       "      <th>2</th>\n",
       "      <td>3000000</td>\n",
       "      <td>20210624</td>\n",
       "      <td>0</td>\n",
       "      <td>영업/정상</td>\n",
       "      <td>한방병원</td>\n",
       "    </tr>\n",
       "    <tr>\n",
       "      <th>3</th>\n",
       "      <td>3000000</td>\n",
       "      <td>19770401</td>\n",
       "      <td>0</td>\n",
       "      <td>영업/정상</td>\n",
       "      <td>종합병원</td>\n",
       "    </tr>\n",
       "    <tr>\n",
       "      <th>4</th>\n",
       "      <td>3000000</td>\n",
       "      <td>19790324</td>\n",
       "      <td>0</td>\n",
       "      <td>영업/정상</td>\n",
       "      <td>종합병원</td>\n",
       "    </tr>\n",
       "  </tbody>\n",
       "</table>\n",
       "</div>"
      ],
      "text/plain": [
       "   개방자치단체코드     인허가일자        폐업일자  영업상태명 업태구분명\n",
       "0   3000000  20060803  20120217.0     폐업  치과병원\n",
       "1   3000000  19820924  20130108.0     폐업    병원\n",
       "2   3000000  20210624           0  영업/정상  한방병원\n",
       "3   3000000  19770401           0  영업/정상  종합병원\n",
       "4   3000000  19790324           0  영업/정상  종합병원"
      ]
     },
     "execution_count": 12,
     "metadata": {},
     "output_type": "execute_result"
    }
   ],
   "source": [
    "filtered_df['폐업일자'] = filtered_df['폐업일자'].astype(str)\n",
    "filtered_df['인허가일자'] = filtered_df['인허가일자'].astype(str)\n",
    "filtered_df.head(5)"
   ]
  },
  {
   "cell_type": "code",
   "execution_count": 13,
   "metadata": {},
   "outputs": [
    {
     "data": {
      "text/html": [
       "<div>\n",
       "<style scoped>\n",
       "    .dataframe tbody tr th:only-of-type {\n",
       "        vertical-align: middle;\n",
       "    }\n",
       "\n",
       "    .dataframe tbody tr th {\n",
       "        vertical-align: top;\n",
       "    }\n",
       "\n",
       "    .dataframe thead th {\n",
       "        text-align: right;\n",
       "    }\n",
       "</style>\n",
       "<table border=\"1\" class=\"dataframe\">\n",
       "  <thead>\n",
       "    <tr style=\"text-align: right;\">\n",
       "      <th></th>\n",
       "      <th>개방자치단체코드</th>\n",
       "      <th>인허가일자</th>\n",
       "      <th>폐업일자</th>\n",
       "      <th>영업상태명</th>\n",
       "      <th>업태구분명</th>\n",
       "    </tr>\n",
       "  </thead>\n",
       "  <tbody>\n",
       "    <tr>\n",
       "      <th>0</th>\n",
       "      <td>3000000</td>\n",
       "      <td>20060803</td>\n",
       "      <td>20120217</td>\n",
       "      <td>폐업</td>\n",
       "      <td>치과병원</td>\n",
       "    </tr>\n",
       "    <tr>\n",
       "      <th>1</th>\n",
       "      <td>3000000</td>\n",
       "      <td>19820924</td>\n",
       "      <td>20130108</td>\n",
       "      <td>폐업</td>\n",
       "      <td>병원</td>\n",
       "    </tr>\n",
       "    <tr>\n",
       "      <th>2</th>\n",
       "      <td>3000000</td>\n",
       "      <td>20210624</td>\n",
       "      <td>0</td>\n",
       "      <td>영업/정상</td>\n",
       "      <td>한방병원</td>\n",
       "    </tr>\n",
       "    <tr>\n",
       "      <th>3</th>\n",
       "      <td>3000000</td>\n",
       "      <td>19770401</td>\n",
       "      <td>0</td>\n",
       "      <td>영업/정상</td>\n",
       "      <td>종합병원</td>\n",
       "    </tr>\n",
       "    <tr>\n",
       "      <th>4</th>\n",
       "      <td>3000000</td>\n",
       "      <td>19790324</td>\n",
       "      <td>0</td>\n",
       "      <td>영업/정상</td>\n",
       "      <td>종합병원</td>\n",
       "    </tr>\n",
       "  </tbody>\n",
       "</table>\n",
       "</div>"
      ],
      "text/plain": [
       "   개방자치단체코드     인허가일자      폐업일자  영업상태명 업태구분명\n",
       "0   3000000  20060803  20120217     폐업  치과병원\n",
       "1   3000000  19820924  20130108     폐업    병원\n",
       "2   3000000  20210624         0  영업/정상  한방병원\n",
       "3   3000000  19770401         0  영업/정상  종합병원\n",
       "4   3000000  19790324         0  영업/정상  종합병원"
      ]
     },
     "execution_count": 13,
     "metadata": {},
     "output_type": "execute_result"
    }
   ],
   "source": [
    "filtered_df['폐업일자'] = filtered_df['폐업일자'].str.extract(r'(\\d+)')\n",
    "filtered_df['인허가일자'] = filtered_df['인허가일자'].str.extract(r'(\\d+)')\n",
    "filtered_df.head(5)"
   ]
  },
  {
   "cell_type": "code",
   "execution_count": 14,
   "metadata": {},
   "outputs": [
    {
     "data": {
      "text/html": [
       "<div>\n",
       "<style scoped>\n",
       "    .dataframe tbody tr th:only-of-type {\n",
       "        vertical-align: middle;\n",
       "    }\n",
       "\n",
       "    .dataframe tbody tr th {\n",
       "        vertical-align: top;\n",
       "    }\n",
       "\n",
       "    .dataframe thead th {\n",
       "        text-align: right;\n",
       "    }\n",
       "</style>\n",
       "<table border=\"1\" class=\"dataframe\">\n",
       "  <thead>\n",
       "    <tr style=\"text-align: right;\">\n",
       "      <th></th>\n",
       "      <th>개방자치단체코드</th>\n",
       "      <th>인허가일자</th>\n",
       "      <th>폐업일자</th>\n",
       "      <th>영업상태명</th>\n",
       "      <th>업태구분명</th>\n",
       "      <th>인허가년도</th>\n",
       "      <th>폐업년도</th>\n",
       "    </tr>\n",
       "  </thead>\n",
       "  <tbody>\n",
       "    <tr>\n",
       "      <th>0</th>\n",
       "      <td>3000000</td>\n",
       "      <td>20060803</td>\n",
       "      <td>20120217</td>\n",
       "      <td>폐업</td>\n",
       "      <td>치과병원</td>\n",
       "      <td>2006</td>\n",
       "      <td>2012</td>\n",
       "    </tr>\n",
       "    <tr>\n",
       "      <th>1</th>\n",
       "      <td>3000000</td>\n",
       "      <td>19820924</td>\n",
       "      <td>20130108</td>\n",
       "      <td>폐업</td>\n",
       "      <td>병원</td>\n",
       "      <td>1982</td>\n",
       "      <td>2013</td>\n",
       "    </tr>\n",
       "    <tr>\n",
       "      <th>2</th>\n",
       "      <td>3000000</td>\n",
       "      <td>20210624</td>\n",
       "      <td>0</td>\n",
       "      <td>영업/정상</td>\n",
       "      <td>한방병원</td>\n",
       "      <td>2021</td>\n",
       "      <td>0</td>\n",
       "    </tr>\n",
       "    <tr>\n",
       "      <th>3</th>\n",
       "      <td>3000000</td>\n",
       "      <td>19770401</td>\n",
       "      <td>0</td>\n",
       "      <td>영업/정상</td>\n",
       "      <td>종합병원</td>\n",
       "      <td>1977</td>\n",
       "      <td>0</td>\n",
       "    </tr>\n",
       "    <tr>\n",
       "      <th>4</th>\n",
       "      <td>3000000</td>\n",
       "      <td>19790324</td>\n",
       "      <td>0</td>\n",
       "      <td>영업/정상</td>\n",
       "      <td>종합병원</td>\n",
       "      <td>1979</td>\n",
       "      <td>0</td>\n",
       "    </tr>\n",
       "  </tbody>\n",
       "</table>\n",
       "</div>"
      ],
      "text/plain": [
       "   개방자치단체코드     인허가일자      폐업일자  영업상태명 업태구분명 인허가년도  폐업년도\n",
       "0   3000000  20060803  20120217     폐업  치과병원  2006  2012\n",
       "1   3000000  19820924  20130108     폐업    병원  1982  2013\n",
       "2   3000000  20210624         0  영업/정상  한방병원  2021     0\n",
       "3   3000000  19770401         0  영업/정상  종합병원  1977     0\n",
       "4   3000000  19790324         0  영업/정상  종합병원  1979     0"
      ]
     },
     "execution_count": 14,
     "metadata": {},
     "output_type": "execute_result"
    }
   ],
   "source": [
    "filtered_df['인허가년도'] = filtered_df['인허가일자'].str[:4]\n",
    "filtered_df['폐업년도'] = filtered_df['폐업일자'].str[:4]\n",
    "\n",
    "filtered_df.head(5)"
   ]
  },
  {
   "cell_type": "code",
   "execution_count": null,
   "metadata": {},
   "outputs": [],
   "source": []
  },
  {
   "cell_type": "code",
   "execution_count": 15,
   "metadata": {},
   "outputs": [
    {
     "data": {
      "text/html": [
       "<div>\n",
       "<style scoped>\n",
       "    .dataframe tbody tr th:only-of-type {\n",
       "        vertical-align: middle;\n",
       "    }\n",
       "\n",
       "    .dataframe tbody tr th {\n",
       "        vertical-align: top;\n",
       "    }\n",
       "\n",
       "    .dataframe thead th {\n",
       "        text-align: right;\n",
       "    }\n",
       "</style>\n",
       "<table border=\"1\" class=\"dataframe\">\n",
       "  <thead>\n",
       "    <tr style=\"text-align: right;\">\n",
       "      <th></th>\n",
       "      <th>개방자치단체코드</th>\n",
       "      <th>인허가일자</th>\n",
       "      <th>폐업일자</th>\n",
       "      <th>영업상태명</th>\n",
       "      <th>업태구분명</th>\n",
       "      <th>인허가년도</th>\n",
       "      <th>폐업년도</th>\n",
       "      <th>영업상태코드</th>\n",
       "    </tr>\n",
       "  </thead>\n",
       "  <tbody>\n",
       "    <tr>\n",
       "      <th>0</th>\n",
       "      <td>3000000</td>\n",
       "      <td>20060803</td>\n",
       "      <td>20120217</td>\n",
       "      <td>폐업</td>\n",
       "      <td>치과병원</td>\n",
       "      <td>2006</td>\n",
       "      <td>2012</td>\n",
       "      <td>0</td>\n",
       "    </tr>\n",
       "    <tr>\n",
       "      <th>1</th>\n",
       "      <td>3000000</td>\n",
       "      <td>19820924</td>\n",
       "      <td>20130108</td>\n",
       "      <td>폐업</td>\n",
       "      <td>병원</td>\n",
       "      <td>1982</td>\n",
       "      <td>2013</td>\n",
       "      <td>0</td>\n",
       "    </tr>\n",
       "    <tr>\n",
       "      <th>2</th>\n",
       "      <td>3000000</td>\n",
       "      <td>20210624</td>\n",
       "      <td>0</td>\n",
       "      <td>영업/정상</td>\n",
       "      <td>한방병원</td>\n",
       "      <td>2021</td>\n",
       "      <td>0</td>\n",
       "      <td>1</td>\n",
       "    </tr>\n",
       "    <tr>\n",
       "      <th>3</th>\n",
       "      <td>3000000</td>\n",
       "      <td>19770401</td>\n",
       "      <td>0</td>\n",
       "      <td>영업/정상</td>\n",
       "      <td>종합병원</td>\n",
       "      <td>1977</td>\n",
       "      <td>0</td>\n",
       "      <td>1</td>\n",
       "    </tr>\n",
       "    <tr>\n",
       "      <th>4</th>\n",
       "      <td>3000000</td>\n",
       "      <td>19790324</td>\n",
       "      <td>0</td>\n",
       "      <td>영업/정상</td>\n",
       "      <td>종합병원</td>\n",
       "      <td>1979</td>\n",
       "      <td>0</td>\n",
       "      <td>1</td>\n",
       "    </tr>\n",
       "  </tbody>\n",
       "</table>\n",
       "</div>"
      ],
      "text/plain": [
       "   개방자치단체코드     인허가일자      폐업일자  영업상태명 업태구분명 인허가년도  폐업년도  영업상태코드\n",
       "0   3000000  20060803  20120217     폐업  치과병원  2006  2012       0\n",
       "1   3000000  19820924  20130108     폐업    병원  1982  2013       0\n",
       "2   3000000  20210624         0  영업/정상  한방병원  2021     0       1\n",
       "3   3000000  19770401         0  영업/정상  종합병원  1977     0       1\n",
       "4   3000000  19790324         0  영업/정상  종합병원  1979     0       1"
      ]
     },
     "execution_count": 15,
     "metadata": {},
     "output_type": "execute_result"
    }
   ],
   "source": [
    "filtered_df['영업상태코드'] = filtered_df['영업상태명'].map( {'영업/정상': 1, '폐업': 0} ).astype(int)\n",
    "\n",
    "filtered_df.head(5)"
   ]
  },
  {
   "cell_type": "code",
   "execution_count": 16,
   "metadata": {},
   "outputs": [
    {
     "data": {
      "text/html": [
       "<div>\n",
       "<style scoped>\n",
       "    .dataframe tbody tr th:only-of-type {\n",
       "        vertical-align: middle;\n",
       "    }\n",
       "\n",
       "    .dataframe tbody tr th {\n",
       "        vertical-align: top;\n",
       "    }\n",
       "\n",
       "    .dataframe thead th {\n",
       "        text-align: right;\n",
       "    }\n",
       "</style>\n",
       "<table border=\"1\" class=\"dataframe\">\n",
       "  <thead>\n",
       "    <tr style=\"text-align: right;\">\n",
       "      <th></th>\n",
       "      <th>개방자치단체코드</th>\n",
       "      <th>인허가일자</th>\n",
       "      <th>폐업일자</th>\n",
       "      <th>인허가년도</th>\n",
       "      <th>폐업년도</th>\n",
       "      <th>영업상태코드</th>\n",
       "    </tr>\n",
       "  </thead>\n",
       "  <tbody>\n",
       "    <tr>\n",
       "      <th>0</th>\n",
       "      <td>3000000</td>\n",
       "      <td>20060803</td>\n",
       "      <td>20120217</td>\n",
       "      <td>2006</td>\n",
       "      <td>2012</td>\n",
       "      <td>0</td>\n",
       "    </tr>\n",
       "    <tr>\n",
       "      <th>1</th>\n",
       "      <td>3000000</td>\n",
       "      <td>19820924</td>\n",
       "      <td>20130108</td>\n",
       "      <td>1982</td>\n",
       "      <td>2013</td>\n",
       "      <td>0</td>\n",
       "    </tr>\n",
       "    <tr>\n",
       "      <th>2</th>\n",
       "      <td>3000000</td>\n",
       "      <td>20210624</td>\n",
       "      <td>0</td>\n",
       "      <td>2021</td>\n",
       "      <td>0</td>\n",
       "      <td>1</td>\n",
       "    </tr>\n",
       "    <tr>\n",
       "      <th>3</th>\n",
       "      <td>3000000</td>\n",
       "      <td>19770401</td>\n",
       "      <td>0</td>\n",
       "      <td>1977</td>\n",
       "      <td>0</td>\n",
       "      <td>1</td>\n",
       "    </tr>\n",
       "    <tr>\n",
       "      <th>4</th>\n",
       "      <td>3000000</td>\n",
       "      <td>19790324</td>\n",
       "      <td>0</td>\n",
       "      <td>1979</td>\n",
       "      <td>0</td>\n",
       "      <td>1</td>\n",
       "    </tr>\n",
       "    <tr>\n",
       "      <th>...</th>\n",
       "      <td>...</td>\n",
       "      <td>...</td>\n",
       "      <td>...</td>\n",
       "      <td>...</td>\n",
       "      <td>...</td>\n",
       "      <td>...</td>\n",
       "    </tr>\n",
       "    <tr>\n",
       "      <th>9500257</th>\n",
       "      <td>6520000</td>\n",
       "      <td>20140220</td>\n",
       "      <td>0</td>\n",
       "      <td>2014</td>\n",
       "      <td>0</td>\n",
       "      <td>1</td>\n",
       "    </tr>\n",
       "    <tr>\n",
       "      <th>9500258</th>\n",
       "      <td>6520000</td>\n",
       "      <td>20141010</td>\n",
       "      <td>0</td>\n",
       "      <td>2014</td>\n",
       "      <td>0</td>\n",
       "      <td>1</td>\n",
       "    </tr>\n",
       "    <tr>\n",
       "      <th>9500259</th>\n",
       "      <td>6520000</td>\n",
       "      <td>20161114</td>\n",
       "      <td>0</td>\n",
       "      <td>2016</td>\n",
       "      <td>0</td>\n",
       "      <td>1</td>\n",
       "    </tr>\n",
       "    <tr>\n",
       "      <th>9500260</th>\n",
       "      <td>6520000</td>\n",
       "      <td>20171030</td>\n",
       "      <td>0</td>\n",
       "      <td>2017</td>\n",
       "      <td>0</td>\n",
       "      <td>1</td>\n",
       "    </tr>\n",
       "    <tr>\n",
       "      <th>9500261</th>\n",
       "      <td>6520000</td>\n",
       "      <td>20180607</td>\n",
       "      <td>0</td>\n",
       "      <td>2018</td>\n",
       "      <td>0</td>\n",
       "      <td>1</td>\n",
       "    </tr>\n",
       "  </tbody>\n",
       "</table>\n",
       "<p>8920209 rows × 6 columns</p>\n",
       "</div>"
      ],
      "text/plain": [
       "         개방자치단체코드     인허가일자      폐업일자 인허가년도  폐업년도  영업상태코드\n",
       "0         3000000  20060803  20120217  2006  2012       0\n",
       "1         3000000  19820924  20130108  1982  2013       0\n",
       "2         3000000  20210624         0  2021     0       1\n",
       "3         3000000  19770401         0  1977     0       1\n",
       "4         3000000  19790324         0  1979     0       1\n",
       "...           ...       ...       ...   ...   ...     ...\n",
       "9500257   6520000  20140220         0  2014     0       1\n",
       "9500258   6520000  20141010         0  2014     0       1\n",
       "9500259   6520000  20161114         0  2016     0       1\n",
       "9500260   6520000  20171030         0  2017     0       1\n",
       "9500261   6520000  20180607         0  2018     0       1\n",
       "\n",
       "[8920209 rows x 6 columns]"
      ]
     },
     "execution_count": 16,
     "metadata": {},
     "output_type": "execute_result"
    }
   ],
   "source": [
    "filtered_df.drop('영업상태명', axis=1, inplace= True)\n",
    "filtered_df.drop('업태구분명', axis=1, inplace= True)\n",
    "filtered_df"
   ]
  },
  {
   "cell_type": "code",
   "execution_count": 17,
   "metadata": {},
   "outputs": [
    {
     "data": {
      "text/html": [
       "<div>\n",
       "<style scoped>\n",
       "    .dataframe tbody tr th:only-of-type {\n",
       "        vertical-align: middle;\n",
       "    }\n",
       "\n",
       "    .dataframe tbody tr th {\n",
       "        vertical-align: top;\n",
       "    }\n",
       "\n",
       "    .dataframe thead th {\n",
       "        text-align: right;\n",
       "    }\n",
       "</style>\n",
       "<table border=\"1\" class=\"dataframe\">\n",
       "  <thead>\n",
       "    <tr style=\"text-align: right;\">\n",
       "      <th></th>\n",
       "      <th>개방자치단체코드</th>\n",
       "      <th>인허가일자</th>\n",
       "      <th>인허가년도</th>\n",
       "      <th>영업상태코드</th>\n",
       "    </tr>\n",
       "  </thead>\n",
       "  <tbody>\n",
       "    <tr>\n",
       "      <th>0</th>\n",
       "      <td>3000000</td>\n",
       "      <td>20060803</td>\n",
       "      <td>2006</td>\n",
       "      <td>0</td>\n",
       "    </tr>\n",
       "    <tr>\n",
       "      <th>1</th>\n",
       "      <td>3000000</td>\n",
       "      <td>19820924</td>\n",
       "      <td>1982</td>\n",
       "      <td>0</td>\n",
       "    </tr>\n",
       "    <tr>\n",
       "      <th>2</th>\n",
       "      <td>3000000</td>\n",
       "      <td>20210624</td>\n",
       "      <td>2021</td>\n",
       "      <td>1</td>\n",
       "    </tr>\n",
       "    <tr>\n",
       "      <th>3</th>\n",
       "      <td>3000000</td>\n",
       "      <td>19770401</td>\n",
       "      <td>1977</td>\n",
       "      <td>1</td>\n",
       "    </tr>\n",
       "    <tr>\n",
       "      <th>4</th>\n",
       "      <td>3000000</td>\n",
       "      <td>19790324</td>\n",
       "      <td>1979</td>\n",
       "      <td>1</td>\n",
       "    </tr>\n",
       "    <tr>\n",
       "      <th>...</th>\n",
       "      <td>...</td>\n",
       "      <td>...</td>\n",
       "      <td>...</td>\n",
       "      <td>...</td>\n",
       "    </tr>\n",
       "    <tr>\n",
       "      <th>9500257</th>\n",
       "      <td>6520000</td>\n",
       "      <td>20140220</td>\n",
       "      <td>2014</td>\n",
       "      <td>1</td>\n",
       "    </tr>\n",
       "    <tr>\n",
       "      <th>9500258</th>\n",
       "      <td>6520000</td>\n",
       "      <td>20141010</td>\n",
       "      <td>2014</td>\n",
       "      <td>1</td>\n",
       "    </tr>\n",
       "    <tr>\n",
       "      <th>9500259</th>\n",
       "      <td>6520000</td>\n",
       "      <td>20161114</td>\n",
       "      <td>2016</td>\n",
       "      <td>1</td>\n",
       "    </tr>\n",
       "    <tr>\n",
       "      <th>9500260</th>\n",
       "      <td>6520000</td>\n",
       "      <td>20171030</td>\n",
       "      <td>2017</td>\n",
       "      <td>1</td>\n",
       "    </tr>\n",
       "    <tr>\n",
       "      <th>9500261</th>\n",
       "      <td>6520000</td>\n",
       "      <td>20180607</td>\n",
       "      <td>2018</td>\n",
       "      <td>1</td>\n",
       "    </tr>\n",
       "  </tbody>\n",
       "</table>\n",
       "<p>8920209 rows × 4 columns</p>\n",
       "</div>"
      ],
      "text/plain": [
       "         개방자치단체코드     인허가일자 인허가년도  영업상태코드\n",
       "0         3000000  20060803  2006       0\n",
       "1         3000000  19820924  1982       0\n",
       "2         3000000  20210624  2021       1\n",
       "3         3000000  19770401  1977       1\n",
       "4         3000000  19790324  1979       1\n",
       "...           ...       ...   ...     ...\n",
       "9500257   6520000  20140220  2014       1\n",
       "9500258   6520000  20141010  2014       1\n",
       "9500259   6520000  20161114  2016       1\n",
       "9500260   6520000  20171030  2017       1\n",
       "9500261   6520000  20180607  2018       1\n",
       "\n",
       "[8920209 rows x 4 columns]"
      ]
     },
     "execution_count": 17,
     "metadata": {},
     "output_type": "execute_result"
    }
   ],
   "source": [
    "filtered_df.drop('폐업일자', axis=1, inplace= True)\n",
    "filtered_df.drop('폐업년도', axis=1, inplace= True)\n",
    "filtered_df"
   ]
  },
  {
   "cell_type": "markdown",
   "metadata": {},
   "source": [
    "### licensing_csv 보기"
   ]
  },
  {
   "cell_type": "code",
   "execution_count": null,
   "metadata": {},
   "outputs": [],
   "source": [
    "# licensing_csv"
   ]
  },
  {
   "cell_type": "markdown",
   "metadata": {},
   "source": [
    "## 원본 저장후 새로운 변수 생성"
   ]
  },
  {
   "cell_type": "code",
   "execution_count": null,
   "metadata": {},
   "outputs": [],
   "source": [
    "# licensing = licensing_csv"
   ]
  },
  {
   "cell_type": "markdown",
   "metadata": {},
   "source": [
    "## 결측치 0으로 변환"
   ]
  },
  {
   "cell_type": "code",
   "execution_count": null,
   "metadata": {},
   "outputs": [],
   "source": [
    "# licensing['폐업일자'] = licensing['폐업일자'].fillna(0)\n",
    "# licensing['휴업시작일자'] = licensing['휴업시작일자'].fillna(0)\n",
    "# licensing['휴업종료일자'] = licensing['휴업종료일자'].fillna(0)\n",
    "# licensing['재개업일자'] = licensing['재개업일자'].fillna(0)"
   ]
  },
  {
   "cell_type": "code",
   "execution_count": null,
   "metadata": {},
   "outputs": [],
   "source": [
    "# licensing.head(5)"
   ]
  },
  {
   "cell_type": "markdown",
   "metadata": {},
   "source": [
    "## 일자형 데이터 str로 변환"
   ]
  },
  {
   "cell_type": "code",
   "execution_count": null,
   "metadata": {},
   "outputs": [],
   "source": [
    "# licensing['폐업일자'] = licensing['폐업일자'].astype(str)\n",
    "# licensing['휴업시작일자'] = licensing['휴업시작일자'].astype(str)\n",
    "# licensing['휴업종료일자'] = licensing['휴업종료일자'].astype(str)\n",
    "# licensing['재개업일자'] = licensing['재개업일자'].astype(str)"
   ]
  },
  {
   "cell_type": "markdown",
   "metadata": {},
   "source": [
    "### 머리"
   ]
  },
  {
   "cell_type": "code",
   "execution_count": null,
   "metadata": {},
   "outputs": [],
   "source": [
    "# licensing.head(5)"
   ]
  },
  {
   "cell_type": "markdown",
   "metadata": {},
   "source": [
    "### 꼬리"
   ]
  },
  {
   "cell_type": "code",
   "execution_count": null,
   "metadata": {},
   "outputs": [],
   "source": [
    "# licensing.tail(5)"
   ]
  },
  {
   "cell_type": "markdown",
   "metadata": {},
   "source": [
    "## 숫자만 추출"
   ]
  },
  {
   "cell_type": "code",
   "execution_count": null,
   "metadata": {},
   "outputs": [],
   "source": [
    "# licensing['폐업일자'] = licensing['폐업일자'].str.extract(r'(\\d+)')\n",
    "# licensing['휴업시작일자'] = licensing['휴업시작일자'].str.extract(r'(\\d+)')\n",
    "# licensing['휴업종료일자'] = licensing['휴업종료일자'].str.extract(r'(\\d+)')\n",
    "# licensing['재개업일자'] = licensing['재개업일자'].str.extract(r'(\\d+)')"
   ]
  },
  {
   "cell_type": "markdown",
   "metadata": {},
   "source": [
    "### 머리"
   ]
  },
  {
   "cell_type": "code",
   "execution_count": null,
   "metadata": {},
   "outputs": [],
   "source": [
    "# licensing.head(5)"
   ]
  },
  {
   "cell_type": "markdown",
   "metadata": {},
   "source": [
    "### 꼬리"
   ]
  },
  {
   "cell_type": "code",
   "execution_count": null,
   "metadata": {},
   "outputs": [],
   "source": [
    "# licensing.tail(5)"
   ]
  },
  {
   "cell_type": "markdown",
   "metadata": {},
   "source": [
    "## 년도만 추출"
   ]
  },
  {
   "cell_type": "code",
   "execution_count": null,
   "metadata": {},
   "outputs": [],
   "source": [
    "# licensing['폐업일자(년)'] = licensing['폐업일자'].str[:4]\n",
    "# licensing['휴업시작일자(년)'] = licensing['휴업시작일자'].str[:4]\n",
    "# licensing['휴업종료일자(년)'] = licensing['휴업종료일자'].str[:4]\n",
    "# licensing['재개업일자(년)'] = licensing['재개업일자'].str[:4]"
   ]
  },
  {
   "cell_type": "markdown",
   "metadata": {},
   "source": [
    "### 머리"
   ]
  },
  {
   "cell_type": "code",
   "execution_count": null,
   "metadata": {},
   "outputs": [],
   "source": [
    "# licensing.head(5)"
   ]
  },
  {
   "cell_type": "markdown",
   "metadata": {},
   "source": [
    "### 꼬리"
   ]
  },
  {
   "cell_type": "code",
   "execution_count": null,
   "metadata": {},
   "outputs": [],
   "source": [
    "# licensing.tail(5)"
   ]
  },
  {
   "cell_type": "markdown",
   "metadata": {},
   "source": [
    "## 영업상태구분코드별 확인"
   ]
  },
  {
   "cell_type": "markdown",
   "metadata": {},
   "source": [
    "### 코드 1"
   ]
  },
  {
   "cell_type": "code",
   "execution_count": null,
   "metadata": {},
   "outputs": [],
   "source": [
    "# licensing[licensing['영업상태구분코드']==1].head()"
   ]
  },
  {
   "cell_type": "markdown",
   "metadata": {},
   "source": [
    "### 코드 2"
   ]
  },
  {
   "cell_type": "code",
   "execution_count": null,
   "metadata": {},
   "outputs": [],
   "source": [
    "# licensing[licensing['영업상태구분코드']==2].head()"
   ]
  },
  {
   "cell_type": "markdown",
   "metadata": {},
   "source": [
    "### 코드 3"
   ]
  },
  {
   "cell_type": "code",
   "execution_count": null,
   "metadata": {},
   "outputs": [],
   "source": [
    "# licensing[licensing['영업상태구분코드']==3].head()"
   ]
  },
  {
   "cell_type": "markdown",
   "metadata": {},
   "source": [
    "### 코드4"
   ]
  },
  {
   "cell_type": "code",
   "execution_count": null,
   "metadata": {},
   "outputs": [],
   "source": [
    "# licensing[licensing['영업상태구분코드']==3].head()"
   ]
  },
  {
   "cell_type": "markdown",
   "metadata": {},
   "source": [
    "## 영업상태구분코드 1,2는 정상 3,4는 폐업으로 상태구분 열 생성"
   ]
  },
  {
   "cell_type": "code",
   "execution_count": null,
   "metadata": {},
   "outputs": [],
   "source": [
    "# 상태구분 = []\n",
    "# for row in licensing['영업상태구분코드']:\n",
    "#     if row > 2:\n",
    "#         상태구분.append('폐업')\n",
    "#     else :\n",
    "#         상태구분.append('정상')\n",
    "\n",
    "# licensing['상태구분'] = 상태구분"
   ]
  },
  {
   "cell_type": "markdown",
   "metadata": {},
   "source": [
    "### 머리"
   ]
  },
  {
   "cell_type": "code",
   "execution_count": null,
   "metadata": {},
   "outputs": [],
   "source": [
    "# licensing.head(5)"
   ]
  },
  {
   "cell_type": "markdown",
   "metadata": {},
   "source": [
    "### 꼬리"
   ]
  },
  {
   "cell_type": "code",
   "execution_count": null,
   "metadata": {},
   "outputs": [],
   "source": [
    "# licensing.tail(5)"
   ]
  },
  {
   "cell_type": "markdown",
   "metadata": {},
   "source": [
    "## 도로명과 소재지명을 법정동코드로 변환"
   ]
  },
  {
   "cell_type": "markdown",
   "metadata": {},
   "source": [
    "### 도로명주소 추출"
   ]
  },
  {
   "cell_type": "code",
   "execution_count": null,
   "metadata": {},
   "outputs": [],
   "source": [
    "# ad1 = licensing['도로명전체주소'].str.split(' ', expand=True)"
   ]
  },
  {
   "cell_type": "markdown",
   "metadata": {},
   "source": [
    "##### ad1(도로명주소 전체보기)"
   ]
  },
  {
   "cell_type": "code",
   "execution_count": null,
   "metadata": {},
   "outputs": [],
   "source": [
    "# ad1"
   ]
  },
  {
   "cell_type": "markdown",
   "metadata": {},
   "source": [
    "#### 추출된 도로명주소 csv로 저장"
   ]
  },
  {
   "cell_type": "code",
   "execution_count": null,
   "metadata": {},
   "outputs": [],
   "source": [
    "# ad1.to_csv(\"ad1.csv\")"
   ]
  },
  {
   "cell_type": "markdown",
   "metadata": {},
   "source": [
    "### 도로명 주소 불러오기"
   ]
  },
  {
   "cell_type": "code",
   "execution_count": null,
   "metadata": {},
   "outputs": [],
   "source": [
    "# ad1 = pd.read_csv('/home/kmu/license/ad1.csv', usecols=[1,2])"
   ]
  },
  {
   "cell_type": "code",
   "execution_count": null,
   "metadata": {},
   "outputs": [],
   "source": [
    "# ad1"
   ]
  },
  {
   "cell_type": "code",
   "execution_count": null,
   "metadata": {},
   "outputs": [],
   "source": [
    "# ad1.to_csv('ad1_1.csv')"
   ]
  },
  {
   "cell_type": "code",
   "execution_count": null,
   "metadata": {},
   "outputs": [],
   "source": [
    "# ad1 = pd.read_csv('/home/kmu/license/ad1_1.csv')"
   ]
  },
  {
   "cell_type": "code",
   "execution_count": null,
   "metadata": {},
   "outputs": [],
   "source": [
    "# ad1"
   ]
  },
  {
   "cell_type": "markdown",
   "metadata": {},
   "source": [
    "### 소재지주소 추출"
   ]
  },
  {
   "cell_type": "code",
   "execution_count": null,
   "metadata": {},
   "outputs": [],
   "source": [
    "# ad2 = licensing['소재지전체주소'].str.split(' ', expand=True)"
   ]
  },
  {
   "cell_type": "markdown",
   "metadata": {},
   "source": [
    "##### ad2(소재지주소 전체보기)"
   ]
  },
  {
   "cell_type": "code",
   "execution_count": null,
   "metadata": {},
   "outputs": [],
   "source": [
    "# ad2"
   ]
  },
  {
   "cell_type": "markdown",
   "metadata": {},
   "source": [
    "#### 추출된 소재지주소 csv로 저장"
   ]
  },
  {
   "cell_type": "code",
   "execution_count": null,
   "metadata": {},
   "outputs": [],
   "source": [
    "# ad2.to_csv(\"ad2.csv\")"
   ]
  },
  {
   "cell_type": "markdown",
   "metadata": {},
   "source": [
    "### 소재지 주소 불러오기"
   ]
  },
  {
   "cell_type": "code",
   "execution_count": null,
   "metadata": {},
   "outputs": [],
   "source": [
    "# ad2 = pd.read_csv('/home/kmu/license/ad2.csv', usecols=[1,2])"
   ]
  },
  {
   "cell_type": "code",
   "execution_count": null,
   "metadata": {},
   "outputs": [],
   "source": [
    "# ad2"
   ]
  },
  {
   "cell_type": "code",
   "execution_count": null,
   "metadata": {},
   "outputs": [],
   "source": [
    "# ad2.to_csv('ad2_1.csv')"
   ]
  },
  {
   "cell_type": "code",
   "execution_count": null,
   "metadata": {},
   "outputs": [],
   "source": [
    "# ad2 = pd.read_csv('/home/kmu/license/ad2_1.csv')"
   ]
  },
  {
   "cell_type": "code",
   "execution_count": null,
   "metadata": {},
   "outputs": [],
   "source": [
    "# ad2"
   ]
  },
  {
   "cell_type": "markdown",
   "metadata": {},
   "source": [
    "### 주소지 합치기\n"
   ]
  },
  {
   "cell_type": "code",
   "execution_count": null,
   "metadata": {},
   "outputs": [],
   "source": [
    "# ad1['법정동명'] = ad1['0'] + \" \" + ad1['1']"
   ]
  },
  {
   "cell_type": "code",
   "execution_count": null,
   "metadata": {},
   "outputs": [],
   "source": [
    "# ad1"
   ]
  },
  {
   "cell_type": "code",
   "execution_count": null,
   "metadata": {},
   "outputs": [],
   "source": [
    "# ad2['법정동명'] = ad2['0'] + \" \" + ad2['1']"
   ]
  },
  {
   "cell_type": "code",
   "execution_count": null,
   "metadata": {},
   "outputs": [],
   "source": [
    "# ad2"
   ]
  },
  {
   "cell_type": "code",
   "execution_count": null,
   "metadata": {},
   "outputs": [],
   "source": [
    "# ad1=ad1.iloc[:, 3]"
   ]
  },
  {
   "cell_type": "code",
   "execution_count": null,
   "metadata": {},
   "outputs": [],
   "source": [
    "# ad1"
   ]
  },
  {
   "cell_type": "code",
   "execution_count": null,
   "metadata": {},
   "outputs": [],
   "source": [
    "# ad2=ad2.iloc[:, 3]"
   ]
  },
  {
   "cell_type": "code",
   "execution_count": null,
   "metadata": {},
   "outputs": [],
   "source": [
    "# ad2"
   ]
  },
  {
   "cell_type": "code",
   "execution_count": null,
   "metadata": {},
   "outputs": [],
   "source": [
    "# ad1.to_csv('ad1_2.csv')\n",
    "# ad2.to_csv('ad2_2.csv')"
   ]
  },
  {
   "cell_type": "code",
   "execution_count": null,
   "metadata": {},
   "outputs": [],
   "source": [
    "# codeno = pd.read_csv('법정동코드.csv', delimiter=';',encoding='cp949')"
   ]
  },
  {
   "cell_type": "code",
   "execution_count": null,
   "metadata": {},
   "outputs": [],
   "source": [
    "# codeno"
   ]
  },
  {
   "cell_type": "code",
   "execution_count": null,
   "metadata": {},
   "outputs": [],
   "source": [
    "# ad= pd.read_csv('ad.csv',  delimiter=';',encoding='cp949')"
   ]
  },
  {
   "cell_type": "code",
   "execution_count": null,
   "metadata": {},
   "outputs": [],
   "source": [
    "# msno.matrix(ad)\n",
    "# plt.show()"
   ]
  },
  {
   "cell_type": "code",
   "execution_count": null,
   "metadata": {},
   "outputs": [],
   "source": [
    "# ad['ad1'].isnull().sum()"
   ]
  },
  {
   "cell_type": "code",
   "execution_count": null,
   "metadata": {},
   "outputs": [],
   "source": [
    "# ad['ad2'].isnull().sum()"
   ]
  },
  {
   "cell_type": "code",
   "execution_count": null,
   "metadata": {},
   "outputs": [],
   "source": [
    "# ad"
   ]
  },
  {
   "cell_type": "code",
   "execution_count": null,
   "metadata": {},
   "outputs": [],
   "source": [
    "# ad['ad'] = ad['ad1'].apply(lambda x: ad['ad1'] if x == 'NaN' else ad['ad2'])"
   ]
  },
  {
   "cell_type": "code",
   "execution_count": null,
   "metadata": {},
   "outputs": [],
   "source": [
    "# ad.loc[ad['ad2'].isnull(), 'ad2'] = ad['ad1']"
   ]
  },
  {
   "cell_type": "code",
   "execution_count": null,
   "metadata": {},
   "outputs": [],
   "source": [
    "# ad"
   ]
  },
  {
   "cell_type": "code",
   "execution_count": null,
   "metadata": {},
   "outputs": [],
   "source": [
    "# ad['ad1'].isnull().sum()"
   ]
  },
  {
   "cell_type": "code",
   "execution_count": null,
   "metadata": {},
   "outputs": [],
   "source": [
    "# ad['ad2'].isnull().sum()"
   ]
  },
  {
   "cell_type": "code",
   "execution_count": null,
   "metadata": {},
   "outputs": [],
   "source": [
    "# ad"
   ]
  },
  {
   "cell_type": "code",
   "execution_count": null,
   "metadata": {},
   "outputs": [],
   "source": [
    "# msno.matrix(ad)\n",
    "# plt.show()"
   ]
  },
  {
   "cell_type": "code",
   "execution_count": null,
   "metadata": {},
   "outputs": [],
   "source": [
    "# ad=ad.join(codeno.set_index('법정동명')['법정동코드'], on='ad2')"
   ]
  },
  {
   "cell_type": "code",
   "execution_count": null,
   "metadata": {},
   "outputs": [],
   "source": [
    "## ad.set_index('ad2', inplace=True)\n",
    "## ad['법정동코드'] = codeno['상장시가총액']"
   ]
  },
  {
   "cell_type": "code",
   "execution_count": null,
   "metadata": {},
   "outputs": [],
   "source": [
    "# ad['법정동명'] = ad['ad2']\n",
    "# ad"
   ]
  },
  {
   "cell_type": "code",
   "execution_count": null,
   "metadata": {},
   "outputs": [],
   "source": [
    "# ad = pd.merge(ad, codeno, how='left', on='법정동명')\n",
    "# ad "
   ]
  },
  {
   "cell_type": "code",
   "execution_count": null,
   "metadata": {},
   "outputs": [],
   "source": [
    "# ad"
   ]
  },
  {
   "cell_type": "code",
   "execution_count": null,
   "metadata": {},
   "outputs": [],
   "source": [
    "# ad['ad2'].dropna()"
   ]
  },
  {
   "cell_type": "code",
   "execution_count": null,
   "metadata": {},
   "outputs": [],
   "source": [
    "# ad['법정동코드'] = ad['법정동코드'].astype(int)"
   ]
  },
  {
   "cell_type": "markdown",
   "metadata": {},
   "source": [
    "## 모델링"
   ]
  },
  {
   "cell_type": "code",
   "execution_count": null,
   "metadata": {},
   "outputs": [],
   "source": [
    "df_x_data = filtered_df.drop(['영업상태코드'],axis=1)\n",
    "df_y_data = filtered_df['영업상태코드']\n",
    "\n",
    "df_x_train, df_x_test, df_y_train, df_y_test = train_test_split(df_x_data, df_y_data, test_size=0.3, random_state=1206, stratify=df_y_data)"
   ]
  },
  {
   "cell_type": "code",
   "execution_count": null,
   "metadata": {},
   "outputs": [],
   "source": [
    "print(df_x_train)"
   ]
  },
  {
   "cell_type": "code",
   "execution_count": null,
   "metadata": {},
   "outputs": [],
   "source": [
    "print(df_x_test)"
   ]
  },
  {
   "cell_type": "code",
   "execution_count": null,
   "metadata": {},
   "outputs": [],
   "source": [
    "print(df_y_train)"
   ]
  },
  {
   "cell_type": "code",
   "execution_count": null,
   "metadata": {},
   "outputs": [],
   "source": [
    "print(df_y_test)"
   ]
  },
  {
   "cell_type": "code",
   "execution_count": null,
   "metadata": {},
   "outputs": [],
   "source": [
    "from ctypes import wstring_at\n",
    "from sklearn import model_selection\n",
    "from sklearn import metrics\n",
    "import matplotlib.pyplot as plt\n",
    "from sklearn.linear_model import LinearRegression\n",
    "\n",
    "x_train, x_val, y_train, y_val = model_selection.train_test_split(df_x_train, df_y_train)\n",
    "\n",
    "estimator = LinearRegression(fit_intercept=True, normalize=False, copy_X=True, n_jobs=1)\n",
    "estimator.fit(x_train, y_train)\n",
    "\n",
    "y_predict = estimator.predict(x_val)\n",
    "score = metrics.r2_score(y_val, y_predict)\n",
    "print(score)"
   ]
  }
 ],
 "metadata": {
  "kernelspec": {
   "display_name": "py",
   "language": "python",
   "name": "python3"
  },
  "language_info": {
   "codemirror_mode": {
    "name": "ipython",
    "version": 3
   },
   "file_extension": ".py",
   "mimetype": "text/x-python",
   "name": "python",
   "nbconvert_exporter": "python",
   "pygments_lexer": "ipython3",
   "version": "3.9.7 (default, Sep 16 2021, 16:59:28) [MSC v.1916 64 bit (AMD64)]"
  },
  "orig_nbformat": 4,
  "vscode": {
   "interpreter": {
    "hash": "1abbe5dd4abc851705e4f62e315af109ac99b493c63f3ec0dcb577a1d971e293"
   }
  }
 },
 "nbformat": 4,
 "nbformat_minor": 2
}
