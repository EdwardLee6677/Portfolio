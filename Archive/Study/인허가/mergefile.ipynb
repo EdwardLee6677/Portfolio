{
 "cells": [
  {
   "cell_type": "code",
   "execution_count": 1,
   "metadata": {},
   "outputs": [],
   "source": [
    "import glob\n",
    "\n",
    "file_format = \".csv\" # .csv\n",
    "file_path = \"C:/Users/Edward/Desktop/LOCALDATA_ALL/\"\n",
    "file_list = glob.glob(f\"{file_path}/*{file_format}\")"
   ]
  },
  {
   "cell_type": "code",
   "execution_count": 2,
   "metadata": {},
   "outputs": [
    {
     "ename": "NameError",
     "evalue": "name 'file_df' is not defined",
     "output_type": "error",
     "traceback": [
      "\u001b[1;31m---------------------------------------------------------------------------\u001b[0m",
      "\u001b[1;31mNameError\u001b[0m                                 Traceback (most recent call last)",
      "Cell \u001b[1;32mIn[2], line 13\u001b[0m\n\u001b[0;32m     10\u001b[0m     file_df \u001b[39m=\u001b[39m pd\u001b[39m.\u001b[39mread_excel(file_name)\n\u001b[0;32m     12\u001b[0m columns \u001b[39m=\u001b[39m [\u001b[39m1\u001b[39m, \u001b[39m3\u001b[39m, \u001b[39m4\u001b[39m, \u001b[39m5\u001b[39m, \u001b[39m7\u001b[39m, \u001b[39m8\u001b[39m, \u001b[39m11\u001b[39m, \u001b[39m12\u001b[39m, \u001b[39m13\u001b[39m, \u001b[39m14\u001b[39m, \u001b[39m18\u001b[39m, \u001b[39m19\u001b[39m, \u001b[39m21\u001b[39m, \u001b[39m25\u001b[39m, \u001b[39m26\u001b[39m, \u001b[39m27\u001b[39m]\n\u001b[1;32m---> 13\u001b[0m temp_df \u001b[39m=\u001b[39m pd\u001b[39m.\u001b[39mDataFrame(file_df, columns\u001b[39m=\u001b[39mcolumns)\n\u001b[0;32m     14\u001b[0m merge_df \u001b[39m=\u001b[39m merge_df\u001b[39m.\u001b[39mappend(temp_df, ignore_index\u001b[39m=\u001b[39m\u001b[39mFalse\u001b[39;00m) \u001b[39m# ingnore_index = 기존 1, 2, 3, 4 번호 무시\u001b[39;00m\n\u001b[0;32m     15\u001b[0m merge_df\u001b[39m.\u001b[39mto_csv(\u001b[39m\"\u001b[39m\u001b[39mLOCALDATA_ALL.csv\u001b[39m\u001b[39m\"\u001b[39m)\n",
      "\u001b[1;31mNameError\u001b[0m: name 'file_df' is not defined"
     ]
    }
   ],
   "source": [
    "import pandas as pd\n",
    "import warnings\n",
    "\n",
    "# 오류 경고 무시하기\n",
    "warnings.filterwarnings(action='ignore')\n",
    "\n",
    "merge_df = pd.DataFrame()\n",
    "\n",
    "for file_name in file_list:\n",
    "    file_df = pd.read_excel(file_name)\n",
    "\n",
    "columns = [1, 3, 4, 5, 7, 8, 11, 12, 13, 14, 18, 19, 21, 25, 26, 27]\n",
    "temp_df = pd.DataFrame(file_df, columns=columns)\n",
    "merge_df = merge_df.append(temp_df, ignore_index=False) # ingnore_index = 기존 1, 2, 3, 4 번호 무시\n",
    "merge_df.to_csv(\"LOCALDATA_ALL.csv\")"
   ]
  }
 ],
 "metadata": {
  "kernelspec": {
   "display_name": "py",
   "language": "python",
   "name": "python3"
  },
  "language_info": {
   "codemirror_mode": {
    "name": "ipython",
    "version": 3
   },
   "file_extension": ".py",
   "mimetype": "text/x-python",
   "name": "python",
   "nbconvert_exporter": "python",
   "pygments_lexer": "ipython3",
   "version": "3.10.9"
  },
  "orig_nbformat": 4,
  "vscode": {
   "interpreter": {
    "hash": "1abbe5dd4abc851705e4f62e315af109ac99b493c63f3ec0dcb577a1d971e293"
   }
  }
 },
 "nbformat": 4,
 "nbformat_minor": 2
}
