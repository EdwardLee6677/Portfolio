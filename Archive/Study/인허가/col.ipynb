{
 "cells": [
  {
   "cell_type": "code",
   "execution_count": null,
   "metadata": {},
   "outputs": [],
   "source": [
    "import pandas as pd"
   ]
  },
  {
   "cell_type": "code",
   "execution_count": null,
   "metadata": {},
   "outputs": [],
   "source": [
    "for f in xlsx_files:\n",
    "    \n",
    "    df = pd.read_excel(f, usecols = [1, 3, 4, 5, 7, 8, 11, 12, 13, 14, 18, 19, 21, 25, 26, 27])\n",
    "      \n",
    "\n",
    "    print('Location:', f)\n",
    "    print('File Name:', f.split(\"\\\\\")[-1])\n",
    "      \n",
    "\n",
    "    print('Content:')\n",
    "    display(df)\n",
    "    print()"
   ]
  },
  {
   "cell_type": "code",
   "execution_count": null,
   "metadata": {},
   "outputs": [],
   "source": [
    "병원 = pd.read_excel('C:/Users/Edward/Desktop/LOCALDATA_ALL/fulldata_01_01_01_P_병원.xlsx', usecols = [1, 3, 4, 5, 7, 8, 11, 12, 13, 14, 18, 19, 21, 25, 26, 27])\n",
    "병원"
   ]
  },
  {
   "cell_type": "code",
   "execution_count": null,
   "metadata": {},
   "outputs": [],
   "source": [
    "의원 = pd.read_excel('C:/Users/Edward/Desktop/LOCALDATA_ALL/fulldata_01_01_02_P_의원.xlsx', usecols = [1, 3, 4, 5, 7, 8, 11, 12, 13, 14, 18, 19, 21, 25, 26, 27])\n",
    "의원"
   ]
  },
  {
   "cell_type": "code",
   "execution_count": null,
   "metadata": {},
   "outputs": [],
   "source": [
    "부속의료기관 = pd.read_excel('C:/Users/Edward/Desktop/LOCALDATA_ALL/fulldata_01_01_03_P_부속의료기관.xlsx', usecols = [1, 3, 4, 5, 7, 8, 11, 12, 13, 14, 18, 19, 21, 25, 26, 27])\n",
    "부속의료기관"
   ]
  },
  {
   "cell_type": "code",
   "execution_count": null,
   "metadata": {},
   "outputs": [],
   "source": [
    "산후조리업 = pd.read_excel('C:/Users/Edward/Desktop/LOCALDATA_ALL/fulldata_01_01_04_P_산후조리업.xlsx', usecols = [1, 3, 4, 5, 7, 8, 11, 12, 13, 14, 18, 19, 21, 25, 26, 27])\n",
    "산후조리업"
   ]
  },
  {
   "cell_type": "code",
   "execution_count": null,
   "metadata": {},
   "outputs": [],
   "source": [
    "안전상비의약품판매업소 = pd.read_excel('C:/Users/Edward/Desktop/LOCALDATA_ALL/fulldata_01_01_05_P_안전상비의약품 판매업소.xlsx', usecols = [1, 3, 4, 5, 7, 8, 11, 12, 13, 14, 18, 19, 21, 25, 26, 27])\n",
    "안전상비의약품판매업소 "
   ]
  },
  {
   "cell_type": "code",
   "execution_count": null,
   "metadata": {},
   "outputs": [],
   "source": [
    "약국 = pd.read_excel('C:/Users/Edward/Desktop/LOCALDATA_ALL/fulldata_01_01_06_P_약국.xlsx', usecols = [1, 3, 4, 5, 7, 8, 11, 12, 13, 14, 18, 19, 21, 25, 26, 27])\n",
    "약국"
   ]
  },
  {
   "cell_type": "code",
   "execution_count": null,
   "metadata": {},
   "outputs": [],
   "source": [
    "응급환자이송업 = pd.read_excel('C:/Users/Edward/Desktop/LOCALDATA_ALL/fulldata_01_01_07_P_응급환자이송업.xlsx', usecols = [1, 3, 4, 5, 7, 8, 11, 12, 13, 14, 18, 19, 21, 25, 26, 27])\n",
    "응급환자이송업"
   ]
  },
  {
   "cell_type": "code",
   "execution_count": null,
   "metadata": {},
   "outputs": [],
   "source": [
    "의료법인 = pd.read_excel('C:/Users/Edward/Desktop/LOCALDATA_ALL/fulldata_01_01_08_P_의료법인.xlsx', usecols = [1, 3, 4, 5, 7, 8, 11, 12, 13, 14, 18, 19, 21, 25, 26, 27])\n",
    "의료법인"
   ]
  },
  {
   "cell_type": "code",
   "execution_count": null,
   "metadata": {},
   "outputs": [],
   "source": [
    "의료유사업 = pd.read_excel('C:/Users/Edward/Desktop/LOCALDATA_ALL/fulldata_01_01_10_P_의료유사업.xlsx', usecols = [1, 3, 4, 5, 7, 8, 11, 12, 13, 14, 18, 19, 21, 25, 26, 27])\n",
    "의료유사업"
   ]
  },
  {
   "cell_type": "code",
   "execution_count": null,
   "metadata": {},
   "outputs": [],
   "source": [
    "안경업 = pd.read_excel('C:/Users/Edward/Desktop/LOCALDATA_ALL/fulldata_01_02_01_P_안경업.xlsx', usecols = [1, 3, 4, 5, 7, 8, 11, 12, 13, 14, 18, 19, 21, 25, 26, 27])\n",
    "안경업"
   ]
  },
  {
   "cell_type": "code",
   "execution_count": null,
   "metadata": {},
   "outputs": [],
   "source": [
    "의료기기수리업 = pd.read_excel('C:/Users/Edward/Desktop/LOCALDATA_ALL/fulldata_01_02_02_P_의료기기수리업.xlsx', usecols = [1, 3, 4, 5, 7, 8, 11, 12, 13, 14, 18, 19, 21, 25, 26, 27])\n",
    "의료기기수리업"
   ]
  },
  {
   "cell_type": "code",
   "execution_count": null,
   "metadata": {},
   "outputs": [],
   "source": [
    "의료기기판매업 = pd.read_excel('C:/Users/Edward/Desktop/LOCALDATA_ALL/fulldata_01_02_03_P_의료기기판매(임대)업.xlsx', usecols = [1, 3, 4, 5, 7, 8, 11, 12, 13, 14, 18, 19, 21, 25, 26, 27])\n",
    "의료기기판매업"
   ]
  },
  {
   "cell_type": "code",
   "execution_count": null,
   "metadata": {},
   "outputs": [],
   "source": [
    "치과기공소 = pd.read_excel('C:/Users/Edward/Desktop/LOCALDATA_ALL/fulldata_01_02_04_P_치과기공소.xlsx', usecols = [1, 3, 4, 5, 7, 8, 11, 12, 13, 14, 18, 19, 21, 25, 26, 27])\n",
    "치과기공소"
   ]
  },
  {
   "cell_type": "code",
   "execution_count": null,
   "metadata": {},
   "outputs": [],
   "source": [
    "동물병원 = pd.read_excel('C:/Users/Edward/Desktop/LOCALDATA_ALL/fulldata_02_03_01_P_동물병원.xlsx', usecols = [1, 3, 4, 5, 7, 8, 11, 12, 13, 14, 18, 19, 21, 25, 26, 27])\n",
    "동물병원"
   ]
  },
  {
   "cell_type": "code",
   "execution_count": null,
   "metadata": {},
   "outputs": [],
   "source": [
    "동물약국 = pd.read_excel('C:/Users/Edward/Desktop/LOCALDATA_ALL/fulldata_02_03_02_P_동물약국.xlsx', usecols = [1, 3, 4, 5, 7, 8, 11, 12, 13, 14, 18, 19, 21, 25, 26, 27])\n",
    "동물약국"
   ]
  },
  {
   "cell_type": "code",
   "execution_count": null,
   "metadata": {},
   "outputs": [],
   "source": [
    "동물용의료용구판매업 = pd.read_excel('C:/Users/Edward/Desktop/LOCALDATA_ALL/fulldata_02_03_03_P_동물용의료용구판매업.xlsx', usecols = [1, 3, 4, 5, 7, 8, 11, 12, 13, 14, 18, 19, 21, 25, 26, 27])\n",
    "동물용의료용구판매업"
   ]
  },
  {
   "cell_type": "code",
   "execution_count": null,
   "metadata": {},
   "outputs": [],
   "source": [
    "동물용의약품도매상 = pd.read_excel('C:/Users/Edward/Desktop/LOCALDATA_ALL/fulldata_02_03_04_P_동물용의약품도매상.xlsx', usecols = [1, 3, 4, 5, 7, 8, 11, 12, 13, 14, 18, 19, 21, 25, 26, 27])\n",
    "동물용의약품도매상"
   ]
  },
  {
   "cell_type": "code",
   "execution_count": null,
   "metadata": {},
   "outputs": [],
   "source": [
    "동물장묘업 = pd.read_excel('C:/Users/Edward/Desktop/LOCALDATA_ALL/fulldata_02_03_05_P_동물장묘업.xlsx', usecols = [1, 3, 4, 5, 7, 8, 11, 12, 13, 14, 18, 19, 21, 25, 26, 27])\n",
    "동물장묘업"
   ]
  },
  {
   "cell_type": "code",
   "execution_count": null,
   "metadata": {},
   "outputs": [],
   "source": [
    "동물생산업 = pd.read_excel('C:/Users/Edward/Desktop/LOCALDATA_ALL/fulldata_02_03_06_P_동물생산업.xlsx', usecols = [1, 3, 4, 5, 7, 8, 11, 12, 13, 14, 18, 19, 21, 25, 26, 27])\n",
    "동물생산업"
   ]
  },
  {
   "cell_type": "code",
   "execution_count": null,
   "metadata": {},
   "outputs": [],
   "source": [
    "동물판매업 = pd.read_excel('C:/Users/Edward/Desktop/LOCALDATA_ALL/fulldata_02_03_07_P_동물판매업.xlsx', usecols = [1, 3, 4, 5, 7, 8, 11, 12, 13, 14, 18, 19, 21, 25, 26, 27])\n",
    "동물판매업"
   ]
  },
  {
   "cell_type": "code",
   "execution_count": null,
   "metadata": {},
   "outputs": [],
   "source": [
    "동물수입업 = pd.read_excel('C:/Users/Edward/Desktop/LOCALDATA_ALL/fulldata_02_03_08_P_동물수입업.xlsx', usecols = [1, 3, 4, 5, 7, 8, 11, 12, 13, 14, 18, 19, 21, 25, 26, 27])\n",
    "동물수입업"
   ]
  },
  {
   "cell_type": "code",
   "execution_count": null,
   "metadata": {},
   "outputs": [],
   "source": [
    "동물전시업 = pd.read_excel('C:/Users/Edward/Desktop/LOCALDATA_ALL/fulldata_02_03_09_P_동물전시업.xlsx', usecols = [1, 3, 4, 5, 7, 8, 11, 12, 13, 14, 18, 19, 21, 25, 26, 27])\n",
    "동물전시업"
   ]
  },
  {
   "cell_type": "code",
   "execution_count": null,
   "metadata": {},
   "outputs": [],
   "source": [
    "동물위탁관리업 = pd.read_excel('C:/Users/Edward/Desktop/LOCALDATA_ALL/fulldata_02_03_10_P_동물위탁관리업.xlsx', usecols = [1, 3, 4, 5, 7, 8, 11, 12, 13, 14, 18, 19, 21, 25, 26, 27])\n",
    "동물위탁관리업"
   ]
  },
  {
   "cell_type": "code",
   "execution_count": null,
   "metadata": {},
   "outputs": [],
   "source": [
    "동물미용업 = pd.read_excel('C:/Users/Edward/Desktop/LOCALDATA_ALL/fulldata_02_03_11_P_동물미용업.xlsx', usecols = [1, 3, 4, 5, 7, 8, 11, 12, 13, 14, 18, 19, 21, 25, 26, 27])\n",
    "동물미용업"
   ]
  },
  {
   "cell_type": "code",
   "execution_count": null,
   "metadata": {},
   "outputs": [],
   "source": [
    "동물운송업 = pd.read_excel('C:/Users/Edward/Desktop/LOCALDATA_ALL/fulldata_02_03_12_P_동물운송업.xlsx', usecols = [1, 3, 4, 5, 7, 8, 11, 12, 13, 14, 18, 19, 21, 25, 26, 27])\n",
    "동물운송업"
   ]
  },
  {
   "cell_type": "code",
   "execution_count": null,
   "metadata": {},
   "outputs": [],
   "source": [
    "가축사육업 = pd.read_excel('C:/Users/Edward/Desktop/LOCALDATA_ALL/fulldata_02_04_01_P_가축사육업.xlsx', usecols = [1, 3, 4, 5, 7, 8, 11, 12, 13, 14, 18, 19, 21, 25, 26, 27])\n",
    "가축사육업"
   ]
  },
  {
   "cell_type": "code",
   "execution_count": null,
   "metadata": {},
   "outputs": [],
   "source": [
    "가축인공수정소 = pd.read_excel('C:/Users/Edward/Desktop/LOCALDATA_ALL/fulldata_02_04_02_P_가축인공수정소.xlsx', usecols = [1, 3, 4, 5, 7, 8, 11, 12, 13, 14, 18, 19, 21, 25, 26, 27])\n",
    "가축인공수정소"
   ]
  },
  {
   "cell_type": "code",
   "execution_count": null,
   "metadata": {},
   "outputs": [],
   "source": [
    "도축업 = pd.read_excel('C:/Users/Edward/Desktop/LOCALDATA_ALL/fulldata_02_04_03_P_도축업.xlsx', usecols = [1, 3, 4, 5, 7, 8, 11, 12, 13, 14, 18, 19, 21, 25, 26, 27])\n",
    "도축업"
   ]
  },
  {
   "cell_type": "code",
   "execution_count": null,
   "metadata": {},
   "outputs": [],
   "source": [
    "부화업 = pd.read_excel('C:/Users/Edward/Desktop/LOCALDATA_ALL/fulldata_02_04_04_P_부화업.xlsx', usecols = [1, 3, 4, 5, 7, 8, 11, 12, 13, 14, 18, 19, 21, 25, 26, 27])\n",
    "부화업"
   ]
  },
  {
   "cell_type": "code",
   "execution_count": null,
   "metadata": {},
   "outputs": [],
   "source": [
    "사료제조업 = pd.read_excel('C:/Users/Edward/Desktop/LOCALDATA_ALL/fulldata_02_04_05_P_사료제조업.xlsx', usecols = [1, 3, 4, 5, 7, 8, 11, 12, 13, 14, 18, 19, 21, 25, 26, 27])\n",
    "사료제조업"
   ]
  },
  {
   "cell_type": "code",
   "execution_count": null,
   "metadata": {},
   "outputs": [],
   "source": [
    "종축업 = pd.read_excel('C:/Users/Edward/Desktop/LOCALDATA_ALL/fulldata_02_04_06_P_종축업.xlsx', usecols = [1, 3, 4, 5, 7, 8, 11, 12, 13, 14, 18, 19, 21, 25, 26, 27])\n",
    "종축업"
   ]
  },
  {
   "cell_type": "code",
   "execution_count": null,
   "metadata": {},
   "outputs": [],
   "source": [
    "게임물배급업 = pd.read_excel('C:/Users/Edward/Desktop/LOCALDATA_ALL/fulldata_03_05_01_P_게임물배급업.xlsx', usecols = [1, 3, 4, 5, 7, 8, 11, 12, 13, 14, 18, 19, 21, 25, 26, 27])\n",
    "게임물배급업"
   ]
  },
  {
   "cell_type": "code",
   "execution_count": null,
   "metadata": {},
   "outputs": [],
   "source": [
    "게임물제작업 = pd.read_excel('C:/Users/Edward/Desktop/LOCALDATA_ALL/fulldata_03_05_02_P_게임물제작업.xlsx', usecols = [1, 3, 4, 5, 7, 8, 11, 12, 13, 14, 18, 19, 21, 25, 26, 27])\n",
    "게임물제작업"
   ]
  },
  {
   "cell_type": "code",
   "execution_count": null,
   "metadata": {},
   "outputs": [],
   "source": [
    "복합영상물제공업 = pd.read_excel('C:/Users/Edward/Desktop/LOCALDATA_ALL/fulldata_03_05_03_P_복합영상물제공업.xlsx', usecols = [1, 3, 4, 5, 7, 8, 11, 12, 13, 14, 18, 19, 21, 25, 26, 27])\n",
    "복합영상물제공업"
   ]
  },
  {
   "cell_type": "code",
   "execution_count": null,
   "metadata": {},
   "outputs": [],
   "source": [
    "복합유통게임제공업 = pd.read_excel('C:/Users/Edward/Desktop/LOCALDATA_ALL/fulldata_03_05_04_P_복합유통게임제공업.xlsx', usecols = [1, 3, 4, 5, 7, 8, 11, 12, 13, 14, 18, 19, 21, 25, 26, 27])\n",
    "복합유통게임제공업"
   ]
  },
  {
   "cell_type": "code",
   "execution_count": null,
   "metadata": {},
   "outputs": [],
   "source": [
    "인터넷컴퓨터게임시설제공업 = pd.read_excel('C:/Users/Edward/Desktop/LOCALDATA_ALL/fulldata_03_05_05_P_인터넷컴퓨터게임시설제공업.xlsx', usecols = [1, 3, 4, 5, 7, 8, 11, 12, 13, 14, 18, 19, 21, 25, 26, 27])\n",
    "인터넷컴퓨터게임시설제공업"
   ]
  },
  {
   "cell_type": "code",
   "execution_count": null,
   "metadata": {},
   "outputs": [],
   "source": [
    "일반게임제공업 = pd.read_excel('C:/Users/Edward/Desktop/LOCALDATA_ALL/fulldata_03_05_06_P_일반게임제공업.xlsx', usecols = [1, 3, 4, 5, 7, 8, 11, 12, 13, 14, 18, 19, 21, 25, 26, 27])\n",
    "일반게임제공업"
   ]
  },
  {
   "cell_type": "code",
   "execution_count": null,
   "metadata": {},
   "outputs": [],
   "source": [
    "청소년게임제공업 = pd.read_excel('C:/Users/Edward/Desktop/LOCALDATA_ALL/fulldata_03_05_07_P_청소년게임제공업.xlsx', usecols = [1, 3, 4, 5, 7, 8, 11, 12, 13, 14, 18, 19, 21, 25, 26, 27])\n",
    "청소년게임제공업"
   ]
  },
  {
   "cell_type": "code",
   "execution_count": null,
   "metadata": {},
   "outputs": [],
   "source": [
    "공연장 = pd.read_excel('C:/Users/Edward/Desktop/LOCALDATA_ALL/fulldata_03_06_01_P_공연장.xlsx', usecols = [1, 3, 4, 5, 7, 8, 11, 12, 13, 14, 18, 19, 21, 25, 26, 27])\n",
    "공연장"
   ]
  },
  {
   "cell_type": "code",
   "execution_count": null,
   "metadata": {},
   "outputs": [],
   "source": [
    "관광공연장업 = pd.read_excel('C:/Users/Edward/Desktop/LOCALDATA_ALL/fulldata_03_06_02_P_관광공연장업.xlsx', usecols = [1, 3, 4, 5, 7, 8, 11, 12, 13, 14, 18, 19, 21, 25, 26, 27])\n",
    "관광공연장업"
   ]
  },
  {
   "cell_type": "code",
   "execution_count": null,
   "metadata": {},
   "outputs": [],
   "source": [
    "관광극장유흥업 = pd.read_excel('C:/Users/Edward/Desktop/LOCALDATA_ALL/fulldata_03_06_03_P_관광극장유흥업.xlsx', usecols = [1, 3, 4, 5, 7, 8, 11, 12, 13, 14, 18, 19, 21, 25, 26, 27])\n",
    "관광극장유흥업"
   ]
  },
  {
   "cell_type": "code",
   "execution_count": null,
   "metadata": {},
   "outputs": [],
   "source": [
    "관광궤도업 = pd.read_excel('C:/Users/Edward/Desktop/LOCALDATA_ALL/fulldata_03_07_01_P_관광궤도업.xlsx', usecols = [1, 3, 4, 5, 7, 8, 11, 12, 13, 14, 18, 19, 21, 25, 26, 27])\n",
    "관광궤도업"
   ]
  },
  {
   "cell_type": "code",
   "execution_count": null,
   "metadata": {},
   "outputs": [],
   "source": [
    "관광사업자 = pd.read_excel('C:/Users/Edward/Desktop/LOCALDATA_ALL/fulldata_03_07_02_P_관광사업자.xlsx', usecols = [1, 3, 4, 5, 7, 8, 11, 12, 13, 14, 18, 19, 21, 25, 26, 27])\n",
    "관광사업자"
   ]
  },
  {
   "cell_type": "code",
   "execution_count": null,
   "metadata": {},
   "outputs": [],
   "source": [
    "관광유람선업 = pd.read_excel('C:/Users/Edward/Desktop/LOCALDATA_ALL/fulldata_03_07_03_P_관광유람선업.xlsx', usecols = [1, 3, 4, 5, 7, 8, 11, 12, 13, 14, 18, 19, 21, 25, 26, 27])\n",
    "관광유람선업"
   ]
  },
  {
   "cell_type": "code",
   "execution_count": null,
   "metadata": {},
   "outputs": [],
   "source": [
    "국제회의시설업 = pd.read_excel('C:/Users/Edward/Desktop/LOCALDATA_ALL/fulldata_03_07_04_P_국제회의시설업.xlsx', usecols = [1, 3, 4, 5, 7, 8, 11, 12, 13, 14, 18, 19, 21, 25, 26, 27])\n",
    "국제회의시설업"
   ]
  },
  {
   "cell_type": "code",
   "execution_count": null,
   "metadata": {},
   "outputs": [],
   "source": [
    "박물관_미술관 = pd.read_excel('C:/Users/Edward/Desktop/LOCALDATA_ALL/fulldata_03_07_05_P_박물관, 미술관.xlsx', usecols = [1, 3, 4, 5, 7, 8, 11, 12, 13, 14, 18, 19, 21, 25, 26, 27])\n",
    "박물관_미술관"
   ]
  },
  {
   "cell_type": "code",
   "execution_count": null,
   "metadata": {},
   "outputs": [],
   "source": [
    "시내순환관광업 = pd.read_excel('C:/Users/Edward/Desktop/LOCALDATA_ALL/fulldata_03_07_06_P_시내순환관광업.xlsx', usecols = [1, 3, 4, 5, 7, 8, 11, 12, 13, 14, 18, 19, 21, 25, 26, 27])\n",
    "시내순환관광업"
   ]
  },
  {
   "cell_type": "code",
   "execution_count": null,
   "metadata": {},
   "outputs": [],
   "source": [
    "기타유원시설업 = pd.read_excel('C:/Users/Edward/Desktop/LOCALDATA_ALL/fulldata_03_07_08_P_유원시설업(기타).xlsx', usecols = [1, 3, 4, 5, 7, 8, 11, 12, 13, 14, 18, 19, 21, 25, 26, 27])\n",
    "기타유원시설업"
   ]
  },
  {
   "cell_type": "code",
   "execution_count": null,
   "metadata": {},
   "outputs": [],
   "source": [
    "일반유원시설업 = pd.read_excel('C:/Users/Edward/Desktop/LOCALDATA_ALL/fulldata_03_07_09_P_일반유원시설업.xlsx', usecols = [1, 3, 4, 5, 7, 8, 11, 12, 13, 14, 18, 19, 21, 25, 26, 27])\n",
    "일반유원시설업"
   ]
  },
  {
   "cell_type": "code",
   "execution_count": null,
   "metadata": {},
   "outputs": [],
   "source": [
    "전문휴양업 = pd.read_excel('C:/Users/Edward/Desktop/LOCALDATA_ALL/fulldata_03_07_10_P_전문휴양업.xlsx', usecols = [1, 3, 4, 5, 7, 8, 11, 12, 13, 14, 18, 19, 21, 25, 26, 27])\n",
    "전문휴양업"
   ]
  },
  {
   "cell_type": "code",
   "execution_count": null,
   "metadata": {},
   "outputs": [],
   "source": [
    "전통사찰 = pd.read_excel('C:/Users/Edward/Desktop/LOCALDATA_ALL/fulldata_03_07_11_P_전통사찰.xlsx', usecols = [1, 3, 4, 5, 7, 8, 11, 12, 13, 14, 18, 19, 21, 25, 26, 27])\n",
    "전통사찰"
   ]
  },
  {
   "cell_type": "code",
   "execution_count": null,
   "metadata": {},
   "outputs": [],
   "source": [
    "종합유원시설업 = pd.read_excel('C:/Users/Edward/Desktop/LOCALDATA_ALL/fulldata_03_07_12_P_종합유원시설업.xlsx', usecols = [1, 3, 4, 5, 7, 8, 11, 12, 13, 14, 18, 19, 21, 25, 26, 27])\n",
    "종합유원시설업"
   ]
  },
  {
   "cell_type": "code",
   "execution_count": null,
   "metadata": {},
   "outputs": [],
   "source": [
    "종합휴양업 = pd.read_excel('C:/Users/Edward/Desktop/LOCALDATA_ALL/fulldata_03_07_13_P_종합휴양업.xlsx', usecols = [1, 3, 4, 5, 7, 8, 11, 12, 13, 14, 18, 19, 21, 25, 26, 27])\n",
    "종합휴양업"
   ]
  },
  {
   "cell_type": "code",
   "execution_count": null,
   "metadata": {},
   "outputs": [],
   "source": [
    "지방문화원 = pd.read_excel('C:/Users/Edward/Desktop/LOCALDATA_ALL/fulldata_03_07_14_P_지방문화원.xlsx', usecols = [1, 3, 4, 5, 7, 8, 11, 12, 13, 14, 18, 19, 21, 25, 26, 27])\n",
    "지방문화원"
   ]
  },
  {
   "cell_type": "code",
   "execution_count": null,
   "metadata": {},
   "outputs": [],
   "source": [
    "국제회의기획업 = pd.read_excel('C:/Users/Edward/Desktop/LOCALDATA_ALL/fulldata_03_08_01_P_국제회의기획업.xlsx', usecols = [1, 3, 4, 5, 7, 8, 11, 12, 13, 14, 18, 19, 21, 25, 26, 27])\n",
    "국제회의기획업"
   ]
  },
  {
   "cell_type": "code",
   "execution_count": null,
   "metadata": {},
   "outputs": [],
   "source": [
    "대중문화예술기획업 = pd.read_excel('C:/Users/Edward/Desktop/LOCALDATA_ALL/fulldata_03_08_02_P_대중문화예술기획업.xlsx', usecols = [1, 3, 4, 5, 7, 8, 11, 12, 13, 14, 18, 19, 21, 25, 26, 27])\n",
    "대중문화예술기획업"
   ]
  },
  {
   "cell_type": "code",
   "execution_count": null,
   "metadata": {},
   "outputs": [],
   "source": [
    "문화예술법인 = pd.read_excel('C:/Users/Edward/Desktop/LOCALDATA_ALL/fulldata_03_08_03_P_문화예술법인.xlsx', usecols = [1, 3, 4, 5, 7, 8, 11, 12, 13, 14, 18, 19, 21, 25, 26, 27])\n",
    "문화예술법인"
   ]
  },
  {
   "cell_type": "code",
   "execution_count": null,
   "metadata": {},
   "outputs": [],
   "source": [
    "노래연습장업 = pd.read_excel('C:/Users/Edward/Desktop/LOCALDATA_ALL/fulldata_03_09_01_P_노래연습장업.xlsx', usecols = [1, 3, 4, 5, 7, 8, 11, 12, 13, 14, 18, 19, 21, 25, 26, 27])\n",
    "노래연습장업"
   ]
  },
  {
   "cell_type": "code",
   "execution_count": null,
   "metadata": {},
   "outputs": [],
   "source": [
    "비디오물감상실업 = pd.read_excel('C:/Users/Edward/Desktop/LOCALDATA_ALL/fulldata_03_10_01_P_비디오물감상실업.xlsx', usecols = [1, 3, 4, 5, 7, 8, 11, 12, 13, 14, 18, 19, 21, 25, 26, 27])\n",
    "비디오물감상실업"
   ]
  },
  {
   "cell_type": "code",
   "execution_count": null,
   "metadata": {},
   "outputs": [],
   "source": [
    "비디오물배급업 = pd.read_excel('C:/Users/Edward/Desktop/LOCALDATA_ALL/fulldata_03_10_02_P_비디오물배급업.xlsx', usecols = [1, 3, 4, 5, 7, 8, 11, 12, 13, 14, 18, 19, 21, 25, 26, 27])\n",
    "비디오물배급업"
   ]
  },
  {
   "cell_type": "code",
   "execution_count": null,
   "metadata": {},
   "outputs": [],
   "source": [
    "비디오물소극장업 = pd.read_excel('C:/Users/Edward/Desktop/LOCALDATA_ALL/fulldata_03_10_03_P_비디오물소극장업.xlsx', usecols = [1, 3, 4, 5, 7, 8, 11, 12, 13, 14, 18, 19, 21, 25, 26, 27])\n",
    "비디오물소극장업"
   ]
  },
  {
   "cell_type": "code",
   "execution_count": null,
   "metadata": {},
   "outputs": [],
   "source": [
    "비디오물시청제공업 = pd.read_excel('C:/Users/Edward/Desktop/LOCALDATA_ALL/fulldata_03_10_04_P_비디오물시청제공업.xlsx', usecols = [1, 3, 4, 5, 7, 8, 11, 12, 13, 14, 18, 19, 21, 25, 26, 27])\n",
    "비디오물시청제공업"
   ]
  },
  {
   "cell_type": "code",
   "execution_count": null,
   "metadata": {},
   "outputs": [],
   "source": [
    "비디오물제작업 = pd.read_excel('C:/Users/Edward/Desktop/LOCALDATA_ALL/fulldata_03_10_05_P_비디오물제작업.xlsx', usecols = [1, 3, 4, 5, 7, 8, 11, 12, 13, 14, 18, 19, 21, 25, 26, 27])\n",
    "비디오물제작업"
   ]
  },
  {
   "cell_type": "code",
   "execution_count": null,
   "metadata": {},
   "outputs": [],
   "source": [
    "관광숙박업 = pd.read_excel('C:/Users/Edward/Desktop/LOCALDATA_ALL/fulldata_03_11_01_P_관광숙박업.xlsx', usecols = [1, 3, 4, 5, 7, 8, 11, 12, 13, 14, 18, 19, 21, 25, 26, 27])\n",
    "관광숙박업"
   ]
  },
  {
   "cell_type": "code",
   "execution_count": null,
   "metadata": {},
   "outputs": [],
   "source": [
    "관광펜션업 = pd.read_excel('C:/Users/Edward/Desktop/LOCALDATA_ALL/fulldata_03_11_02_P_관광펜션업.xlsx', usecols = [1, 3, 4, 5, 7, 8, 11, 12, 13, 14, 18, 19, 21, 25, 26, 27])\n",
    "관광펜션업"
   ]
  },
  {
   "cell_type": "code",
   "execution_count": null,
   "metadata": {},
   "outputs": [],
   "source": [
    "숙박업 = pd.read_excel('C:/Users/Edward/Desktop/LOCALDATA_ALL/fulldata_03_11_03_P_숙박업.xlsx', usecols = [1, 3, 4, 5, 7, 8, 11, 12, 13, 14, 18, 19, 21, 25, 26, 27])\n",
    "숙박업"
   ]
  },
  {
   "cell_type": "code",
   "execution_count": null,
   "metadata": {},
   "outputs": [],
   "source": [
    "외국인관광도시민박업 = pd.read_excel('C:/Users/Edward/Desktop/LOCALDATA_ALL/fulldata_03_11_04_P_외국인관광도시민박업.xlsx', usecols = [1, 3, 4, 5, 7, 8, 11, 12, 13, 14, 18, 19, 21, 25, 26, 27])\n",
    "외국인관광도시민박업"
   ]
  },
  {
   "cell_type": "code",
   "execution_count": null,
   "metadata": {},
   "outputs": [],
   "source": [
    "자동차야영장업 = pd.read_excel('C:/Users/Edward/Desktop/LOCALDATA_ALL/fulldata_03_11_05_P_자동차야영장업.xlsx', usecols = [1, 3, 4, 5, 7, 8, 11, 12, 13, 14, 18, 19, 21, 25, 26, 27])\n",
    "자동차야영장업"
   ]
  },
  {
   "cell_type": "code",
   "execution_count": null,
   "metadata": {},
   "outputs": [],
   "source": [
    "한옥체험업 = pd.read_excel('C:/Users/Edward/Desktop/LOCALDATA_ALL/fulldata_03_11_06_P_한옥체험업.xlsx', usecols = [1, 3, 4, 5, 7, 8, 11, 12, 13, 14, 18, 19, 21, 25, 26, 27])\n",
    "한옥체험업"
   ]
  },
  {
   "cell_type": "code",
   "execution_count": null,
   "metadata": {},
   "outputs": [],
   "source": [
    "일반야영장업 = pd.read_excel('C:/Users/Edward/Desktop/LOCALDATA_ALL/fulldata_03_11_07_P_일반야영장업.xlsx', usecols = [1, 3, 4, 5, 7, 8, 11, 12, 13, 14, 18, 19, 21, 25, 26, 27])\n",
    "일반야영장업"
   ]
  },
  {
   "cell_type": "code",
   "execution_count": null,
   "metadata": {},
   "outputs": [],
   "source": [
    "국내여행업 = pd.read_excel('C:/Users/Edward/Desktop/LOCALDATA_ALL/fulldata_03_12_01_P_국내여행업.xlsx', usecols = [1, 3, 4, 5, 7, 8, 11, 12, 13, 14, 18, 19, 21, 25, 26, 27])\n",
    "국내여행업"
   ]
  },
  {
   "cell_type": "code",
   "execution_count": null,
   "metadata": {},
   "outputs": [],
   "source": [
    "국내외여행업 = pd.read_excel('C:/Users/Edward/Desktop/LOCALDATA_ALL/fulldata_03_12_02_P_국내외여행업.xlsx', usecols = [1, 3, 4, 5, 7, 8, 11, 12, 13, 14, 18, 19, 21, 25, 26, 27])\n",
    "국내외여행업"
   ]
  },
  {
   "cell_type": "code",
   "execution_count": null,
   "metadata": {},
   "outputs": [],
   "source": [
    "종합여행업 = pd.read_excel('C:/Users/Edward/Desktop/LOCALDATA_ALL/fulldata_03_12_03_P_종합여행업.xlsx', usecols = [1, 3, 4, 5, 7, 8, 11, 12, 13, 14, 18, 19, 21, 25, 26, 27])\n",
    "종합여행업"
   ]
  },
  {
   "cell_type": "code",
   "execution_count": null,
   "metadata": {},
   "outputs": [],
   "source": [
    "영화배급업 = pd.read_excel('C:/Users/Edward/Desktop/LOCALDATA_ALL/fulldata_03_13_01_P_영화배급업.xlsx', usecols = [1, 3, 4, 5, 7, 8, 11, 12, 13, 14, 18, 19, 21, 25, 26, 27])\n",
    "영화배급업"
   ]
  },
  {
   "cell_type": "code",
   "execution_count": null,
   "metadata": {},
   "outputs": [],
   "source": [
    "영화상영관 = pd.read_excel('C:/Users/Edward/Desktop/LOCALDATA_ALL/fulldata_03_13_02_P_영화상영관.xlsx', usecols = [1, 3, 4, 5, 7, 8, 11, 12, 13, 14, 18, 19, 21, 25, 26, 27])\n",
    "영화상영관"
   ]
  },
  {
   "cell_type": "code",
   "execution_count": null,
   "metadata": {},
   "outputs": [],
   "source": [
    "영화상영업 = pd.read_excel('C:/Users/Edward/Desktop/LOCALDATA_ALL/fulldata_03_13_03_P_영화상영업.xlsx', usecols = [1, 3, 4, 5, 7, 8, 11, 12, 13, 14, 18, 19, 21, 25, 26, 27])\n",
    "영화상영업"
   ]
  },
  {
   "cell_type": "code",
   "execution_count": null,
   "metadata": {},
   "outputs": [],
   "source": [
    "영화수입업 = pd.read_excel('C:/Users/Edward/Desktop/LOCALDATA_ALL/fulldata_03_13_04_P_영화수입업.xlsx', usecols = [1, 3, 4, 5, 7, 8, 11, 12, 13, 14, 18, 19, 21, 25, 26, 27])\n",
    "영화수입업"
   ]
  },
  {
   "cell_type": "code",
   "execution_count": null,
   "metadata": {},
   "outputs": [],
   "source": [
    "영화제작업 = pd.read_excel('C:/Users/Edward/Desktop/LOCALDATA_ALL/fulldata_03_13_05_P_영화제작업.xlsx', usecols = [1, 3, 4, 5, 7, 8, 11, 12, 13, 14, 18, 19, 21, 25, 26, 27])\n",
    "영화제작업"
   ]
  },
  {
   "cell_type": "code",
   "execution_count": null,
   "metadata": {},
   "outputs": [],
   "source": [
    "온라인음악서비스제공업 = pd.read_excel('C:/Users/Edward/Desktop/LOCALDATA_ALL/fulldata_03_14_01_P_온라인음악서비스제공업.xlsx', usecols = [1, 3, 4, 5, 7, 8, 11, 12, 13, 14, 18, 19, 21, 25, 26, 27])\n",
    "온라인음악서비스제공업"
   ]
  },
  {
   "cell_type": "code",
   "execution_count": null,
   "metadata": {},
   "outputs": [],
   "source": [
    "음반음악영상물배급업 = pd.read_excel('C:/Users/Edward/Desktop/LOCALDATA_ALL/fulldata_03_14_02_P_음반.음악영상물배급업.xlsx', usecols = [1, 3, 4, 5, 7, 8, 11, 12, 13, 14, 18, 19, 21, 25, 26, 27])\n",
    "음반음악영상물배급업"
   ]
  },
  {
   "cell_type": "code",
   "execution_count": null,
   "metadata": {},
   "outputs": [],
   "source": [
    "음반음악영상물제작업 = pd.read_excel('C:/Users/Edward/Desktop/LOCALDATA_ALL/fulldata_03_14_03_P_음반.음악영상물제작업.xlsx', usecols = [1, 3, 4, 5, 7, 8, 11, 12, 13, 14, 18, 19, 21, 25, 26, 27])\n",
    "음반음악영상물제작업"
   ]
  }
 ],
 "metadata": {
  "kernelspec": {
   "display_name": "Python 3.9.7 ('py')",
   "language": "python",
   "name": "python3"
  },
  "language_info": {
   "codemirror_mode": {
    "name": "ipython",
    "version": 3
   },
   "file_extension": ".py",
   "mimetype": "text/x-python",
   "name": "python",
   "nbconvert_exporter": "python",
   "pygments_lexer": "ipython3",
   "version": "3.9.7"
  },
  "orig_nbformat": 4,
  "vscode": {
   "interpreter": {
    "hash": "1abbe5dd4abc851705e4f62e315af109ac99b493c63f3ec0dcb577a1d971e293"
   }
  }
 },
 "nbformat": 4,
 "nbformat_minor": 2
}
