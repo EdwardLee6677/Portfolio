{
 "cells": [
  {
   "cell_type": "code",
   "execution_count": null,
   "metadata": {},
   "outputs": [],
   "source": [
    "import pandas as pd\n",
    "import numpy as np\n",
    "from causalimpact import CausalImpact as CI"
   ]
  },
  {
   "cell_type": "code",
   "execution_count": null,
   "metadata": {},
   "outputs": [],
   "source": [
    "licensing_csv = pd.read_csv('C:/Users/Edward/Desktop/PythonWorkspace/인허가/lic.csv', encoding='cp949', sep=';', dtype=object)\n",
    "licensing_csv"
   ]
  },
  {
   "cell_type": "code",
   "execution_count": null,
   "metadata": {},
   "outputs": [],
   "source": [
    "licensing_csv.info()"
   ]
  },
  {
   "cell_type": "code",
   "execution_count": null,
   "metadata": {},
   "outputs": [],
   "source": [
    "licensing = licensing_csv"
   ]
  },
  {
   "cell_type": "code",
   "execution_count": null,
   "metadata": {},
   "outputs": [],
   "source": [
    "licensing"
   ]
  },
  {
   "cell_type": "code",
   "execution_count": null,
   "metadata": {},
   "outputs": [],
   "source": [
    "licensing['폐업시기'] = licensing['폐업시기'].apply(lambda x: pd.to_datetime(str(x), format='%Y-%m-%d'))\n",
    "licensing['개업시기'] = licensing['개업시기'].apply(lambda x: pd.to_datetime(str(x), format='%Y-%m-%d'))"
   ]
  },
  {
   "cell_type": "code",
   "execution_count": null,
   "metadata": {},
   "outputs": [],
   "source": [
    "licensing['기준'] = 1\n",
    "licensing"
   ]
  },
  {
   "cell_type": "code",
   "execution_count": null,
   "metadata": {},
   "outputs": [],
   "source": [
    "licensing['영업상태'] = licensing['영업상태(0=폐업)']\n",
    "licensing"
   ]
  },
  {
   "cell_type": "code",
   "execution_count": null,
   "metadata": {},
   "outputs": [],
   "source": [
    "licensing.drop(['영업상태(0=폐업)'], axis=1, inplace=True)\n",
    "licensing"
   ]
  },
  {
   "cell_type": "code",
   "execution_count": null,
   "metadata": {},
   "outputs": [],
   "source": [
    "licensing.to_csv('ci.csv', encoding='cp949')"
   ]
  },
  {
   "cell_type": "code",
   "execution_count": null,
   "metadata": {},
   "outputs": [],
   "source": [
    "licensing['개방서비스명'].nunique()"
   ]
  },
  {
   "cell_type": "code",
   "execution_count": null,
   "metadata": {},
   "outputs": [],
   "source": [
    "licensing['개방서비스명'].unique()"
   ]
  },
  {
   "cell_type": "code",
   "execution_count": null,
   "metadata": {},
   "outputs": [],
   "source": [
    "tb=licensing.groupby('개방서비스명')\n",
    "tb"
   ]
  },
  {
   "attachments": {},
   "cell_type": "markdown",
   "metadata": {},
   "source": [
    "### 병원"
   ]
  },
  {
   "cell_type": "code",
   "execution_count": null,
   "metadata": {},
   "outputs": [],
   "source": [
    "병원= tb.get_group('병원')\n",
    "병원"
   ]
  },
  {
   "cell_type": "code",
   "execution_count": null,
   "metadata": {},
   "outputs": [],
   "source": [
    "병원.drop(['개방서비스명'], axis=1, inplace=True)"
   ]
  },
  {
   "cell_type": "code",
   "execution_count": null,
   "metadata": {},
   "outputs": [],
   "source": [
    "병원_o = 병원[병원['영업상태(0=폐업)']=='1']\n",
    "병원_o"
   ]
  },
  {
   "cell_type": "code",
   "execution_count": null,
   "metadata": {},
   "outputs": [],
   "source": [
    "병원_o.drop(['폐업시기'], axis=1, inplace=True)"
   ]
  },
  {
   "cell_type": "code",
   "execution_count": null,
   "metadata": {},
   "outputs": [],
   "source": [
    "\n",
    "병원_o.drop(['close_year'], axis=1, inplace=True)\n",
    "병원_o.drop(['close_month'], axis=1, inplace=True)\n",
    "병원_o.drop(['close_day'], axis=1, inplace=True)\n",
    "병원_o.drop(['존속년도'], axis=1, inplace=True)\n",
    "병원_o['open_year'] = 병원_o['open_year'].astype(int)\n",
    "병원_o['open_month'] = 병원_o['open_month'].astype(int)\n",
    "병원_o['open_day'] = 병원_o['open_day'].astype(int)\n",
    "병원_o['영업상태(0=폐업)'] = 병원_o['영업상태(0=폐업)'].astype(int)"
   ]
  },
  {
   "cell_type": "code",
   "execution_count": null,
   "metadata": {},
   "outputs": [],
   "source": [
    "병원_o.drop(['open_year'], axis=1, inplace=True)\n",
    "병원_o.drop(['open_month'], axis=1, inplace=True)\n",
    "병원_o.drop(['open_day'], axis=1, inplace=True)"
   ]
  },
  {
   "cell_type": "code",
   "execution_count": null,
   "metadata": {},
   "outputs": [],
   "source": [
    "병원_o.set_index('개업시기')"
   ]
  },
  {
   "cell_type": "code",
   "execution_count": null,
   "metadata": {},
   "outputs": [],
   "source": [
    "pre_period = ['2020-01-01', '2021-12-31']\n",
    "post_period = ['2022-01-01', '2022-12-31']\n",
    "ci = CI(병원_o, pre_period, post_period, model_args={'fit_method': 'hmc'})"
   ]
  }
 ],
 "metadata": {
  "kernelspec": {
   "display_name": "Python 3.9.7 ('py')",
   "language": "python",
   "name": "python3"
  },
  "language_info": {
   "codemirror_mode": {
    "name": "ipython",
    "version": 3
   },
   "file_extension": ".py",
   "mimetype": "text/x-python",
   "name": "python",
   "nbconvert_exporter": "python",
   "pygments_lexer": "ipython3",
   "version": "3.9.7"
  },
  "orig_nbformat": 4,
  "vscode": {
   "interpreter": {
    "hash": "1abbe5dd4abc851705e4f62e315af109ac99b493c63f3ec0dcb577a1d971e293"
   }
  }
 },
 "nbformat": 4,
 "nbformat_minor": 2
}
