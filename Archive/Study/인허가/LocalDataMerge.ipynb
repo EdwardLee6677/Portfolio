{
 "cells": [
  {
   "cell_type": "code",
   "execution_count": 1,
   "metadata": {},
   "outputs": [],
   "source": [
    "import os\n",
    "import pandas as pd"
   ]
  },
  {
   "cell_type": "code",
   "execution_count": 2,
   "metadata": {},
   "outputs": [
    {
     "name": "stderr",
     "output_type": "stream",
     "text": [
      "C:\\Users\\Edward\\AppData\\Local\\Temp\\ipykernel_17872\\1606744228.py:14: DtypeWarning: Columns (26) have mixed types. Specify dtype option on import or set low_memory=False.\n",
      "  df = pd.read_csv(file_path, usecols=columns, encoding='cp949')\n",
      "C:\\Users\\Edward\\AppData\\Local\\Temp\\ipykernel_17872\\1606744228.py:14: DtypeWarning: Columns (3,26) have mixed types. Specify dtype option on import or set low_memory=False.\n",
      "  df = pd.read_csv(file_path, usecols=columns, encoding='cp949')\n",
      "C:\\Users\\Edward\\AppData\\Local\\Temp\\ipykernel_17872\\1606744228.py:14: DtypeWarning: Columns (26) have mixed types. Specify dtype option on import or set low_memory=False.\n",
      "  df = pd.read_csv(file_path, usecols=columns, encoding='cp949')\n",
      "C:\\Users\\Edward\\AppData\\Local\\Temp\\ipykernel_17872\\1606744228.py:14: DtypeWarning: Columns (27) have mixed types. Specify dtype option on import or set low_memory=False.\n",
      "  df = pd.read_csv(file_path, usecols=columns, encoding='cp949')\n",
      "C:\\Users\\Edward\\AppData\\Local\\Temp\\ipykernel_17872\\1606744228.py:14: DtypeWarning: Columns (26) have mixed types. Specify dtype option on import or set low_memory=False.\n",
      "  df = pd.read_csv(file_path, usecols=columns, encoding='cp949')\n",
      "C:\\Users\\Edward\\AppData\\Local\\Temp\\ipykernel_17872\\1606744228.py:14: DtypeWarning: Columns (26,27) have mixed types. Specify dtype option on import or set low_memory=False.\n",
      "  df = pd.read_csv(file_path, usecols=columns, encoding='cp949')\n",
      "C:\\Users\\Edward\\AppData\\Local\\Temp\\ipykernel_17872\\1606744228.py:14: DtypeWarning: Columns (26) have mixed types. Specify dtype option on import or set low_memory=False.\n",
      "  df = pd.read_csv(file_path, usecols=columns, encoding='cp949')\n"
     ]
    }
   ],
   "source": [
    "# 병합할 CSV 파일이 있는 폴더 경로\n",
    "folder_path = 'C:/Users/Edward/Desktop/LOCALDATA_ALL_CSV'\n",
    "\n",
    "# 폴더 내의 모든 CSV 파일 경로 가져오기\n",
    "csv_files = [file for file in os.listdir(folder_path) if file.endswith('.csv')]\n",
    "\n",
    "# 열 인덱스 리스트\n",
    "columns = [1, 3, 5, 10, 18, 26, 27]\n",
    "\n",
    "# CSV 파일 병합\n",
    "combined_data = pd.DataFrame()\n",
    "for file in csv_files:\n",
    "    file_path = os.path.join(folder_path, file)\n",
    "    df = pd.read_csv(file_path, usecols=columns, encoding='cp949')\n",
    "    combined_data = pd.concat([combined_data, df], axis=1)\n",
    "\n",
    "# 병합된 데이터 저장\n",
    "combined_data.to_csv('combined.csv', index=False)"
   ]
  }
 ],
 "metadata": {
  "kernelspec": {
   "display_name": "ci",
   "language": "python",
   "name": "python3"
  },
  "language_info": {
   "codemirror_mode": {
    "name": "ipython",
    "version": 3
   },
   "file_extension": ".py",
   "mimetype": "text/x-python",
   "name": "python",
   "nbconvert_exporter": "python",
   "pygments_lexer": "ipython3",
   "version": "3.10.9"
  },
  "orig_nbformat": 4
 },
 "nbformat": 4,
 "nbformat_minor": 2
}
