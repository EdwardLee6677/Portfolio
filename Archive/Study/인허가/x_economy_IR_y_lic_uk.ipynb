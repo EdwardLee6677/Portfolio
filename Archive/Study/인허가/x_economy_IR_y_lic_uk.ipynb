{
 "cells": [
  {
   "cell_type": "code",
   "execution_count": null,
   "metadata": {},
   "outputs": [],
   "source": [
    "import pandas as pd\n",
    "import numpy as np\n",
    "from causalimpact import CausalImpact\n",
    "import sys\n",
    "import warnings\n",
    "warnings.filterwarnings('ignore')"
   ]
  },
  {
   "cell_type": "code",
   "execution_count": null,
   "metadata": {},
   "outputs": [],
   "source": [
    "df_o=pd.read_csv('C:/Users/Edward/Desktop/PythonWorkspace/인허가/df_o_all.csv', encoding='cp949', index_col=0)\n",
    "df_c=pd.read_csv('C:/Users/Edward/Desktop/PythonWorkspace/인허가/df_c_all.csv', encoding='cp949', index_col=0)\n",
    "x = pd.read_csv('C:/Users/Edward/Desktop/PythonWorkspace/인허가/03_22_경제심리지수_금리.csv')"
   ]
  },
  {
   "cell_type": "code",
   "execution_count": null,
   "metadata": {},
   "outputs": [],
   "source": [
    "df_c = pd.concat([df_c['폐업시기'],df_c[df_c.columns.difference(['폐업시기'])].fillna(0).astype(int)],axis=1)\n",
    "df_o = pd.concat([df_o['개업시기'],df_o[df_o.columns.difference(['개업시기'])].fillna(0).astype(int)],axis=1)"
   ]
  },
  {
   "cell_type": "code",
   "execution_count": null,
   "metadata": {},
   "outputs": [],
   "source": [
    "df_c"
   ]
  },
  {
   "cell_type": "code",
   "execution_count": null,
   "metadata": {},
   "outputs": [],
   "source": [
    "df_o"
   ]
  },
  {
   "cell_type": "code",
   "execution_count": null,
   "metadata": {},
   "outputs": [],
   "source": [
    "x"
   ]
  },
  {
   "cell_type": "code",
   "execution_count": null,
   "metadata": {},
   "outputs": [],
   "source": [
    "pd.set_option('display.max_row', 1000)"
   ]
  },
  {
   "cell_type": "code",
   "execution_count": null,
   "metadata": {},
   "outputs": [],
   "source": [
    "df_c['폐업시기'] = df_c['폐업시기'].apply(lambda x: pd.to_datetime(str(x), format='%Y-%m-%d'))\n",
    "df_o['개업시기'] = df_o['개업시기'].apply(lambda x: pd.to_datetime(str(x), format='%Y-%m-%d'))\n",
    "x['폐업시기'] = x['폐업시기'].apply(lambda x: pd.to_datetime(str(x), format='%Y-%m-%d'))\n",
    "x['개업시기'] = x['개업시기'].apply(lambda x: pd.to_datetime(str(x), format='%Y-%m-%d'))"
   ]
  },
  {
   "cell_type": "code",
   "execution_count": null,
   "metadata": {},
   "outputs": [],
   "source": [
    "xo = x[['개업시기', '경제심리지수', '대출금리', '뉴스심리지수']]\n",
    "xo"
   ]
  },
  {
   "cell_type": "code",
   "execution_count": null,
   "metadata": {},
   "outputs": [],
   "source": [
    "xc = x[['폐업시기', '경제심리지수', '대출금리', '뉴스심리지수']]\n",
    "xc"
   ]
  },
  {
   "cell_type": "code",
   "execution_count": null,
   "metadata": {},
   "outputs": [],
   "source": [
    "df_c"
   ]
  },
  {
   "cell_type": "code",
   "execution_count": null,
   "metadata": {},
   "outputs": [],
   "source": [
    "df_o"
   ]
  },
  {
   "cell_type": "code",
   "execution_count": null,
   "metadata": {},
   "outputs": [],
   "source": [
    "xc"
   ]
  },
  {
   "cell_type": "code",
   "execution_count": null,
   "metadata": {},
   "outputs": [],
   "source": [
    "xo"
   ]
  },
  {
   "cell_type": "code",
   "execution_count": null,
   "metadata": {},
   "outputs": [],
   "source": [
    "df_c = df_c.set_index('폐업시기')\n",
    "df_o = df_o.set_index('개업시기')\n",
    "xc = xc.set_index('폐업시기')\n",
    "xo = xo.set_index('개업시기')"
   ]
  },
  {
   "cell_type": "code",
   "execution_count": null,
   "metadata": {},
   "outputs": [],
   "source": [
    "df_c = df_c.resample('M').agg(np.sum)\n",
    "df_o = df_o.resample('M').agg(np.sum)\n",
    "pre_period = ['2020-01-31', '2022-04-30']\n",
    "post_period = ['2022-05-31', '2022-12-31']"
   ]
  },
  {
   "cell_type": "code",
   "execution_count": null,
   "metadata": {},
   "outputs": [],
   "source": [
    "df_c"
   ]
  },
  {
   "cell_type": "code",
   "execution_count": null,
   "metadata": {},
   "outputs": [],
   "source": [
    "df_o"
   ]
  },
  {
   "cell_type": "code",
   "execution_count": null,
   "metadata": {},
   "outputs": [],
   "source": [
    "df_c = df_c.query(\"폐업시기 >= '2020-01-31' and 폐업시기 <='2022-12-31'\")"
   ]
  },
  {
   "cell_type": "code",
   "execution_count": null,
   "metadata": {},
   "outputs": [],
   "source": [
    "df_c"
   ]
  },
  {
   "cell_type": "code",
   "execution_count": null,
   "metadata": {},
   "outputs": [],
   "source": [
    "df_o = df_o.query(\"개업시기 >= '2020-01-31' and 개업시기 <='2022-12-31'\")"
   ]
  },
  {
   "cell_type": "code",
   "execution_count": null,
   "metadata": {},
   "outputs": [],
   "source": [
    "df_o"
   ]
  },
  {
   "attachments": {},
   "cell_type": "markdown",
   "metadata": {},
   "source": [
    "## 분석결과"
   ]
  },
  {
   "attachments": {},
   "cell_type": "markdown",
   "metadata": {},
   "source": [
    "### 개업"
   ]
  },
  {
   "cell_type": "code",
   "execution_count": null,
   "metadata": {},
   "outputs": [],
   "source": [
    "for index, row in df_o.iteritems():\n",
    "    try:\n",
    "        if row.sum() > 2:\n",
    "            op = pd.DataFrame(row).join(xo, how='left')\n",
    "        ci_o = CausalImpact(op, pre_period, post_period, model_args={'fit_method': 'hmc'}, nseason=[{'period': 12}])\n",
    "        print(index)\n",
    "        print(ci_o.summary())\n",
    "        ci_o.plot()\n",
    "        print('____________________________________________________________________________________________________')\n",
    "    except ValueError as e:\n",
    "        print(e)"
   ]
  },
  {
   "attachments": {},
   "cell_type": "markdown",
   "metadata": {},
   "source": [
    "### 폐업"
   ]
  },
  {
   "cell_type": "code",
   "execution_count": null,
   "metadata": {},
   "outputs": [],
   "source": [
    "for index, row in df_c.iteritems():\n",
    "    try:\n",
    "        if row.sum() > 2:\n",
    "            cl = pd.DataFrame(row).join(xc, how='left')\n",
    "        ci_c = CausalImpact(cl, pre_period, post_period, model_args={'fit_method': 'hmc'}, nseason=[{'period': 12}])\n",
    "        print(index)\n",
    "        print(ci_c.summary())\n",
    "        ci_c.plot()\n",
    "        print('____________________________________________________________________________________________________')\n",
    "    except ValueError as e:\n",
    "        print(e)"
   ]
  },
  {
   "attachments": {},
   "cell_type": "markdown",
   "metadata": {},
   "source": [
    "## 결과 summary화"
   ]
  },
  {
   "cell_type": "markdown",
   "metadata": {},
   "source": [
    "### 결과"
   ]
  },
  {
   "cell_type": "code",
   "execution_count": null,
   "metadata": {},
   "outputs": [],
   "source": [
    "pre_period = ['2020-01-31', '2022-02-28']\n",
    "post_period = ['2022-03-31', '2022-12-31']"
   ]
  },
  {
   "cell_type": "code",
   "execution_count": null,
   "metadata": {},
   "outputs": [],
   "source": [
    "for index, row in df_o.iteritems():\n",
    "    try:\n",
    "        if row.sum() > 2:\n",
    "            op = pd.DataFrame(row).join(xo, how='left')\n",
    "        ci_o = CausalImpact(op, pre_period, post_period, model_args={'fit_method': 'hmc'}, nseason=[{'period': 12}])\n",
    "        summary = ci_o.summary_data.to_dict()\n",
    "        print(index + \",\" + str(round(summary['average'].get('abs_effect'),2)) + '%,' + str(round((summary['average'].get('rel_effect')*100),2)) + '%,' + str(round(ci_o.p_value,2)))\n",
    "    except ValueError as e:\n",
    "        print(e)"
   ]
  },
  {
   "cell_type": "code",
   "execution_count": null,
   "metadata": {},
   "outputs": [],
   "source": [
    "for index, row in df_c.iteritems():\n",
    "    try:\n",
    "        if row.sum() > 2:\n",
    "            cl = pd.DataFrame(row).join(xc, how='left')\n",
    "        ci_c = CausalImpact(cl, pre_period, post_period, model_args={'fit_method': 'hmc'}, nseason=[{'period': 12}])\n",
    "        summary = ci_c.summary_data.to_dict()\n",
    "        print(index + \",\" + str(round(summary['average'].get('abs_effect'),2)) + '%,' + str(round((summary['average'].get('rel_effect')*100),2)) + '%,' + str(round(ci_c.p_value,2)))\n",
    "    except ValueError as e:\n",
    "        print(e)"
   ]
  }
 ],
 "metadata": {
  "kernelspec": {
   "display_name": "py",
   "language": "python",
   "name": "python3"
  },
  "language_info": {
   "codemirror_mode": {
    "name": "ipython",
    "version": 3
   },
   "file_extension": ".py",
   "mimetype": "text/x-python",
   "name": "python",
   "nbconvert_exporter": "python",
   "pygments_lexer": "ipython3",
   "version": "3.10.9"
  },
  "orig_nbformat": 4,
  "vscode": {
   "interpreter": {
    "hash": "1abbe5dd4abc851705e4f62e315af109ac99b493c63f3ec0dcb577a1d971e293"
   }
  }
 },
 "nbformat": 4,
 "nbformat_minor": 2
}
