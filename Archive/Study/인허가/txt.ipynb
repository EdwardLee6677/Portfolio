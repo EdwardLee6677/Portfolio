{
 "cells": [
  {
   "cell_type": "code",
   "execution_count": 1,
   "metadata": {},
   "outputs": [],
   "source": [
    "rscript = \"\"\" ## 네이버 영화 평점 및 영화평 크롤링\n",
    "## 출처: https://machine-geon.tistory.com/40\n",
    "\n",
    "# 관련 라이브러리 설치\n",
    "install.packages(\"rvest\")\n",
    "install.packages(\"stringr\")\n",
    "\n",
    "# 라이브러리 로딩\n",
    "library(rvest)\n",
    "library(stringr)\n",
    "\n",
    "# 작업용 크롤링 폴더 생성 및 지정\n",
    "setwd(\"C:/Users/Edward/Desktop/R/RWD/Naver Movie\")\n",
    "getwd()\n",
    "\n",
    "# 네이버 영화 평점 페이지 주소를 변수로 저장\n",
    "main_url = \"https://movie.naver.com/movie/bi/mi/pointWriteFormList.nhn?code=10100&type=after&isActualPointWriteExecute=false&isMileageSubscriptionAlready=false&isMileageSubscriptionReject=false&page=\"\n",
    "\n",
    "# 변수의 자료형 정의\n",
    "review_list = character()\n",
    "star_list = numeric()\n",
    "date_list = character()\n",
    "\n",
    "# 웹페이지의 태그 정보를 읽는 반복문\n",
    "for(page_url in 1:78){\n",
    "  url = paste(main_url, page_url, sep=\"\")\n",
    "  content = read_html(url)\n",
    "  node_1 = html_nodes(content, \".score_reple p\")\n",
    "  node_2 = html_nodes(content, \".score_result .star_score em\")\n",
    "  node_3 = html_nodes(content, \".score_reple em:nth-child(2)\")\n",
    "  review = html_text(node_1)\n",
    "  star = html_text(node_2)\n",
    "  date = html_text(node_3)\n",
    "  date = as.Date(gsub(\"\\\\.\",\"-\", date))\n",
    "  review_list = append(review_list, review)\n",
    "  star_list = append(star_list, star)\n",
    "  date_list = append(date_list, date)\n",
    "}\n",
    "\n",
    "# 데이터 프레임 작성 (영화평, 평점(1-10), 날짜)\n",
    "df = data.frame(review_list, star_list, date_list)\n",
    "colnames(df) = c(\"review\",\"rank\",\"date\")\n",
    "df$review\n",
    "\n",
    "# 영화평 텍스트 전처리\n",
    "df$review <- str_replace_all(string = df$review, pattern = \"[^가-힣]\", replacement = \" \")\n",
    "df$review <- str_squish(df$review)\n",
    "df$review\n",
    "\n",
    "# 불용어(stop word) 제거: \"영화, 관객, 관람객, 평점\" 등\n",
    "df$review <- str_replace_all(string = df$review, pattern = \"관람객\", replacement = \" \")\n",
    "df$review <- str_replace_all(string = df$review, pattern = \"관객\", replacement = \" \")\n",
    "df$review <- str_replace_all(string = df$review, pattern = \"영화\", replacement = \" \")\n",
    "df$review <- str_replace_all(string = df$review, pattern = \"평점\", replacement = \" \")\n",
    "df$review <- str_squish(df$review)\n",
    "\n",
    "# 데이터 프레임을 csv 파일로 저장\n",
    "write.csv(df, \"review_topgun1.csv\", row.names = F)\n",
    "\n",
    "# 영화평 텍스트만 추출하여 텍스트 파일로 저장\n",
    "write.table(df$review, file=\"review_topgun1.txt\", quote=FALSE, fileEncoding = \"UTF-8\", col.names = FALSE, row.names = FALSE)\n",
    " \"\"\""
   ]
  },
  {
   "cell_type": "code",
   "execution_count": 3,
   "metadata": {},
   "outputs": [
    {
     "ename": "ModuleNotFoundError",
     "evalue": "No module named 'antlr4'",
     "output_type": "error",
     "traceback": [
      "\u001b[1;31m---------------------------------------------------------------------------\u001b[0m",
      "\u001b[1;31mModuleNotFoundError\u001b[0m                       Traceback (most recent call last)",
      "\u001b[1;32mc:\\Users\\Edward\\Desktop\\PythonWorkspace\\인허가\\txt.ipynb 셀 2\u001b[0m in \u001b[0;36m<cell line: 1>\u001b[1;34m()\u001b[0m\n\u001b[1;32m----> <a href='vscode-notebook-cell:/c%3A/Users/Edward/Desktop/PythonWorkspace/%EC%9D%B8%ED%97%88%EA%B0%80/txt.ipynb#W1sZmlsZQ%3D%3D?line=0'>1</a>\u001b[0m \u001b[39mfrom\u001b[39;00m \u001b[39mpyensae\u001b[39;00m\u001b[39m.\u001b[39;00m\u001b[39mlanguages\u001b[39;00m \u001b[39mimport\u001b[39;00m r2python\n\u001b[0;32m      <a href='vscode-notebook-cell:/c%3A/Users/Edward/Desktop/PythonWorkspace/%EC%9D%B8%ED%97%88%EA%B0%80/txt.ipynb#W1sZmlsZQ%3D%3D?line=1'>2</a>\u001b[0m \u001b[39mprint\u001b[39m(r2python(rscript, pep8\u001b[39m=\u001b[39m\u001b[39mTrue\u001b[39;00m))\n",
      "File \u001b[1;32mc:\\Users\\Edward\\anaconda3\\envs\\py\\lib\\site-packages\\pyensae\\languages\\__init__.py:7\u001b[0m, in \u001b[0;36m<module>\u001b[1;34m\u001b[0m\n\u001b[0;32m      1\u001b[0m \u001b[39m\"\"\"\u001b[39;00m\n\u001b[0;32m      2\u001b[0m \u001b[39m@file\u001b[39;00m\n\u001b[0;32m      3\u001b[0m \u001b[39m@brief Shortcuts to languages.\u001b[39;00m\n\u001b[0;32m      4\u001b[0m \u001b[39m\"\"\"\u001b[39;00m\n\u001b[0;32m      6\u001b[0m \u001b[39mfrom\u001b[39;00m \u001b[39m.\u001b[39;00m\u001b[39mantlr_grammar_build\u001b[39;00m \u001b[39mimport\u001b[39;00m build_grammar\n\u001b[1;32m----> 7\u001b[0m \u001b[39mfrom\u001b[39;00m \u001b[39m.\u001b[39;00m\u001b[39mantlr_grammar_use\u001b[39;00m \u001b[39mimport\u001b[39;00m get_parser_lexer, parse_code, get_tree_string, get_tree_graph\n",
      "File \u001b[1;32mc:\\Users\\Edward\\anaconda3\\envs\\py\\lib\\site-packages\\pyensae\\languages\\antlr_grammar_use.py:7\u001b[0m, in \u001b[0;36m<module>\u001b[1;34m\u001b[0m\n\u001b[0;32m      1\u001b[0m \u001b[39m\"\"\"\u001b[39;00m\n\u001b[0;32m      2\u001b[0m \u001b[39m@file\u001b[39;00m\n\u001b[0;32m      3\u001b[0m \u001b[39m@brief Use grammar\u001b[39;00m\n\u001b[0;32m      4\u001b[0m \u001b[39mThis module requires `antlr4-python3-runtime <https://pypi.python.org/pypi/antlr4-python3-runtime/>`_.\u001b[39;00m\n\u001b[0;32m      5\u001b[0m \u001b[39m\"\"\"\u001b[39;00m\n\u001b[0;32m      6\u001b[0m \u001b[39mimport\u001b[39;00m \u001b[39mos\u001b[39;00m\n\u001b[1;32m----> 7\u001b[0m \u001b[39mfrom\u001b[39;00m \u001b[39mantlr4\u001b[39;00m \u001b[39mimport\u001b[39;00m ParseTreeWalker, CommonTokenStream, InputStream\n\u001b[0;32m      8\u001b[0m \u001b[39mfrom\u001b[39;00m \u001b[39m.\u001b[39;00m\u001b[39mtree_string_listener\u001b[39;00m \u001b[39mimport\u001b[39;00m TreeStringListener\n\u001b[0;32m      9\u001b[0m \u001b[39mfrom\u001b[39;00m \u001b[39m.\u001b[39;00m\u001b[39mtree_graph_listener\u001b[39;00m \u001b[39mimport\u001b[39;00m TreeGraphListener\n",
      "\u001b[1;31mModuleNotFoundError\u001b[0m: No module named 'antlr4'"
     ]
    }
   ],
   "source": [
    "from pyensae.languages import r2python\n",
    "print(r2python(rscript, pep8=True))"
   ]
  }
 ],
 "metadata": {
  "kernelspec": {
   "display_name": "Python 3.9.7 ('py')",
   "language": "python",
   "name": "python3"
  },
  "language_info": {
   "codemirror_mode": {
    "name": "ipython",
    "version": 3
   },
   "file_extension": ".py",
   "mimetype": "text/x-python",
   "name": "python",
   "nbconvert_exporter": "python",
   "pygments_lexer": "ipython3",
   "version": "3.9.7"
  },
  "orig_nbformat": 4,
  "vscode": {
   "interpreter": {
    "hash": "1abbe5dd4abc851705e4f62e315af109ac99b493c63f3ec0dcb577a1d971e293"
   }
  }
 },
 "nbformat": 4,
 "nbformat_minor": 2
}
