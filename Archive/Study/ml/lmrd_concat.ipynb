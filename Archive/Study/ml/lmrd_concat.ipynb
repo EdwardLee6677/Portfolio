{
 "cells": [
  {
   "cell_type": "code",
   "execution_count": null,
   "metadata": {},
   "outputs": [],
   "source": [
    "import os\n",
    "import pandas as pd\n",
    "\n",
    "# 긍정/부정 레이블 설정\n",
    "def load_imdb_data(base_dir):\n",
    "    data = []\n",
    "    labels = []\n",
    "\n",
    "    # 긍정 데이터 읽기\n",
    "    pos_dir = os.path.join(base_dir, \"pos\")\n",
    "    for file in os.listdir(pos_dir):\n",
    "        with open(os.path.join(pos_dir, file), \"r\", encoding=\"utf-8\") as f:\n",
    "            data.append(f.read())\n",
    "            labels.append(1)  # 긍정 = 1\n",
    "\n",
    "    # 부정 데이터 읽기\n",
    "    neg_dir = os.path.join(base_dir, \"neg\")\n",
    "    for file in os.listdir(neg_dir):\n",
    "        with open(os.path.join(neg_dir, file), \"r\", encoding=\"utf-8\") as f:\n",
    "            data.append(f.read())\n",
    "            labels.append(0)  # 부정 = 0\n",
    "\n",
    "    return pd.DataFrame({\"review\": data, \"label\": labels})\n",
    "\n",
    "# 경로 설정\n",
    "train_dir = \"aclImdb/train\"\n",
    "test_dir = \"aclImdb/test\"\n",
    "\n",
    "# 데이터 읽기\n",
    "train_data = load_imdb_data(train_dir)\n",
    "test_data = load_imdb_data(test_dir)\n",
    "\n",
    "# 데이터 합치기\n",
    "all_data = pd.concat([train_data, test_data], ignore_index=True)\n",
    "\n",
    "# 결과 확인\n",
    "print(all_data.head())"
   ]
  },
  {
   "cell_type": "code",
   "execution_count": null,
   "metadata": {},
   "outputs": [],
   "source": [
    "all_data.to_csv(\"lmrd_review.csv\", index=False)"
   ]
  }
 ],
 "metadata": {
  "kernelspec": {
   "display_name": "py",
   "language": "python",
   "name": "python3"
  },
  "language_info": {
   "codemirror_mode": {
    "name": "ipython",
    "version": 3
   },
   "file_extension": ".py",
   "mimetype": "text/x-python",
   "name": "python",
   "nbconvert_exporter": "python",
   "pygments_lexer": "ipython3",
   "version": "3.9.7"
  }
 },
 "nbformat": 4,
 "nbformat_minor": 2
}
