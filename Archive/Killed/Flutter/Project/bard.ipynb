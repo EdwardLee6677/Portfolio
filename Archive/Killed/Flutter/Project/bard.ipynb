{
 "cells": [
  {
   "cell_type": "code",
   "execution_count": 25,
   "metadata": {},
   "outputs": [
    {
     "name": "stdout",
     "output_type": "stream",
     "text": [
      "안녕하세요! 저는 Google AI에서 만든 대규모 언어 모델인 Bard입니다. 저는 방대한 양의 텍스트와 코드 데이터 세트로 훈련되었으며 텍스트를 생성하고, 언어를 번역하고, 다양한 종류의 창의적인 콘텐츠를 작성하고, 유익한 방식으로 질문에 답변할 수 있습니다. 아직 개발 중이지만 다음을 포함하여 많은 종류의 작업을 수행하는 방법을 배웠습니다.\n",
      "\n",
      "* 귀하의 지시를 따르고 귀하의 요청을 신중하게 완료하기 위해 최선을 다하겠습니다.\n",
      "* 질문이 개방적이거나 도전적이거나 이상하더라도 포괄적이고 유익한 방식으로 답변하기 위해 제 지식을 사용할 것입니다.\n",
      "* 시, 코드, 대본, 음악 작품, 이메일, 편지 등과 같은 다양한 창의적인 텍스트 형식을 생성합니다. 귀하의 모든 요구 사항을 충족시키기 위해 최선을 다하겠습니다.\n",
      "\n",
      "오늘 어떻게 도와드릴 수 있습니까?\n"
     ]
    }
   ],
   "source": [
    "import bardapi\n",
    "import os\n",
    "bard_api_key = \"Zwg-FEV1ai1VlFY2_XKeg0IqT97qGk0KoF4SfTOPS168_boMM75ug8aUFmbgyi5Yz-ItZw.\"\n",
    "os.environ['_BARD_API_KEY'] = bard_api_key\n",
    "\n",
    "input_text = \"안녕\"\n",
    "response = bardapi.core.Bard().get_answer(input_text)\n",
    "result = response['choices'][0]['content'][0]\n",
    "print(result)"
   ]
  }
 ],
 "metadata": {
  "kernelspec": {
   "display_name": "project",
   "language": "python",
   "name": "python3"
  },
  "language_info": {
   "codemirror_mode": {
    "name": "ipython",
    "version": 3
   },
   "file_extension": ".py",
   "mimetype": "text/x-python",
   "name": "python",
   "nbconvert_exporter": "python",
   "pygments_lexer": "ipython3",
   "version": "3.10.11"
  },
  "orig_nbformat": 4
 },
 "nbformat": 4,
 "nbformat_minor": 2
}
