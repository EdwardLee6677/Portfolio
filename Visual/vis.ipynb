{
 "cells": [
  {
   "cell_type": "code",
   "execution_count": 7,
   "metadata": {},
   "outputs": [
    {
     "name": "stdout",
     "output_type": "stream",
     "text": [
      "<?xml version=\"1.0\" encoding=\"UTF-8\" standalone=\"yes\"?><SpotInfo><list_total_count>139</list_total_count><RESULT><CODE>INFO-000</CODE><MESSAGE>정상 처리되었습니다</MESSAGE></RESULT><row><spot_num>A-10</spot_num><spot_nm>동호로(장충체육관)</spot_nm><grs80tm_x>200633.487975</grs80tm_x><grs80tm_y>451010.051429</grs80tm_y></row><row><spot_num>B-06</spot_num><spot_nm>화랑로(조선왕릉)</spot_nm><grs80tm_x>208764</grs80tm_x><grs80tm_y>459019</grs80tm_y></row><row><spot_num>B-29</spot_num><spot_nm>경인로(유한공고)</spot_nm><grs80tm_x>184313.594374</grs80tm_x><grs80tm_y>443266.257648</grs80tm_y></row><row><spot_num>D-13</spot_num><spot_nm>동일로(노원역)</spot_nm><grs80tm_x>205351.935482</grs80tm_x><grs80tm_y>461419.376043</grs80tm_y></row><row><spot_num>D-36</spot_num><spot_nm>사평대로(고속터미널역)</spot_nm><grs80tm_x>200691.392481</grs80tm_x><grs80tm_y>444896.469303</grs80tm_y></row></SpotInfo>\n"
     ]
    },
    {
     "ename": "",
     "evalue": "",
     "output_type": "error",
     "traceback": [
      "\u001b[1;31m현재 셀 또는 이전 셀에서 코드를 실행하는 동안 Kernel이 충돌했습니다. \n",
      "\u001b[1;31m셀의 코드를 검토하여 가능한 오류 원인을 식별하세요. \n",
      "\u001b[1;31m자세한 내용을 보려면 <a href='https://aka.ms/vscodeJupyterKernelCrash'>여기</a>를 클릭하세요. \n",
      "\u001b[1;31m자세한 내용은 Jupyter <a href='command:jupyter.viewOutput'>로그</a>를 참조하세요."
     ]
    }
   ],
   "source": [
    "import requests\n",
    "url = 'http://openapi.seoul.go.kr:8088/68457647476a6b30313037707a495454/xml/SpotInfo/1/5/'\n",
    "\n",
    "response = requests.get(url)\n",
    "print(response.text)"
   ]
  }
 ],
 "metadata": {
  "kernelspec": {
   "display_name": "py",
   "language": "python",
   "name": "python3"
  },
  "language_info": {
   "codemirror_mode": {
    "name": "ipython",
    "version": 3
   },
   "file_extension": ".py",
   "mimetype": "text/x-python",
   "name": "python",
   "nbconvert_exporter": "python",
   "pygments_lexer": "ipython3",
   "version": "3.9.7"
  }
 },
 "nbformat": 4,
 "nbformat_minor": 2
}
