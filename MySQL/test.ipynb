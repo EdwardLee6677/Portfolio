{
 "cells": [
  {
   "cell_type": "code",
   "execution_count": 40,
   "id": "0b04ca11",
   "metadata": {},
   "outputs": [],
   "source": [
    "import pymysql\n",
    "import getpass as gp\n",
    "import pandas as pd\n",
    "import numpy as np\n",
    "import warnings\n",
    "warnings.filterwarnings('ignore')"
   ]
  },
  {
   "cell_type": "code",
   "execution_count": 41,
   "id": "94632f64",
   "metadata": {},
   "outputs": [],
   "source": [
    "# conn1 = pymysql.connect(host='127.0.0.1', user='root', password = input(), db='employees', charset='utf8mb4')\n",
    "# conn2 = pymysql.connect(host='127.0.0.1', user='reader', password = input(), db='employees', charset='utf8mb4')"
   ]
  },
  {
   "cell_type": "code",
   "execution_count": null,
   "id": "fc11825b",
   "metadata": {},
   "outputs": [],
   "source": [
    "# 계정 정보 사전\n",
    "accounts = {\n",
    "    'root': {'host': '127.0.0.1', 'db': 'employees'},\n",
    "    'reader': {'host': '127.0.0.1', 'db': 'employees'},\n",
    "    'writer': {'host': '127.0.0.1', 'db': 'employees'},\n",
    "    # 여기에 계정 추가 가능\n",
    "}\n",
    "\n",
    "def connect_to_db():\n",
    "    user = input(\"ID 입력: \").strip()\n",
    "    if user not in accounts:\n",
    "        raise ValueError(\"등록되지 않은 사용자 ID\")\n",
    "\n",
    "    password = gp.getpass(\"비밀번호 입력: \")\n",
    "    info = accounts[user]\n",
    "\n",
    "    conn = pymysql.connect(\n",
    "        host=info['host'],\n",
    "        user=user,\n",
    "        password=password,\n",
    "        db=info['db'],\n",
    "        charset='utf8mb4'\n",
    "    )\n",
    "    return conn\n",
    "\n",
    "def q(query):\n",
    "    return print(pd.read_sql(query, conn))"
   ]
  },
  {
   "cell_type": "code",
   "execution_count": null,
   "id": "4295e76c",
   "metadata": {},
   "outputs": [
    {
     "name": "stdout",
     "output_type": "stream",
     "text": [
      "  current_role()\n",
      "0           NONE\n"
     ]
    }
   ],
   "source": [
    "conn = connect_to_db()\n",
    "q(\"SELECT current_role();\")"
   ]
  },
  {
   "cell_type": "code",
   "execution_count": 46,
   "id": "2ebaf4f6",
   "metadata": {},
   "outputs": [
    {
     "name": "stdout",
     "output_type": "stream",
     "text": [
      "               user          host account_locked\n",
      "0     role_emp_read             %              Y\n",
      "1    role_emp_write             %              Y\n",
      "2            reader     127.0.0.1              N\n",
      "3            writer     127.0.0.1              N\n",
      "4            edward  192.168.0.28              N\n",
      "5  mysql.infoschema     localhost              Y\n",
      "6     mysql.session     localhost              Y\n",
      "7         mysql.sys     localhost              Y\n",
      "8              root     localhost              N\n"
     ]
    }
   ],
   "source": [
    "q(\"SELECT user, host, account_locked FROM mysql.user;\")"
   ]
  },
  {
   "cell_type": "code",
   "execution_count": null,
   "id": "9d49bbe5",
   "metadata": {},
   "outputs": [],
   "source": []
  }
 ],
 "metadata": {
  "kernelspec": {
   "display_name": "mysql",
   "language": "python",
   "name": "python3"
  },
  "language_info": {
   "codemirror_mode": {
    "name": "ipython",
    "version": 3
   },
   "file_extension": ".py",
   "mimetype": "text/x-python",
   "name": "python",
   "nbconvert_exporter": "python",
   "pygments_lexer": "ipython3",
   "version": "3.10.12"
  }
 },
 "nbformat": 4,
 "nbformat_minor": 5
}
