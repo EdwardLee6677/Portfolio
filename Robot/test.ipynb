{
 "cells": [
  {
   "cell_type": "code",
   "execution_count": 23,
   "id": "f9a9f58b",
   "metadata": {},
   "outputs": [],
   "source": [
    "import numpy as np\n",
    "import cv2\n",
    "import pandas as pd"
   ]
  },
  {
   "cell_type": "code",
   "execution_count": 24,
   "id": "2ccf6d06",
   "metadata": {},
   "outputs": [],
   "source": [
    "data = np.load('bottle.npy', allow_pickle=True)\n",
    "robot_state = data[0]['robot_state']"
   ]
  },
  {
   "cell_type": "code",
   "execution_count": null,
   "id": "bd92f738",
   "metadata": {},
   "outputs": [],
   "source": [
    "df = pd.DataFrame(robot_state)\n",
    "df.to_csv('data.csv')"
   ]
  },
  {
   "cell_type": "code",
   "execution_count": null,
   "id": "075a4023",
   "metadata": {},
   "outputs": [],
   "source": [
    "data2 = np.load('bottle_2traj.npy', allow_pickle=True)\n",
    "image = np.append(data2[0]['image'], data2[1]['image'], axis=0)\n",
    "other = np.append(data2[0]['other'], data2[1]['other'])\n",
    "hand_image = np.append(other[0]['hand_image'], other[1]['hand_image'], axis=0)\n",
    "third_person_image = np.array(np.append(other[0]['third_person_image'], other[1]['third_person_image'], axis=0), dtype=np.uint8)"
   ]
  },
  {
   "cell_type": "code",
   "execution_count": 37,
   "id": "f612052a",
   "metadata": {},
   "outputs": [
    {
     "name": "stdout",
     "output_type": "stream",
     "text": [
      "(206, 480, 640, 3)\n"
     ]
    }
   ],
   "source": [
    "print(image.shape)"
   ]
  },
  {
   "cell_type": "code",
   "execution_count": 40,
   "id": "4d339f42",
   "metadata": {},
   "outputs": [
    {
     "ename": "error",
     "evalue": "OpenCV(4.11.0) :-1: error: (-5:Bad argument) in function 'imshow'\n> Overload resolution failed:\n>  - mat is not a numpy array, neither a scalar\n>  - Expected Ptr<cv::cuda::GpuMat> for argument 'mat'\n>  - Expected Ptr<cv::UMat> for argument 'mat'\n",
     "output_type": "error",
     "traceback": [
      "\u001b[0;31m---------------------------------------------------------------------------\u001b[0m",
      "\u001b[0;31merror\u001b[0m                                     Traceback (most recent call last)",
      "Cell \u001b[0;32mIn[40], line 3\u001b[0m\n\u001b[1;32m      1\u001b[0m \u001b[38;5;28;01mfor\u001b[39;00m i \u001b[38;5;129;01min\u001b[39;00m \u001b[38;5;28mrange\u001b[39m(image\u001b[38;5;241m.\u001b[39mshape[\u001b[38;5;241m0\u001b[39m]):\n\u001b[1;32m      2\u001b[0m     cv2\u001b[38;5;241m.\u001b[39mimshow(\u001b[38;5;124m'\u001b[39m\u001b[38;5;124mimg\u001b[39m\u001b[38;5;124m'\u001b[39m, image[i])\n\u001b[0;32m----> 3\u001b[0m     \u001b[43mcv2\u001b[49m\u001b[38;5;241;43m.\u001b[39;49m\u001b[43mimshow\u001b[49m\u001b[43m(\u001b[49m\u001b[38;5;124;43m'\u001b[39;49m\u001b[38;5;124;43mhand\u001b[39;49m\u001b[38;5;124;43m'\u001b[39;49m\u001b[43m,\u001b[49m\u001b[43m \u001b[49m\u001b[43mhand_image\u001b[49m\u001b[43m[\u001b[49m\u001b[43mi\u001b[49m\u001b[43m]\u001b[49m\u001b[43m)\u001b[49m\n\u001b[1;32m      4\u001b[0m     cv2\u001b[38;5;241m.\u001b[39mimshow(\u001b[38;5;124m'\u001b[39m\u001b[38;5;124mthird\u001b[39m\u001b[38;5;124m'\u001b[39m, third_person_image[i][:, :, :\u001b[38;5;241m3\u001b[39m])\n\u001b[1;32m      5\u001b[0m     cv2\u001b[38;5;241m.\u001b[39mwaitKey(\u001b[38;5;241m33\u001b[39m)\n",
      "\u001b[0;31merror\u001b[0m: OpenCV(4.11.0) :-1: error: (-5:Bad argument) in function 'imshow'\n> Overload resolution failed:\n>  - mat is not a numpy array, neither a scalar\n>  - Expected Ptr<cv::cuda::GpuMat> for argument 'mat'\n>  - Expected Ptr<cv::UMat> for argument 'mat'\n"
     ]
    }
   ],
   "source": [
    "for i in range(image.shape[0]):\n",
    "    cv2.imshow('img', image[i])\n",
    "    cv2.imshow('hand', hand_image[i])\n",
    "    cv2.imshow('third', third_person_image[i][:, :, :3])\n",
    "    cv2.waitKey(33)\n",
    "cv2.destroyAllWindows()"
   ]
  },
  {
   "cell_type": "code",
   "execution_count": 25,
   "id": "682f2e5a",
   "metadata": {},
   "outputs": [
    {
     "name": "stdout",
     "output_type": "stream",
     "text": [
      "dict_keys(['robot_state', 'action', 'image', 'task', 'other'])\n"
     ]
    }
   ],
   "source": [
    "print(data[0].keys())"
   ]
  }
 ],
 "metadata": {
  "kernelspec": {
   "display_name": "Python 3",
   "language": "python",
   "name": "python3"
  },
  "language_info": {
   "codemirror_mode": {
    "name": "ipython",
    "version": 3
   },
   "file_extension": ".py",
   "mimetype": "text/x-python",
   "name": "python",
   "nbconvert_exporter": "python",
   "pygments_lexer": "ipython3",
   "version": "3.10.12"
  }
 },
 "nbformat": 4,
 "nbformat_minor": 5
}
