{
 "cells": [
  {
   "cell_type": "code",
   "execution_count": 70,
   "id": "0b04ca11",
   "metadata": {},
   "outputs": [],
   "source": [
    "import pymysql\n",
    "import getpass as gp\n",
    "import pandas as pd\n",
    "import numpy as np\n",
    "import warnings\n",
    "warnings.filterwarnings('ignore')"
   ]
  },
  {
   "cell_type": "code",
   "execution_count": 71,
   "id": "fc11825b",
   "metadata": {},
   "outputs": [],
   "source": [
    "# 계정 정보 사전\n",
    "accounts = {\n",
    "    'root':   {'host': '127.0.0.1'},\n",
    "    'reader': {'host': '127.0.0.1'},\n",
    "    'writer': {'host': '127.0.0.1'},\n",
    "    'edward': {'host': '192.168.0.27'},\n",
    "    # 여기에 계정 추가 가능\n",
    "}\n",
    "\n",
    "def connect_to_db():\n",
    "    user = input(\"ID: \").strip()\n",
    "    if user not in accounts:\n",
    "        raise ValueError(\"등록되지 않은 사용자 ID\")\n",
    "\n",
    "    password = gp.getpass(\"비밀번호: \")\n",
    "    host = accounts[user]['host']\n",
    "\n",
    "    # DB 이름을 반드시 입력받도록\n",
    "    while True:\n",
    "        db_name = input(\"접속할 DB 이름을 입력하세요: \").strip()\n",
    "        if db_name:\n",
    "            break\n",
    "        print(\"DB 이름은 비어 있을 수 없습니다. 다시 입력해주세요.\")\n",
    "\n",
    "    conn = pymysql.connect(\n",
    "        host=host,\n",
    "        user=user,\n",
    "        password=password,\n",
    "        db=db_name,\n",
    "        charset='utf8mb4'\n",
    "    )\n",
    "    return conn\n",
    "\n",
    "def q(query):\n",
    "    with conn.cursor() as cursor: # 커서 생성 with 구문을 사용해서 자동으로 close 하므로 메모리 누수를 방지\n",
    "        cursor.execute(query)\n",
    "        first = query.strip().split()[0].lower()\n",
    "        if first in ['select', 'show', 'describe', 'desc', 'explain']:\n",
    "            df = pd.read_sql(query, conn)\n",
    "            display(df)\n",
    "        else:\n",
    "            conn.commit()\n",
    "            print(\"Query OK.\")\n"
   ]
  },
  {
   "cell_type": "code",
   "execution_count": 72,
   "id": "2893257a",
   "metadata": {},
   "outputs": [],
   "source": [
    "conn = connect_to_db()"
   ]
  },
  {
   "cell_type": "code",
   "execution_count": 73,
   "id": "d7415e82",
   "metadata": {},
   "outputs": [
    {
     "name": "stdout",
     "output_type": "stream",
     "text": [
      "Query OK.\n"
     ]
    }
   ],
   "source": [
    "q(\"\"\"\n",
    "CREATE TABLE IF NOT EXISTS dataset_versions (\n",
    "  dataset_name   VARCHAR(255) PRIMARY KEY,\n",
    "  version        VARCHAR(64) NOT NULL,\n",
    "  file_format    VARCHAR(64),\n",
    "  release_notes  TEXT\n",
    ") ENGINE=InnoDB DEFAULT CHARSET=utf8mb4;\n",
    "\"\"\")\n"
   ]
  },
  {
   "cell_type": "code",
   "execution_count": 74,
   "id": "633e2cc1",
   "metadata": {},
   "outputs": [
    {
     "name": "stdout",
     "output_type": "stream",
     "text": [
      "Query OK.\n",
      "Query OK.\n"
     ]
    }
   ],
   "source": [
    "q(\"\"\"\n",
    "CREATE TABLE IF NOT EXISTS splits (\n",
    "  split_id     INT AUTO_INCREMENT PRIMARY KEY,\n",
    "  dataset_name VARCHAR(255) NOT NULL,\n",
    "  split_name   VARCHAR(255) NOT NULL,\n",
    "  num_bytes    BIGINT,\n",
    "  num_shards   INT,\n",
    "  UNIQUE KEY ux_dataset_split (dataset_name, split_name),\n",
    "  FOREIGN KEY (dataset_name)\n",
    "    REFERENCES dataset_versions(dataset_name)\n",
    "      ON DELETE CASCADE\n",
    ") ENGINE=InnoDB DEFAULT CHARSET=utf8mb4;\n",
    "\"\"\")\n",
    "q(\"\"\"\n",
    "CREATE TABLE IF NOT EXISTS shards (\n",
    "  shard_id     INT AUTO_INCREMENT PRIMARY KEY,\n",
    "  split_id     INT        NOT NULL,\n",
    "  shard_index  INT        NOT NULL,\n",
    "  num_examples INT        NOT NULL,\n",
    "  filepath     TEXT       NOT NULL,\n",
    "  UNIQUE KEY ux_split_shard (split_id, shard_index),\n",
    "  FOREIGN KEY (split_id)\n",
    "    REFERENCES splits(split_id)\n",
    "      ON DELETE CASCADE\n",
    ") ENGINE=InnoDB DEFAULT CHARSET=utf8mb4;\n",
    "\"\"\")\n"
   ]
  },
  {
   "cell_type": "code",
   "execution_count": 75,
   "id": "20b84a59",
   "metadata": {},
   "outputs": [
    {
     "name": "stdout",
     "output_type": "stream",
     "text": [
      "Query OK.\n",
      "Query OK.\n"
     ]
    }
   ],
   "source": [
    "q(\"\"\"\n",
    "CREATE TABLE IF NOT EXISTS episodes (\n",
    "  episode_id      VARCHAR(255) PRIMARY KEY,\n",
    "  file_path       TEXT        NOT NULL,\n",
    "  recording_path  TEXT        NOT NULL\n",
    ") ENGINE=InnoDB DEFAULT CHARSET=utf8mb4;\n",
    "\"\"\")\n",
    "q(\"\"\"\n",
    "CREATE TABLE IF NOT EXISTS steps (\n",
    "  step_id         BIGINT      PRIMARY KEY AUTO_INCREMENT,\n",
    "  episode_id      VARCHAR(255) NOT NULL,\n",
    "  step_index      INT         NOT NULL,\n",
    "  discount        FLOAT,\n",
    "  is_first        TINYINT(1),\n",
    "  is_last         TINYINT(1),\n",
    "  is_terminal     TINYINT(1),\n",
    "  reward          FLOAT,\n",
    "  lang_inst_1     TEXT,\n",
    "  lang_inst_2     TEXT,\n",
    "  lang_inst_3     TEXT,\n",
    "  action          JSON,\n",
    "  action_dict     JSON,\n",
    "  obs_cart_pos    JSON,\n",
    "  UNIQUE KEY ux_episode_step (episode_id, step_index),\n",
    "  FOREIGN KEY (episode_id)\n",
    "    REFERENCES episodes(episode_id)\n",
    "      ON DELETE CASCADE\n",
    ") ENGINE=InnoDB DEFAULT CHARSET=utf8mb4;\n",
    "\"\"\")\n"
   ]
  },
  {
   "cell_type": "code",
   "execution_count": 76,
   "id": "5be2a695",
   "metadata": {},
   "outputs": [],
   "source": [
    "import json\n",
    "import tensorflow as tf\n",
    "import pymysql\n",
    "from tensorflow.core.example import example_pb2"
   ]
  },
  {
   "cell_type": "code",
   "execution_count": 77,
   "id": "cba77540",
   "metadata": {},
   "outputs": [],
   "source": [
    "def get_bytes(feature, key):\n",
    "    if key in feature and feature[key].bytes_list.value:\n",
    "        return feature[key].bytes_list.value[0].decode('utf-8')\n",
    "    return None\n",
    "\n",
    "def get_floats(feature, key):\n",
    "    return list(feature[key].float_list.value) if key in feature else []"
   ]
  },
  {
   "cell_type": "code",
   "execution_count": 78,
   "id": "9fbc1557",
   "metadata": {},
   "outputs": [
    {
     "ename": "OperationalError",
     "evalue": "(2013, 'Lost connection to MySQL server during query')",
     "output_type": "error",
     "traceback": [
      "\u001b[0;31m---------------------------------------------------------------------------\u001b[0m",
      "\u001b[0;31mOperationalError\u001b[0m                          Traceback (most recent call last)",
      "Cell \u001b[0;32mIn[78], line 15\u001b[0m\n\u001b[1;32m     12\u001b[0m     \u001b[38;5;28;01mcontinue\u001b[39;00m\n\u001b[1;32m     14\u001b[0m \u001b[38;5;66;03m# episodes 테이블에 저장\u001b[39;00m\n\u001b[0;32m---> 15\u001b[0m \u001b[43mcur\u001b[49m\u001b[38;5;241;43m.\u001b[39;49m\u001b[43mexecute\u001b[49m\u001b[43m(\u001b[49m\n\u001b[1;32m     16\u001b[0m \u001b[43m    \u001b[49m\u001b[38;5;124;43m\"\u001b[39;49m\u001b[38;5;124;43mINSERT IGNORE INTO episodes (episode_id, file_path, recording_path) VALUES (\u001b[39;49m\u001b[38;5;132;43;01m%s\u001b[39;49;00m\u001b[38;5;124;43m, \u001b[39;49m\u001b[38;5;132;43;01m%s\u001b[39;49;00m\u001b[38;5;124;43m, \u001b[39;49m\u001b[38;5;132;43;01m%s\u001b[39;49;00m\u001b[38;5;124;43m)\u001b[39;49m\u001b[38;5;124;43m\"\u001b[39;49m\u001b[43m,\u001b[49m\n\u001b[1;32m     17\u001b[0m \u001b[43m    \u001b[49m\u001b[43m(\u001b[49m\u001b[43mepisode_id\u001b[49m\u001b[43m,\u001b[49m\u001b[43m \u001b[49m\u001b[43mshard_fp\u001b[49m\u001b[43m,\u001b[49m\u001b[43m \u001b[49m\u001b[43mrec_path\u001b[49m\u001b[43m)\u001b[49m\n\u001b[1;32m     18\u001b[0m \u001b[43m\u001b[49m\u001b[43m)\u001b[49m\n\u001b[1;32m     20\u001b[0m \u001b[38;5;66;03m# 언어 지시문\u001b[39;00m\n\u001b[1;32m     21\u001b[0m li1 \u001b[38;5;241m=\u001b[39m get_bytes(f, \u001b[38;5;124m\"\u001b[39m\u001b[38;5;124msteps/language_instruction\u001b[39m\u001b[38;5;124m\"\u001b[39m)\n",
      "File \u001b[0;32m~/anaconda3/envs/mysql/lib/python3.10/site-packages/pymysql/cursors.py:153\u001b[0m, in \u001b[0;36mCursor.execute\u001b[0;34m(self, query, args)\u001b[0m\n\u001b[1;32m    149\u001b[0m     \u001b[38;5;28;01mpass\u001b[39;00m\n\u001b[1;32m    151\u001b[0m query \u001b[38;5;241m=\u001b[39m \u001b[38;5;28mself\u001b[39m\u001b[38;5;241m.\u001b[39mmogrify(query, args)\n\u001b[0;32m--> 153\u001b[0m result \u001b[38;5;241m=\u001b[39m \u001b[38;5;28;43mself\u001b[39;49m\u001b[38;5;241;43m.\u001b[39;49m\u001b[43m_query\u001b[49m\u001b[43m(\u001b[49m\u001b[43mquery\u001b[49m\u001b[43m)\u001b[49m\n\u001b[1;32m    154\u001b[0m \u001b[38;5;28mself\u001b[39m\u001b[38;5;241m.\u001b[39m_executed \u001b[38;5;241m=\u001b[39m query\n\u001b[1;32m    155\u001b[0m \u001b[38;5;28;01mreturn\u001b[39;00m result\n",
      "File \u001b[0;32m~/anaconda3/envs/mysql/lib/python3.10/site-packages/pymysql/cursors.py:322\u001b[0m, in \u001b[0;36mCursor._query\u001b[0;34m(self, q)\u001b[0m\n\u001b[1;32m    320\u001b[0m conn \u001b[38;5;241m=\u001b[39m \u001b[38;5;28mself\u001b[39m\u001b[38;5;241m.\u001b[39m_get_db()\n\u001b[1;32m    321\u001b[0m \u001b[38;5;28mself\u001b[39m\u001b[38;5;241m.\u001b[39m_clear_result()\n\u001b[0;32m--> 322\u001b[0m \u001b[43mconn\u001b[49m\u001b[38;5;241;43m.\u001b[39;49m\u001b[43mquery\u001b[49m\u001b[43m(\u001b[49m\u001b[43mq\u001b[49m\u001b[43m)\u001b[49m\n\u001b[1;32m    323\u001b[0m \u001b[38;5;28mself\u001b[39m\u001b[38;5;241m.\u001b[39m_do_get_result()\n\u001b[1;32m    324\u001b[0m \u001b[38;5;28;01mreturn\u001b[39;00m \u001b[38;5;28mself\u001b[39m\u001b[38;5;241m.\u001b[39mrowcount\n",
      "File \u001b[0;32m~/anaconda3/envs/mysql/lib/python3.10/site-packages/pymysql/connections.py:563\u001b[0m, in \u001b[0;36mConnection.query\u001b[0;34m(self, sql, unbuffered)\u001b[0m\n\u001b[1;32m    561\u001b[0m     sql \u001b[38;5;241m=\u001b[39m sql\u001b[38;5;241m.\u001b[39mencode(\u001b[38;5;28mself\u001b[39m\u001b[38;5;241m.\u001b[39mencoding, \u001b[38;5;124m\"\u001b[39m\u001b[38;5;124msurrogateescape\u001b[39m\u001b[38;5;124m\"\u001b[39m)\n\u001b[1;32m    562\u001b[0m \u001b[38;5;28mself\u001b[39m\u001b[38;5;241m.\u001b[39m_execute_command(COMMAND\u001b[38;5;241m.\u001b[39mCOM_QUERY, sql)\n\u001b[0;32m--> 563\u001b[0m \u001b[38;5;28mself\u001b[39m\u001b[38;5;241m.\u001b[39m_affected_rows \u001b[38;5;241m=\u001b[39m \u001b[38;5;28;43mself\u001b[39;49m\u001b[38;5;241;43m.\u001b[39;49m\u001b[43m_read_query_result\u001b[49m\u001b[43m(\u001b[49m\u001b[43munbuffered\u001b[49m\u001b[38;5;241;43m=\u001b[39;49m\u001b[43munbuffered\u001b[49m\u001b[43m)\u001b[49m\n\u001b[1;32m    564\u001b[0m \u001b[38;5;28;01mreturn\u001b[39;00m \u001b[38;5;28mself\u001b[39m\u001b[38;5;241m.\u001b[39m_affected_rows\n",
      "File \u001b[0;32m~/anaconda3/envs/mysql/lib/python3.10/site-packages/pymysql/connections.py:825\u001b[0m, in \u001b[0;36mConnection._read_query_result\u001b[0;34m(self, unbuffered)\u001b[0m\n\u001b[1;32m    823\u001b[0m \u001b[38;5;28;01melse\u001b[39;00m:\n\u001b[1;32m    824\u001b[0m     result \u001b[38;5;241m=\u001b[39m MySQLResult(\u001b[38;5;28mself\u001b[39m)\n\u001b[0;32m--> 825\u001b[0m     \u001b[43mresult\u001b[49m\u001b[38;5;241;43m.\u001b[39;49m\u001b[43mread\u001b[49m\u001b[43m(\u001b[49m\u001b[43m)\u001b[49m\n\u001b[1;32m    826\u001b[0m \u001b[38;5;28mself\u001b[39m\u001b[38;5;241m.\u001b[39m_result \u001b[38;5;241m=\u001b[39m result\n\u001b[1;32m    827\u001b[0m \u001b[38;5;28;01mif\u001b[39;00m result\u001b[38;5;241m.\u001b[39mserver_status \u001b[38;5;129;01mis\u001b[39;00m \u001b[38;5;129;01mnot\u001b[39;00m \u001b[38;5;28;01mNone\u001b[39;00m:\n",
      "File \u001b[0;32m~/anaconda3/envs/mysql/lib/python3.10/site-packages/pymysql/connections.py:1199\u001b[0m, in \u001b[0;36mMySQLResult.read\u001b[0;34m(self)\u001b[0m\n\u001b[1;32m   1197\u001b[0m \u001b[38;5;28;01mdef\u001b[39;00m\u001b[38;5;250m \u001b[39m\u001b[38;5;21mread\u001b[39m(\u001b[38;5;28mself\u001b[39m):\n\u001b[1;32m   1198\u001b[0m     \u001b[38;5;28;01mtry\u001b[39;00m:\n\u001b[0;32m-> 1199\u001b[0m         first_packet \u001b[38;5;241m=\u001b[39m \u001b[38;5;28;43mself\u001b[39;49m\u001b[38;5;241;43m.\u001b[39;49m\u001b[43mconnection\u001b[49m\u001b[38;5;241;43m.\u001b[39;49m\u001b[43m_read_packet\u001b[49m\u001b[43m(\u001b[49m\u001b[43m)\u001b[49m\n\u001b[1;32m   1201\u001b[0m         \u001b[38;5;28;01mif\u001b[39;00m first_packet\u001b[38;5;241m.\u001b[39mis_ok_packet():\n\u001b[1;32m   1202\u001b[0m             \u001b[38;5;28mself\u001b[39m\u001b[38;5;241m.\u001b[39m_read_ok_packet(first_packet)\n",
      "File \u001b[0;32m~/anaconda3/envs/mysql/lib/python3.10/site-packages/pymysql/connections.py:744\u001b[0m, in \u001b[0;36mConnection._read_packet\u001b[0;34m(self, packet_type)\u001b[0m\n\u001b[1;32m    742\u001b[0m buff \u001b[38;5;241m=\u001b[39m \u001b[38;5;28mbytearray\u001b[39m()\n\u001b[1;32m    743\u001b[0m \u001b[38;5;28;01mwhile\u001b[39;00m \u001b[38;5;28;01mTrue\u001b[39;00m:\n\u001b[0;32m--> 744\u001b[0m     packet_header \u001b[38;5;241m=\u001b[39m \u001b[38;5;28;43mself\u001b[39;49m\u001b[38;5;241;43m.\u001b[39;49m\u001b[43m_read_bytes\u001b[49m\u001b[43m(\u001b[49m\u001b[38;5;241;43m4\u001b[39;49m\u001b[43m)\u001b[49m\n\u001b[1;32m    745\u001b[0m     \u001b[38;5;66;03m# if DEBUG: dump_packet(packet_header)\u001b[39;00m\n\u001b[1;32m    747\u001b[0m     btrl, btrh, packet_number \u001b[38;5;241m=\u001b[39m struct\u001b[38;5;241m.\u001b[39munpack(\u001b[38;5;124m\"\u001b[39m\u001b[38;5;124m<HBB\u001b[39m\u001b[38;5;124m\"\u001b[39m, packet_header)\n",
      "File \u001b[0;32m~/anaconda3/envs/mysql/lib/python3.10/site-packages/pymysql/connections.py:798\u001b[0m, in \u001b[0;36mConnection._read_bytes\u001b[0;34m(self, num_bytes)\u001b[0m\n\u001b[1;32m    796\u001b[0m \u001b[38;5;28;01mif\u001b[39;00m \u001b[38;5;28mlen\u001b[39m(data) \u001b[38;5;241m<\u001b[39m num_bytes:\n\u001b[1;32m    797\u001b[0m     \u001b[38;5;28mself\u001b[39m\u001b[38;5;241m.\u001b[39m_force_close()\n\u001b[0;32m--> 798\u001b[0m     \u001b[38;5;28;01mraise\u001b[39;00m err\u001b[38;5;241m.\u001b[39mOperationalError(\n\u001b[1;32m    799\u001b[0m         CR\u001b[38;5;241m.\u001b[39mCR_SERVER_LOST, \u001b[38;5;124m\"\u001b[39m\u001b[38;5;124mLost connection to MySQL server during query\u001b[39m\u001b[38;5;124m\"\u001b[39m\n\u001b[1;32m    800\u001b[0m     )\n\u001b[1;32m    801\u001b[0m \u001b[38;5;28;01mreturn\u001b[39;00m data\n",
      "\u001b[0;31mOperationalError\u001b[0m: (2013, 'Lost connection to MySQL server during query')"
     ]
    }
   ],
   "source": [
    "for step_idx, raw_record in enumerate(ds):\n",
    "    ex = example_pb2.Example()\n",
    "    ex.ParseFromString(raw_record.numpy())\n",
    "    f = ex.features.feature\n",
    "\n",
    "    # episode metadata\n",
    "    episode_id = get_bytes(f, \"episode_metadata/file_path\")\n",
    "    rec_path   = get_bytes(f, \"episode_metadata/recording_folderpath\")\n",
    "\n",
    "    if not episode_id or not rec_path:\n",
    "        print(f\"스킵 (episode_id 또는 rec_path 누락) at record {step_idx}\")\n",
    "        continue\n",
    "\n",
    "    # episodes 테이블에 저장\n",
    "    cur.execute(\n",
    "        \"INSERT IGNORE INTO episodes (episode_id, file_path, recording_path) VALUES (%s, %s, %s)\",\n",
    "        (episode_id, shard_fp, rec_path)\n",
    "    )\n",
    "\n",
    "    # 언어 지시문\n",
    "    li1 = get_bytes(f, \"steps/language_instruction\")\n",
    "    li2 = get_bytes(f, \"steps/language_instruction_2\")\n",
    "    li3 = get_bytes(f, \"steps/language_instruction_3\")\n",
    "\n",
    "    # 기본 스칼라 값들\n",
    "    discount = f[\"steps/discount\"].float_list.value[0]      if \"steps/discount\" in f      else None\n",
    "    is_first = int(f[\"steps/is_first\"].int64_list.value[0]) if \"steps/is_first\" in f     else 0\n",
    "    is_last  = int(f[\"steps/is_last\"].int64_list.value[0])  if \"steps/is_last\" in f      else 0\n",
    "    is_term  = int(f[\"steps/is_terminal\"].int64_list.value[0]) if \"steps/is_terminal\" in f else 0\n",
    "    reward   = f[\"steps/reward\"].float_list.value[0]        if \"steps/reward\" in f        else None\n",
    "\n",
    "    # 액션 벡터 (기존 `steps/action`)\n",
    "    action = json.dumps(get_floats(f, \"steps/action\"))\n",
    "\n",
    "    # action_dict 안의 여러 필드를 통째로 저장\n",
    "    action_dict = {}\n",
    "    for key in f:\n",
    "        if key.startswith(\"steps/action_dict/\"):\n",
    "            subkey = key.split(\"/\", 2)[-1]  # e.g. \"cartesian_position\"\n",
    "            action_dict[subkey] = get_floats(f, key)\n",
    "    action_dict_json = json.dumps(action_dict)\n",
    "\n",
    "    # 관절 위치 관찰값 중 cartesian_position 하나만 예시로\n",
    "    obs_cart = get_floats(f, \"steps/observation/cartesian_position\")\n",
    "    obs_cart_json = json.dumps(obs_cart)\n",
    "\n",
    "    # steps 테이블에 저장\n",
    "    cur.execute(\n",
    "        \"\"\"\n",
    "        INSERT INTO steps\n",
    "          (episode_id, step_index, discount, is_first, is_last, is_terminal,\n",
    "           reward, lang_inst_1, lang_inst_2, lang_inst_3,\n",
    "           action, action_dict, obs_cart_pos)\n",
    "        VALUES (%s, %s, %s, %s, %s, %s, %s, %s, %s, %s, %s, %s, %s)\n",
    "        \"\"\",\n",
    "        (episode_id,\n",
    "         step_idx,\n",
    "         discount, is_first, is_last, is_term,\n",
    "         reward,\n",
    "         li1, li2, li3,\n",
    "         action, action_dict_json, obs_cart_json)\n",
    "    )\n",
    "\n",
    "conn.commit()\n",
    "print(\"✅ 모든 레코드 적재 완료\")"
   ]
  }
 ],
 "metadata": {
  "kernelspec": {
   "display_name": "mysql",
   "language": "python",
   "name": "python3"
  },
  "language_info": {
   "codemirror_mode": {
    "name": "ipython",
    "version": 3
   },
   "file_extension": ".py",
   "mimetype": "text/x-python",
   "name": "python",
   "nbconvert_exporter": "python",
   "pygments_lexer": "ipython3",
   "version": "3.10.12"
  }
 },
 "nbformat": 4,
 "nbformat_minor": 5
}
