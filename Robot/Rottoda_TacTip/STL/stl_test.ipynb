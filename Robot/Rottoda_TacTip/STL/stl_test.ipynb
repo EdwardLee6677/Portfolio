{
 "cells": [
  {
   "cell_type": "code",
   "execution_count": 1,
   "id": "6ec0f96c",
   "metadata": {},
   "outputs": [
    {
     "name": "stdout",
     "output_type": "stream",
     "text": [
      "[[19.745987  15.015604   3.4348643 ... 19.886633  15.015604   3.5791461]\n",
      " [19.886633  15.015604   3.5791461 ... 20.024752  24.484396   3.7258468]\n",
      " [19.886633  15.015604   3.5791461 ... 20.024752  15.015604   3.7258468]\n",
      " ...\n",
      " [19.702839  31.11759   10.        ... 18.965101  31.792679  10.       ]\n",
      " [18.965101  31.792679  10.        ... 19.006403  31.73317   10.       ]\n",
      " [22.115494  27.582209  10.        ... 22.12538   27.587095  10.       ]]\n"
     ]
    }
   ],
   "source": [
    "import os\n",
    "from stl import mesh\n",
    "import numpy as np\n",
    "\n",
    "tactip_mesh = mesh.Mesh.from_file('face.stl')\n",
    "\n",
    "print(tactip_mesh.points)"
   ]
  },
  {
   "cell_type": "code",
   "execution_count": null,
   "id": "c08a7650",
   "metadata": {},
   "outputs": [
    {
     "name": "stdout",
     "output_type": "stream",
     "text": [
      "(60114, 9)\n"
     ]
    }
   ],
   "source": [
    "print(tactip_mesh.points.shape)\n"
   ]
  },
  {
   "cell_type": "code",
   "execution_count": 14,
   "id": "3e0adf89",
   "metadata": {},
   "outputs": [],
   "source": [
    "%matplotlib qt"
   ]
  },
  {
   "cell_type": "markdown",
   "id": "ba12b354",
   "metadata": {},
   "source": []
  },
  {
   "cell_type": "code",
   "execution_count": 15,
   "id": "b8e92ed7",
   "metadata": {},
   "outputs": [],
   "source": [
    "import numpy as np\n",
    "import trimesh\n",
    "import matplotlib.pyplot as plt\n",
    "from mpl_toolkits.mplot3d.art3d import Poly3DCollection\n",
    "\n",
    "def set_axes_equal(ax):\n",
    "    \"\"\"Make axes of 3D plot have equal scale.\"\"\"\n",
    "    x_limits = ax.get_xlim3d()\n",
    "    y_limits = ax.get_ylim3d()\n",
    "    z_limits = ax.get_zlim3d()\n",
    "    x_range = x_limits[1] - x_limits[0]\n",
    "    y_range = y_limits[1] - y_limits[0]\n",
    "    z_range = z_limits[1] - z_limits[0]\n",
    "    max_range = max(x_range, y_range, z_range) / 2.0\n",
    "\n",
    "    x_middle = np.mean(x_limits)\n",
    "    y_middle = np.mean(y_limits)\n",
    "    z_middle = np.mean(z_limits)\n",
    "\n",
    "    #ax.set_xlim3d(x_middle - max_range, x_middle + max_range)\n",
    "    #ax.set_ylim3d(y_middle - max_range, y_middle + max_range)\n",
    "    #ax.set_zlim3d(z_middle - max_range, z_middle + max_range)\n",
    "    ax.set_xlim3d(0, 30)\n",
    "    ax.set_ylim3d(0, 30)\n",
    "    ax.set_zlim3d(0, 30)\n",
    "\n",
    "# ---- 실제 시각화 코드 ----\n",
    "mesh_data = trimesh.load_mesh('face.stl')\n",
    "triangles = mesh_data.triangles\n",
    "\n",
    "fig = plt.figure()\n",
    "ax = fig.add_subplot(111, projection='3d')\n",
    "ax.add_collection3d(Poly3DCollection(triangles, linewidths=0.1, alpha=0.5))\n",
    "\n",
    "all_pts = triangles.reshape(-1,3)\n",
    "ax.auto_scale_xyz(all_pts[:,0], all_pts[:,1], all_pts[:,2])\n",
    "\n",
    "set_axes_equal(ax)  # ← 이 한 줄로 축 스케일 통일!\n",
    "\n",
    "ax.set_xlabel('X')\n",
    "ax.set_ylabel('Y')\n",
    "ax.set_zlabel('Z')\n",
    "plt.show()"
   ]
  },
  {
   "cell_type": "code",
   "execution_count": 17,
   "id": "0cd393d5",
   "metadata": {},
   "outputs": [],
   "source": [
    "import os\n",
    "os.environ['OPEN3D_DISABLE_WEB_VISUALIZER'] = 'true'\n",
    "import open3d as o3d\n",
    "\n",
    "mesh = o3d.io.read_triangle_mesh(\"face.stl\")\n",
    "o3d.visualization.draw_geometries([mesh])  # 별도 GUI 창이 뜹니다"
   ]
  }
 ],
 "metadata": {
  "kernelspec": {
   "display_name": "tactip",
   "language": "python",
   "name": "python3"
  },
  "language_info": {
   "codemirror_mode": {
    "name": "ipython",
    "version": 3
   },
   "file_extension": ".py",
   "mimetype": "text/x-python",
   "name": "python",
   "nbconvert_exporter": "python",
   "pygments_lexer": "ipython3",
   "version": "3.12.11"
  }
 },
 "nbformat": 4,
 "nbformat_minor": 5
}
